{
 "cells": [
  {
   "cell_type": "markdown",
   "metadata": {
    "colab_type": "text",
    "id": "BMYLBnnY9aFM"
   },
   "source": [
    "# Assignment 3.2\n",
    "\n",
    "Irfan Nur Afif (1035476)\n",
    "\n",
    "Timothy Aerts (0756341)"
   ]
  },
  {
   "cell_type": "markdown",
   "metadata": {
    "colab_type": "text",
    "id": "VUO85HFk9aFO"
   },
   "source": [
    "# Sequence classification model"
   ]
  },
  {
   "cell_type": "code",
   "execution_count": 1,
   "metadata": {
    "colab": {
     "autoexec": {
      "startup": false,
      "wait_interval": 0
     }
    },
    "colab_type": "code",
    "id": "rVAiJG7J9aFP"
   },
   "outputs": [],
   "source": [
    "from __future__ import print_function"
   ]
  },
  {
   "cell_type": "markdown",
   "metadata": {
    "colab_type": "text",
    "id": "Q6pi8Nec9aFS"
   },
   "source": [
    "## 1. Preprocess data"
   ]
  },
  {
   "cell_type": "markdown",
   "metadata": {
    "colab_type": "text",
    "id": "MUo7d0si9aFS"
   },
   "source": [
    "#### Tasks:\n",
    "\n",
    "* Create word vocabulary index (use 10.000 most frequent words)\n",
    "* Preprocess training and validation set for model input. Use vocabulary index as lookup dictionary to transform raw text into integer sequences. You may use code from Practical 5."
   ]
  },
  {
   "cell_type": "code",
   "execution_count": 2,
   "metadata": {
    "colab": {
     "autoexec": {
      "startup": false,
      "wait_interval": 0
     }
    },
    "colab_type": "code",
    "id": "JEWjCxQE9aFT"
   },
   "outputs": [],
   "source": [
    "import os\n",
    "import sys\n",
    "import numpy as np\n",
    "import pandas as pd\n",
    "import re\n",
    "import nltk\n",
    "\n",
    "import io as io\n",
    "DATA_PATH = 'data'\n",
    "EMBEDDING_PATH = 'embedding'\n",
    "MODEL_PATH = 'model'\n"
   ]
  },
  {
   "cell_type": "code",
   "execution_count": 3,
   "metadata": {
    "colab": {
     "autoexec": {
      "startup": false,
      "wait_interval": 0
     },
     "base_uri": "https://localhost:8080/",
     "height": 231
    },
    "colab_type": "code",
    "executionInfo": {
     "elapsed": 449,
     "status": "error",
     "timestamp": 1523310141042,
     "user": {
      "displayName": "Timothy Aerts",
      "photoUrl": "https://lh3.googleusercontent.com/a/default-user=s128",
      "userId": "114249465215328468497"
     },
     "user_tz": -120
    },
    "id": "zXGq6OFL9aFV",
    "outputId": "56469d06-6db4-4683-859f-4740ab293d19"
   },
   "outputs": [],
   "source": [
    "\n",
    "def striphtml(html):\n",
    "    p = re.compile(r'<.*?>')\n",
    "    return p.sub('', html)\n",
    "\n",
    "def clean(s):\n",
    "    return re.sub(r'[^\\x00-\\x7f]', r'', s)\n",
    "\n",
    "train_data = pd.read_csv(os.path.join(DATA_PATH,\"trainingData.tsv\"), header=0, delimiter=\"\\t\")\n",
    "valid_data = pd.read_csv(os.path.join(DATA_PATH,\"validationData.tsv\"), header=0, delimiter=\"\\t\")\n",
    "\n",
    "train_docs = []\n",
    "train_labels = []\n",
    "for cont, sentiment in zip(train_data.review, train_data.sentiment):\n",
    "    \n",
    "    doc = clean(striphtml(cont))\n",
    "    doc = doc.lower() \n",
    "    train_docs.append(doc)\n",
    "    train_labels.append(sentiment)\n",
    "\n",
    "valid_docs =[]\n",
    "valid_labels = []\n",
    "i=0\n",
    "for docid,cont in zip(valid_data.id, valid_data.review):\n",
    "    \n",
    "    id_label = docid.split('_')\n",
    "    # if rating >= 7, then assign 1 (positive sentiment) as label\n",
    "    if(int(id_label[1]) >= 7):\n",
    "        valid_labels.append(1)\n",
    "    # else, assign 0 (negative sentiment) as label\n",
    "    else:\n",
    "        valid_labels.append(0)         \n",
    "    doc = clean(striphtml(cont))\n",
    "    doc = doc.lower() \n",
    "    valid_docs.append(doc)\n",
    "\n"
   ]
  },
  {
   "cell_type": "code",
   "execution_count": 4,
   "metadata": {
    "colab": {
     "autoexec": {
      "startup": false,
      "wait_interval": 0
     },
     "base_uri": "https://localhost:8080/",
     "height": 34
    },
    "colab_type": "code",
    "executionInfo": {
     "elapsed": 11715,
     "status": "ok",
     "timestamp": 1523301770800,
     "user": {
      "displayName": "Timothy Aerts",
      "photoUrl": "https://lh3.googleusercontent.com/a/default-user=s128",
      "userId": "114249465215328468497"
     },
     "user_tz": -120
    },
    "id": "J34S1WvQ9aFX",
    "outputId": "630e1f17-bfb5-4d64-ea6e-6e827df50f72"
   },
   "outputs": [
    {
     "name": "stderr",
     "output_type": "stream",
     "text": [
      "C:\\Users\\timothy\\Anaconda3\\envs\\recsys\\lib\\site-packages\\h5py\\__init__.py:36: FutureWarning: Conversion of the second argument of issubdtype from `float` to `np.floating` is deprecated. In future, it will be treated as `np.float64 == np.dtype(float).type`.\n",
      "  from ._conv import register_converters as _register_converters\n",
      "Using TensorFlow backend.\n"
     ]
    }
   ],
   "source": [
    "from keras.preprocessing.text import Tokenizer\n",
    "from keras.preprocessing.sequence import pad_sequences\n",
    "voc_length = 10000\n",
    "tokenizer = Tokenizer(num_words=voc_length)\n",
    "tokenizer.fit_on_texts(train_docs)\n",
    "training_seq = tokenizer.texts_to_sequences(train_docs)\n",
    "val_seq = tokenizer.texts_to_sequences(valid_docs)"
   ]
  },
  {
   "cell_type": "code",
   "execution_count": null,
   "metadata": {
    "colab": {
     "autoexec": {
      "startup": false,
      "wait_interval": 0
     }
    },
    "colab_type": "code",
    "id": "Bu8uHUYD9f9E"
   },
   "outputs": [],
   "source": []
  },
  {
   "cell_type": "code",
   "execution_count": 5,
   "metadata": {
    "colab": {
     "autoexec": {
      "startup": false,
      "wait_interval": 0
     },
     "base_uri": "https://localhost:8080/",
     "height": 34
    },
    "colab_type": "code",
    "executionInfo": {
     "elapsed": 464,
     "status": "ok",
     "timestamp": 1523301772141,
     "user": {
      "displayName": "Timothy Aerts",
      "photoUrl": "https://lh3.googleusercontent.com/a/default-user=s128",
      "userId": "114249465215328468497"
     },
     "user_tz": -120
    },
    "id": "MltIle2p9aFa",
    "outputId": "c0c5bd26-1930-4a47-a225-9aa3c7c7bb55"
   },
   "outputs": [
    {
     "name": "stdout",
     "output_type": "stream",
     "text": [
      "{0, 1} {0, 1}\n"
     ]
    }
   ],
   "source": [
    "#check if no other labels than 0,1 are present\n",
    "print(set(train_labels),set(valid_labels))"
   ]
  },
  {
   "cell_type": "code",
   "execution_count": 6,
   "metadata": {
    "colab": {
     "autoexec": {
      "startup": false,
      "wait_interval": 0
     },
     "base_uri": "https://localhost:8080/",
     "height": 51
    },
    "colab_type": "code",
    "executionInfo": {
     "elapsed": 1637,
     "status": "ok",
     "timestamp": 1523301774018,
     "user": {
      "displayName": "Timothy Aerts",
      "photoUrl": "https://lh3.googleusercontent.com/a/default-user=s128",
      "userId": "114249465215328468497"
     },
     "user_tz": -120
    },
    "id": "_V8j9Lgw9aFe",
    "outputId": "521ebde2-bf5b-46d7-8b03-7e1e7efc1b13"
   },
   "outputs": [
    {
     "name": "stdout",
     "output_type": "stream",
     "text": [
      "(12000, 500) (12000,)\n",
      "(2000, 500) (2000,)\n"
     ]
    }
   ],
   "source": [
    "# provide model inputs (sequences from training and validation set) and outputs (sentiment labels)\n",
    "max_len = 500\n",
    "\n",
    "x_train = pad_sequences(training_seq,maxlen=max_len)[:12000]\n",
    "y_train = np.array(train_labels)[:12000]\n",
    "x_validation =  pad_sequences(val_seq,maxlen=max_len)[:2000]\n",
    "y_validation = np.array(valid_labels)[:2000]\n",
    "\n",
    "print(x_train.shape,y_train.shape)\n",
    "print(x_validation.shape,y_validation.shape)"
   ]
  },
  {
   "cell_type": "markdown",
   "metadata": {
    "colab_type": "text",
    "id": "XNeZl2_T9aFh"
   },
   "source": [
    "## 2. Sequence classification model"
   ]
  },
  {
   "cell_type": "markdown",
   "metadata": {
    "colab_type": "text",
    "id": "4kyFaLH-9aFh"
   },
   "source": [
    "#### Tasks: \n",
    "\n",
    "* Create a RNN model to classify sequence of words on a binary classification task\n",
    "* Compare four (4) different gate memory units\n",
    "* Plot model performance (loss and accuracy) of these 4 models\n",
    "* Present the performance (loss and accuarcy) of these 4 models in a comparison table"
   ]
  },
  {
   "cell_type": "code",
   "execution_count": 7,
   "metadata": {
    "colab": {
     "autoexec": {
      "startup": false,
      "wait_interval": 0
     }
    },
    "colab_type": "code",
    "id": "cHNQKo5r9aFi"
   },
   "outputs": [],
   "source": [
    "import keras\n",
    "from keras.layers import Input, Embedding, LSTM, Dense, GRU,Dropout\n",
    "from keras.models import Model\n",
    "# decide number of epochs and batch_size\n",
    "\n",
    "emb_length = 64\n",
    "\n"
   ]
  },
  {
   "cell_type": "markdown",
   "metadata": {
    "colab_type": "text",
    "id": "utrlcFMA9aFl"
   },
   "source": [
    "### Model 1 : LSTM"
   ]
  },
  {
   "cell_type": "code",
   "execution_count": 8,
   "metadata": {
    "colab": {
     "autoexec": {
      "startup": false,
      "wait_interval": 0
     },
     "base_uri": "https://localhost:8080/",
     "height": 272
    },
    "colab_type": "code",
    "executionInfo": {
     "elapsed": 679,
     "status": "ok",
     "timestamp": 1523301775484,
     "user": {
      "displayName": "Timothy Aerts",
      "photoUrl": "https://lh3.googleusercontent.com/a/default-user=s128",
      "userId": "114249465215328468497"
     },
     "user_tz": -120
    },
    "id": "klWVNvow9aFl",
    "outputId": "f9ce5c06-cb11-404f-a374-c1c5490b185e"
   },
   "outputs": [
    {
     "name": "stdout",
     "output_type": "stream",
     "text": [
      "_________________________________________________________________\n",
      "Layer (type)                 Output Shape              Param #   \n",
      "=================================================================\n",
      "input_layer (InputLayer)     (None, 500)               0         \n",
      "_________________________________________________________________\n",
      "word_embedding (Embedding)   (None, 500, 128)          1280000   \n",
      "_________________________________________________________________\n",
      "dropout_1 (Dropout)          (None, 500, 128)          0         \n",
      "_________________________________________________________________\n",
      "lstm_layer (LSTM)            (None, 64)                49408     \n",
      "_________________________________________________________________\n",
      "prediction_layer (Dense)     (None, 1)                 65        \n",
      "=================================================================\n",
      "Total params: 1,329,473\n",
      "Trainable params: 1,329,473\n",
      "Non-trainable params: 0\n",
      "_________________________________________________________________\n"
     ]
    }
   ],
   "source": [
    "# YOUR CODE HERE\n",
    "# MODEL-1: LSTM\n",
    "\n",
    "# construct the model\n",
    "nr_lstm = 64\n",
    "\n",
    "sequence_input  =Input(shape=(max_len,),name='input_layer')\n",
    "embedding_layer = Embedding(voc_length,128,input_length=500,name='word_embedding')\n",
    "embedded_sequences = embedding_layer(sequence_input)\n",
    "drop = Dropout(0.5)(embedded_sequences)\n",
    "lstm_layer = LSTM(nr_lstm,name='lstm_layer')(drop)\n",
    "output_layer = Dense(1,name='prediction_layer',activation='sigmoid')(lstm_layer)\n",
    "lstm_model = Model(sequence_input,output_layer)\n",
    "lstm_model.summary()\n"
   ]
  },
  {
   "cell_type": "markdown",
   "metadata": {
    "colab_type": "text",
    "id": "EifiGlZM9aFo"
   },
   "source": [
    "### Model 2: GRU"
   ]
  },
  {
   "cell_type": "code",
   "execution_count": 9,
   "metadata": {
    "colab": {
     "autoexec": {
      "startup": false,
      "wait_interval": 0
     },
     "base_uri": "https://localhost:8080/",
     "height": 272
    },
    "colab_type": "code",
    "executionInfo": {
     "elapsed": 484,
     "status": "ok",
     "timestamp": 1523301776185,
     "user": {
      "displayName": "Timothy Aerts",
      "photoUrl": "https://lh3.googleusercontent.com/a/default-user=s128",
      "userId": "114249465215328468497"
     },
     "user_tz": -120
    },
    "id": "v5l4sME89aFp",
    "outputId": "00b6aa1f-978f-47ce-8123-f3d91325b224"
   },
   "outputs": [
    {
     "name": "stdout",
     "output_type": "stream",
     "text": [
      "_________________________________________________________________\n",
      "Layer (type)                 Output Shape              Param #   \n",
      "=================================================================\n",
      "input_layer (InputLayer)     (None, 500)               0         \n",
      "_________________________________________________________________\n",
      "word_embedding (Embedding)   (None, 500, 128)          1280000   \n",
      "_________________________________________________________________\n",
      "dropout_2 (Dropout)          (None, 500, 128)          0         \n",
      "_________________________________________________________________\n",
      "gru_layer (GRU)              (None, 64)                37056     \n",
      "_________________________________________________________________\n",
      "prediction_layer (Dense)     (None, 1)                 65        \n",
      "=================================================================\n",
      "Total params: 1,317,121\n",
      "Trainable params: 1,317,121\n",
      "Non-trainable params: 0\n",
      "_________________________________________________________________\n"
     ]
    }
   ],
   "source": [
    "# YOUR CODE HERE\n",
    "# MODEL-2: GRU\n",
    "nr_gru = 64\n",
    "# construct the model\n",
    "sequence_input  =Input(shape=(max_len,),name='input_layer')\n",
    "embedding_layer = Embedding(voc_length,128,input_length=500,name='word_embedding')\n",
    "embedded_sequences = embedding_layer(sequence_input)\n",
    "drop = Dropout(0.5)(embedded_sequences)\n",
    "gru_layer = GRU(nr_gru,name='gru_layer')(drop)\n",
    "output_layer = Dense(1,name='prediction_layer',activation='sigmoid')(gru_layer)\n",
    "gru_model = Model(sequence_input,output_layer)\n",
    "gru_model.summary()\n"
   ]
  },
  {
   "cell_type": "markdown",
   "metadata": {
    "colab_type": "text",
    "id": "CZY2z0Qe9aFr"
   },
   "source": [
    "### Model 3 : Bidirectional LSTM"
   ]
  },
  {
   "cell_type": "code",
   "execution_count": 10,
   "metadata": {
    "colab": {
     "autoexec": {
      "startup": false,
      "wait_interval": 0
     },
     "base_uri": "https://localhost:8080/",
     "height": 272
    },
    "colab_type": "code",
    "executionInfo": {
     "elapsed": 1050,
     "status": "ok",
     "timestamp": 1523301777732,
     "user": {
      "displayName": "Timothy Aerts",
      "photoUrl": "https://lh3.googleusercontent.com/a/default-user=s128",
      "userId": "114249465215328468497"
     },
     "user_tz": -120
    },
    "id": "5CPQiCUn9aFs",
    "outputId": "c545fbde-33d0-40c1-88f8-c24ea935c10f"
   },
   "outputs": [
    {
     "name": "stdout",
     "output_type": "stream",
     "text": [
      "_________________________________________________________________\n",
      "Layer (type)                 Output Shape              Param #   \n",
      "=================================================================\n",
      "input_layer (InputLayer)     (None, 500)               0         \n",
      "_________________________________________________________________\n",
      "word_embedding (Embedding)   (None, 500, 128)          1280000   \n",
      "_________________________________________________________________\n",
      "bidirectional (Bidirectional (None, 128)               98816     \n",
      "_________________________________________________________________\n",
      "prediction_layer (Dense)     (None, 1)                 129       \n",
      "=================================================================\n",
      "Total params: 1,378,945\n",
      "Trainable params: 1,378,945\n",
      "Non-trainable params: 0\n",
      "_________________________________________________________________\n"
     ]
    }
   ],
   "source": [
    "from keras.layers import Bidirectional\n",
    "# MODEL-3: Bidirectional LSTM\n",
    "\n",
    "# construct the model\n",
    "sequence_input  =Input(shape=(max_len,),name='input_layer')\n",
    "embedding_layer = Embedding(voc_length,128,input_length=500,name='word_embedding')\n",
    "embedded_sequences = embedding_layer(sequence_input)\n",
    "bilstm_layer = Bidirectional(LSTM(nr_lstm,name='bilstm_layer'),name='bidirectional')(embedded_sequences)\n",
    "output_layer = Dense(1,name='prediction_layer',activation='sigmoid')(bilstm_layer)\n",
    "bilstm_model  = Model(sequence_input,output_layer)\n",
    "bilstm_model.summary()\n",
    "\n"
   ]
  },
  {
   "cell_type": "markdown",
   "metadata": {
    "colab_type": "text",
    "id": "Cytc0y1K9aFw"
   },
   "source": [
    "### Model 4 : Bidirectional GRU"
   ]
  },
  {
   "cell_type": "code",
   "execution_count": 11,
   "metadata": {
    "colab": {
     "autoexec": {
      "startup": false,
      "wait_interval": 0
     },
     "base_uri": "https://localhost:8080/",
     "height": 272
    },
    "colab_type": "code",
    "executionInfo": {
     "elapsed": 734,
     "status": "ok",
     "timestamp": 1523301778507,
     "user": {
      "displayName": "Timothy Aerts",
      "photoUrl": "https://lh3.googleusercontent.com/a/default-user=s128",
      "userId": "114249465215328468497"
     },
     "user_tz": -120
    },
    "id": "ieXALj5S9aFy",
    "outputId": "07599e30-0cb1-4a2f-91d0-6f24ed24f58d"
   },
   "outputs": [
    {
     "name": "stdout",
     "output_type": "stream",
     "text": [
      "_________________________________________________________________\n",
      "Layer (type)                 Output Shape              Param #   \n",
      "=================================================================\n",
      "input_layer (InputLayer)     (None, 500)               0         \n",
      "_________________________________________________________________\n",
      "word_embedding (Embedding)   (None, 500, 128)          1280000   \n",
      "_________________________________________________________________\n",
      "bidirectional (Bidirectional (None, 128)               74112     \n",
      "_________________________________________________________________\n",
      "prediction_layer (Dense)     (None, 1)                 129       \n",
      "=================================================================\n",
      "Total params: 1,354,241\n",
      "Trainable params: 1,354,241\n",
      "Non-trainable params: 0\n",
      "_________________________________________________________________\n"
     ]
    }
   ],
   "source": [
    "# YOUR CODE HERE\n",
    "# MODEL-4: Bidirectional GRU\n",
    "\n",
    "# construct the model\n",
    "sequence_input  =Input(shape=(max_len,),name='input_layer')\n",
    "embedding_layer = Embedding(voc_length,128,input_length=500,name='word_embedding')\n",
    "embedded_sequences = embedding_layer(sequence_input)\n",
    "bigru_layer = Bidirectional(GRU(nr_gru,name='bigru_layer'),name='bidirectional')(embedded_sequences)\n",
    "output_layer = Dense(1,name='prediction_layer',activation='sigmoid')(bigru_layer)\n",
    "bigru_model =  Model(sequence_input,output_layer)\n",
    "bigru_model.summary()\n"
   ]
  },
  {
   "cell_type": "markdown",
   "metadata": {
    "colab_type": "text",
    "id": "-xbwotHu9aF1"
   },
   "source": [
    "### Compile models"
   ]
  },
  {
   "cell_type": "code",
   "execution_count": 12,
   "metadata": {
    "colab": {
     "autoexec": {
      "startup": false,
      "wait_interval": 0
     }
    },
    "colab_type": "code",
    "id": "3BLIuJuU9aF2"
   },
   "outputs": [],
   "source": [
    "# YOUR CODE HERE \n",
    "# decide loss function, and optimizer\n",
    "lstm_model.compile(loss='binary_crossentropy', optimizer='adam', metrics=['accuracy'])"
   ]
  },
  {
   "cell_type": "code",
   "execution_count": 13,
   "metadata": {
    "colab": {
     "autoexec": {
      "startup": false,
      "wait_interval": 0
     }
    },
    "colab_type": "code",
    "id": "MlRtyKKz9aF4"
   },
   "outputs": [],
   "source": [
    "# YOUR CODE HERE \n",
    "# decide loss function, and optimizer\n",
    "gru_model.compile(loss='binary_crossentropy', optimizer='adam', metrics=['accuracy'])"
   ]
  },
  {
   "cell_type": "code",
   "execution_count": 14,
   "metadata": {
    "colab": {
     "autoexec": {
      "startup": false,
      "wait_interval": 0
     }
    },
    "colab_type": "code",
    "id": "5fiUu-pB9aF6"
   },
   "outputs": [],
   "source": [
    "# YOUR CODE HERE \n",
    "# decide loss function, and optimizer\n",
    "bilstm_model.compile(loss='binary_crossentropy', optimizer='adam', metrics=['accuracy'])"
   ]
  },
  {
   "cell_type": "code",
   "execution_count": 15,
   "metadata": {
    "colab": {
     "autoexec": {
      "startup": false,
      "wait_interval": 0
     }
    },
    "colab_type": "code",
    "id": "hff0FL2R9aF8"
   },
   "outputs": [],
   "source": [
    "# YOUR CODE HERE \n",
    "# decide loss function, and optimizer\n",
    "bigru_model.compile(loss='binary_crossentropy', optimizer='adam', metrics=['accuracy'])"
   ]
  },
  {
   "cell_type": "code",
   "execution_count": 16,
   "metadata": {
    "colab": {
     "autoexec": {
      "startup": false,
      "wait_interval": 0
     }
    },
    "colab_type": "code",
    "id": "CYR2lW7uIvTM"
   },
   "outputs": [],
   "source": [
    "from keras.callbacks import History\n",
    "\n",
    "\n",
    "#Runtime variables\n",
    "\n",
    "result = {}\n",
    "num_epochs = 4\n",
    "batch_size = 50\n"
   ]
  },
  {
   "cell_type": "markdown",
   "metadata": {
    "colab_type": "text",
    "id": "9av78rRU9aF_"
   },
   "source": [
    "### Train models"
   ]
  },
  {
   "cell_type": "code",
   "execution_count": 17,
   "metadata": {
    "colab": {
     "autoexec": {
      "startup": false,
      "wait_interval": 0
     },
     "base_uri": "https://localhost:8080/",
     "height": 170
    },
    "colab_type": "code",
    "executionInfo": {
     "elapsed": 1144654,
     "status": "ok",
     "timestamp": 1523302926622,
     "user": {
      "displayName": "Timothy Aerts",
      "photoUrl": "https://lh3.googleusercontent.com/a/default-user=s128",
      "userId": "114249465215328468497"
     },
     "user_tz": -120
    },
    "id": "DLq69E4V9aGA",
    "outputId": "0ba13a1a-9848-4109-f79f-f1bdbaa4b337"
   },
   "outputs": [
    {
     "name": "stdout",
     "output_type": "stream",
     "text": [
      "Train on 12000 samples, validate on 2000 samples\n",
      "Epoch 1/4\n",
      "12000/12000 [==============================] - 90s 8ms/step - loss: 0.5060 - acc: 0.7467 - val_loss: 0.3523 - val_acc: 0.8550\n",
      "Epoch 2/4\n",
      "12000/12000 [==============================] - 89s 7ms/step - loss: 0.3434 - acc: 0.8687 - val_loss: 0.3857 - val_acc: 0.8460\n",
      "Epoch 3/4\n",
      "12000/12000 [==============================] - 88s 7ms/step - loss: 0.2661 - acc: 0.8957 - val_loss: 0.4196 - val_acc: 0.8250\n",
      "Epoch 4/4\n",
      "12000/12000 [==============================] - 89s 7ms/step - loss: 0.1974 - acc: 0.9273 - val_loss: 0.3605 - val_acc: 0.8605\n"
     ]
    }
   ],
   "source": [
    "# YOUR CODE HERE \n",
    "# add callback history during the training stage of the model\n",
    "\n",
    "lstm_history = History()\n",
    "lstm_model.fit(x_train, y_train, validation_data=(x_validation, y_validation),epochs=num_epochs, batch_size=batch_size,callbacks=[lstm_history])\n",
    "\n",
    "result['lstm'] = lstm_history.history"
   ]
  },
  {
   "cell_type": "code",
   "execution_count": 18,
   "metadata": {
    "colab": {
     "autoexec": {
      "startup": false,
      "wait_interval": 0
     },
     "base_uri": "https://localhost:8080/",
     "height": 54
    },
    "colab_type": "code",
    "executionInfo": {
     "elapsed": 854,
     "status": "ok",
     "timestamp": 1523302927506,
     "user": {
      "displayName": "Timothy Aerts",
      "photoUrl": "https://lh3.googleusercontent.com/a/default-user=s128",
      "userId": "114249465215328468497"
     },
     "user_tz": -120
    },
    "id": "lwvZEYMFOM1q",
    "outputId": "94f889f7-f570-4815-ba57-5e7496b3670f"
   },
   "outputs": [
    {
     "name": "stdout",
     "output_type": "stream",
     "text": [
      "{'loss': [0.5060115871950984, 0.3434326113512119, 0.26606479816449186, 0.1973864183295518], 'val_loss': [0.3523266468197107, 0.385720270127058, 0.4196437317878008, 0.36054690815508367], 'val_acc': [0.8549999952316284, 0.8459999978542327, 0.8249999925494194, 0.8604999899864196], 'acc': [0.7466666642576456, 0.8687499942878882, 0.8956666643420855, 0.9273333303630352]}\n"
     ]
    }
   ],
   "source": [
    "print(lstm_history.history)"
   ]
  },
  {
   "cell_type": "code",
   "execution_count": 19,
   "metadata": {
    "colab": {
     "autoexec": {
      "startup": false,
      "wait_interval": 0
     },
     "base_uri": "https://localhost:8080/",
     "height": 170
    },
    "colab_type": "code",
    "executionInfo": {
     "elapsed": 921297,
     "status": "ok",
     "timestamp": 1523303849009,
     "user": {
      "displayName": "Timothy Aerts",
      "photoUrl": "https://lh3.googleusercontent.com/a/default-user=s128",
      "userId": "114249465215328468497"
     },
     "user_tz": -120
    },
    "id": "upDh1gKg9aGE",
    "outputId": "c2479136-f3a1-4245-e332-00269cf785ca"
   },
   "outputs": [
    {
     "name": "stdout",
     "output_type": "stream",
     "text": [
      "Train on 12000 samples, validate on 2000 samples\n",
      "Epoch 1/4\n",
      "12000/12000 [==============================] - 81s 7ms/step - loss: 0.5086 - acc: 0.7316 - val_loss: 0.4092 - val_acc: 0.8120\n",
      "Epoch 2/4\n",
      "12000/12000 [==============================] - 81s 7ms/step - loss: 0.2665 - acc: 0.8930 - val_loss: 0.3291 - val_acc: 0.8765\n",
      "Epoch 3/4\n",
      "12000/12000 [==============================] - 81s 7ms/step - loss: 0.1988 - acc: 0.9232 - val_loss: 0.3472 - val_acc: 0.8650\n",
      "Epoch 4/4\n",
      "12000/12000 [==============================] - 81s 7ms/step - loss: 0.1356 - acc: 0.9527 - val_loss: 0.3729 - val_acc: 0.8685\n"
     ]
    }
   ],
   "source": [
    "# YOUR CODE HERE \n",
    "# add callback history during the training stage of the model\n",
    "gru_history = History()\n",
    "gru_model.fit(x_train, y_train, validation_data=(x_validation, y_validation), epochs=num_epochs, batch_size=batch_size,callbacks=[gru_history])\n",
    "\n",
    "result['gru'] = gru_history.history"
   ]
  },
  {
   "cell_type": "code",
   "execution_count": 20,
   "metadata": {
    "colab": {
     "autoexec": {
      "startup": false,
      "wait_interval": 0
     },
     "base_uri": "https://localhost:8080/",
     "height": 170
    },
    "colab_type": "code",
    "executionInfo": {
     "elapsed": 2302546,
     "status": "ok",
     "timestamp": 1523306151599,
     "user": {
      "displayName": "Timothy Aerts",
      "photoUrl": "https://lh3.googleusercontent.com/a/default-user=s128",
      "userId": "114249465215328468497"
     },
     "user_tz": -120
    },
    "id": "PsnjVSfZ9aGI",
    "outputId": "2587676a-7c9d-4cfa-f9c8-a4bb4cde2da4"
   },
   "outputs": [
    {
     "name": "stdout",
     "output_type": "stream",
     "text": [
      "Train on 12000 samples, validate on 2000 samples\n",
      "Epoch 1/4\n",
      "12000/12000 [==============================] - 160s 13ms/step - loss: 0.4977 - acc: 0.7492 - val_loss: 0.3555 - val_acc: 0.8480\n",
      "Epoch 2/4\n",
      "12000/12000 [==============================] - 155s 13ms/step - loss: 0.2719 - acc: 0.8926 - val_loss: 0.3518 - val_acc: 0.8435\n",
      "Epoch 3/4\n",
      "12000/12000 [==============================] - 155s 13ms/step - loss: 0.1975 - acc: 0.9268 - val_loss: 0.3638 - val_acc: 0.8735\n",
      "Epoch 4/4\n",
      "12000/12000 [==============================] - 155s 13ms/step - loss: 0.1350 - acc: 0.9515 - val_loss: 0.3911 - val_acc: 0.8500\n"
     ]
    }
   ],
   "source": [
    "# YOUR CODE HERE \n",
    "# add callback history during the training stage of the model\n",
    "bilstm_history = History()\n",
    "bilstm_model.fit(x_train, y_train, validation_data=(x_validation, y_validation), epochs=num_epochs, batch_size=batch_size,callbacks=[bilstm_history])\n",
    "\n",
    "result['bilstm'] = bilstm_history.history"
   ]
  },
  {
   "cell_type": "code",
   "execution_count": 21,
   "metadata": {
    "colab": {
     "autoexec": {
      "startup": false,
      "wait_interval": 0
     },
     "base_uri": "https://localhost:8080/",
     "height": 170
    },
    "colab_type": "code",
    "executionInfo": {
     "elapsed": 1919699,
     "status": "ok",
     "timestamp": 1523308071341,
     "user": {
      "displayName": "Timothy Aerts",
      "photoUrl": "https://lh3.googleusercontent.com/a/default-user=s128",
      "userId": "114249465215328468497"
     },
     "user_tz": -120
    },
    "id": "dLj50kov9aGJ",
    "outputId": "d7e4375c-d82c-4915-c799-24a16bfbf6b2"
   },
   "outputs": [
    {
     "name": "stdout",
     "output_type": "stream",
     "text": [
      "Train on 12000 samples, validate on 2000 samples\n",
      "Epoch 1/4\n",
      "12000/12000 [==============================] - 125s 10ms/step - loss: 0.4693 - acc: 0.7636 - val_loss: 0.3847 - val_acc: 0.8300\n",
      "Epoch 2/4\n",
      "12000/12000 [==============================] - 124s 10ms/step - loss: 0.2593 - acc: 0.8992 - val_loss: 0.3436 - val_acc: 0.8600\n",
      "Epoch 3/4\n",
      "12000/12000 [==============================] - 123s 10ms/step - loss: 0.1887 - acc: 0.9297 - val_loss: 0.3851 - val_acc: 0.8560\n",
      "Epoch 4/4\n",
      "12000/12000 [==============================] - 123s 10ms/step - loss: 0.1353 - acc: 0.9515 - val_loss: 0.4341 - val_acc: 0.8510\n"
     ]
    }
   ],
   "source": [
    "# YOUR CODE HERE \n",
    "# add callback history during the training stage of the model\n",
    "bigru_history = History()\n",
    "bigru_model.fit(x_train, y_train, validation_data=(x_validation, y_validation), epochs=num_epochs, batch_size=batch_size,callbacks=[bigru_history])\n",
    "result['bigru'] = bigru_history.history"
   ]
  },
  {
   "cell_type": "markdown",
   "metadata": {
    "colab_type": "text",
    "id": "1rSW4pEv9aGL"
   },
   "source": [
    "### Save models and weight parameters"
   ]
  },
  {
   "cell_type": "code",
   "execution_count": 23,
   "metadata": {
    "colab": {
     "autoexec": {
      "startup": false,
      "wait_interval": 0
     }
    },
    "colab_type": "code",
    "id": "F_Hv5v5P9aGM"
   },
   "outputs": [],
   "source": [
    "# Save model\n",
    "lstm_model.save('lstm_model.h5')\n",
    "# Save trained weight parameters\n",
    "lstm_model.save_weights('weights_lstm_model.hdf5')\n"
   ]
  },
  {
   "cell_type": "code",
   "execution_count": 24,
   "metadata": {
    "colab": {
     "autoexec": {
      "startup": false,
      "wait_interval": 0
     }
    },
    "colab_type": "code",
    "id": "NVpm-yz19aGN"
   },
   "outputs": [],
   "source": [
    "# Save model\n",
    "gru_model.save('gru_model.h5')\n",
    "# Save trained weight parameters\n",
    "gru_model.save_weights('weights_gru_model.hdf5')\n"
   ]
  },
  {
   "cell_type": "code",
   "execution_count": 25,
   "metadata": {
    "colab": {
     "autoexec": {
      "startup": false,
      "wait_interval": 0
     }
    },
    "colab_type": "code",
    "id": "T-G-Jcam9aGP"
   },
   "outputs": [],
   "source": [
    "# Save model\n",
    "bilstm_model.save('bilstm_model.h5')\n",
    "# Save trained weight parameters\n",
    "bilstm_model.save_weights('weights_bilstm_model.hdf5')\n"
   ]
  },
  {
   "cell_type": "code",
   "execution_count": 26,
   "metadata": {
    "colab": {
     "autoexec": {
      "startup": false,
      "wait_interval": 0
     }
    },
    "colab_type": "code",
    "id": "LOd_lgMt9aGS"
   },
   "outputs": [],
   "source": [
    "# Save model\n",
    "bigru_model.save('bigru_model.h5')\n",
    "# Save trained weight parameters\n",
    "bigru_model.save_weights('weights_bigru_model.hdf5')\n"
   ]
  },
  {
   "cell_type": "code",
   "execution_count": null,
   "metadata": {
    "colab": {
     "autoexec": {
      "startup": false,
      "wait_interval": 0
     }
    },
    "colab_type": "code",
    "id": "fpyfYmDHLr29"
   },
   "outputs": [],
   "source": []
  },
  {
   "cell_type": "markdown",
   "metadata": {
    "colab_type": "text",
    "id": "LTqMUT-X9aGT"
   },
   "source": [
    "#### Plot model performance (loss, accuracy)"
   ]
  },
  {
   "cell_type": "markdown",
   "metadata": {
    "colab_type": "text",
    "id": "bEuz_Ccc9aGU"
   },
   "source": [
    "Present two (2) plots for each model "
   ]
  },
  {
   "cell_type": "code",
   "execution_count": 28,
   "metadata": {
    "colab": {
     "autoexec": {
      "startup": false,
      "wait_interval": 0
     },
     "base_uri": "https://localhost:8080/",
     "height": 1397
    },
    "colab_type": "code",
    "executionInfo": {
     "elapsed": 1566,
     "status": "ok",
     "timestamp": 1523308705777,
     "user": {
      "displayName": "Timothy Aerts",
      "photoUrl": "https://lh3.googleusercontent.com/a/default-user=s128",
      "userId": "114249465215328468497"
     },
     "user_tz": -120
    },
    "id": "IUc9cJ__9aGU",
    "outputId": "83e0cbd1-a157-4e19-f7c7-6c034d3763ff"
   },
   "outputs": [
    {
     "data": {
      "image/png": "[encoded data removed]",
      "text/plain": [
       "<matplotlib.figure.Figure at 0x2a669fed5f8>"
      ]
     },
     "metadata": {},
     "output_type": "display_data"
    },
    {
     "data": {
      "image/png": "[encoded data removed]",
      "text/plain": [
       "<matplotlib.figure.Figure at 0x2a66b0674a8>"
      ]
     },
     "metadata": {},
     "output_type": "display_data"
    },
    {
     "data": {
      "image/png": "[encoded data removed]",
      "text/plain": [
       "<matplotlib.figure.Figure at 0x2a66b0e24a8>"
      ]
     },
     "metadata": {},
     "output_type": "display_data"
    },
    {
     "data": {
      "image/png": "[encoded data removed]",
      "text/plain": [
       "<matplotlib.figure.Figure at 0x2a66b130588>"
      ]
     },
     "metadata": {},
     "output_type": "display_data"
    }
   ],
   "source": [
    "import matplotlib.pyplot as plt\n",
    "for key,value in result.items():\n",
    "    f,(ax1,ax2) = plt.subplots(1,2)\n",
    "    ax1.plot(value['acc'],label='train acc')\n",
    "    ax1.plot(value['val_acc'],label='val acc')\n",
    "    ax1.set_title(\"{} Accuracy\".format(key))\n",
    "    ax1.legend()\n",
    "    ax2.plot(value['loss'],label='train loss')\n",
    "    ax2.plot(value['val_loss'],label='val loss')\n",
    "    ax2.set_title(\"{} Loss\".format(key))\n",
    "    ax2.legend()\n",
    "    plt.show()"
   ]
  },
  {
   "cell_type": "code",
   "execution_count": 42,
   "metadata": {},
   "outputs": [
    {
     "data": {
      "text/html": [
       "<div>\n",
       "<style scoped>\n",
       "    .dataframe tbody tr th:only-of-type {\n",
       "        vertical-align: middle;\n",
       "    }\n",
       "\n",
       "    .dataframe tbody tr th {\n",
       "        vertical-align: top;\n",
       "    }\n",
       "\n",
       "    .dataframe thead th {\n",
       "        text-align: right;\n",
       "    }\n",
       "</style>\n",
       "<table border=\"1\" class=\"dataframe\">\n",
       "  <thead>\n",
       "    <tr style=\"text-align: right;\">\n",
       "      <th></th>\n",
       "      <th>acc_max</th>\n",
       "      <th>acc_mean</th>\n",
       "      <th>loss_mean</th>\n",
       "      <th>loss_min</th>\n",
       "      <th>val_acc_max</th>\n",
       "      <th>val_acc_mean</th>\n",
       "      <th>val_loss_mean</th>\n",
       "      <th>val_loss_min</th>\n",
       "    </tr>\n",
       "  </thead>\n",
       "  <tbody>\n",
       "    <tr>\n",
       "      <th>bigru</th>\n",
       "      <td>0.951500</td>\n",
       "      <td>0.886000</td>\n",
       "      <td>0.263148</td>\n",
       "      <td>0.135287</td>\n",
       "      <td>0.8600</td>\n",
       "      <td>0.849250</td>\n",
       "      <td>0.386874</td>\n",
       "      <td>0.343610</td>\n",
       "    </tr>\n",
       "    <tr>\n",
       "      <th>bilstm</th>\n",
       "      <td>0.951500</td>\n",
       "      <td>0.880021</td>\n",
       "      <td>0.275527</td>\n",
       "      <td>0.135043</td>\n",
       "      <td>0.8735</td>\n",
       "      <td>0.853750</td>\n",
       "      <td>0.365543</td>\n",
       "      <td>0.351800</td>\n",
       "    </tr>\n",
       "    <tr>\n",
       "      <th>gru</th>\n",
       "      <td>0.952750</td>\n",
       "      <td>0.875146</td>\n",
       "      <td>0.277372</td>\n",
       "      <td>0.135622</td>\n",
       "      <td>0.8765</td>\n",
       "      <td>0.855500</td>\n",
       "      <td>0.364591</td>\n",
       "      <td>0.329084</td>\n",
       "    </tr>\n",
       "    <tr>\n",
       "      <th>lstm</th>\n",
       "      <td>0.927333</td>\n",
       "      <td>0.859604</td>\n",
       "      <td>0.328224</td>\n",
       "      <td>0.197386</td>\n",
       "      <td>0.8605</td>\n",
       "      <td>0.846625</td>\n",
       "      <td>0.379559</td>\n",
       "      <td>0.352327</td>\n",
       "    </tr>\n",
       "  </tbody>\n",
       "</table>\n",
       "</div>"
      ],
      "text/plain": [
       "         acc_max  acc_mean  loss_mean  loss_min  val_acc_max  val_acc_mean  \\\n",
       "bigru   0.951500  0.886000   0.263148  0.135287       0.8600      0.849250   \n",
       "bilstm  0.951500  0.880021   0.275527  0.135043       0.8735      0.853750   \n",
       "gru     0.952750  0.875146   0.277372  0.135622       0.8765      0.855500   \n",
       "lstm    0.927333  0.859604   0.328224  0.197386       0.8605      0.846625   \n",
       "\n",
       "        val_loss_mean  val_loss_min  \n",
       "bigru        0.386874      0.343610  \n",
       "bilstm       0.365543      0.351800  \n",
       "gru          0.364591      0.329084  \n",
       "lstm         0.379559      0.352327  "
      ]
     },
     "execution_count": 42,
     "metadata": {},
     "output_type": "execute_result"
    }
   ],
   "source": [
    "tb = {}\n",
    "\n",
    "for key,dt in result.items():\n",
    "    tb[key] = {}\n",
    "    for metric,value in dt.items():\n",
    "        tb[key][metric+'_mean'] = np.mean(value)\n",
    "        if 'loss' in metric:\n",
    "            tb[key][metric+'_min'] = min(value)\n",
    "        else:\n",
    "            tb[key][metric+'_max'] = max(value)\n",
    "\n",
    "table = pd.DataFrame(tb).T\n",
    "table"
   ]
  },
  {
   "cell_type": "markdown",
   "metadata": {
    "colab_type": "text",
    "id": "30Iv3nki9aGW"
   },
   "source": [
    "#### Present table comparison of model performance\n",
    "\n",
    "#### Answer:\n",
    "\n",
    "=== write your answer here ===\n",
    "\n",
    "the Gru model seems to be the best performer. The validation accuracy is the highest between the models and the accuracy on the training set is the top performer as well. The high training accuracy might be a give away for overfitting, but to achieve better generalization a dropout layer has been added to the model. Therefore it feels reasonably safe to take the gru model."
   ]
  },
  {
   "cell_type": "markdown",
   "metadata": {
    "colab_type": "text",
    "id": "N8ZYQ8ul9aGX"
   },
   "source": [
    "### 3. Feature extraction"
   ]
  },
  {
   "cell_type": "markdown",
   "metadata": {
    "colab_type": "text",
    "id": "5Loi8B149aGX"
   },
   "source": [
    "#### Tasks: \n",
    "\n",
    "* Choose one model with the best performance and use the model to produce ”neural codes” (document embedding) of raw text (5000 instances of unseen validation set) from RNN layer.\n",
    "*  Use tSNE to reduce the dimension of extracted text features (encoded version of 5000 documents) into two (2) dimensions and visualize it towards their sentiment labels.\n"
   ]
  },
  {
   "cell_type": "code",
   "execution_count": 45,
   "metadata": {
    "colab": {
     "autoexec": {
      "startup": false,
      "wait_interval": 0
     }
    },
    "colab_type": "code",
    "id": "nRplSZJK9aGY"
   },
   "outputs": [
    {
     "name": "stdout",
     "output_type": "stream",
     "text": [
      "_________________________________________________________________\n",
      "Layer (type)                 Output Shape              Param #   \n",
      "=================================================================\n",
      "input_layer (InputLayer)     (None, 500)               0         \n",
      "_________________________________________________________________\n",
      "word_embedding (Embedding)   (None, 500, 128)          1280000   \n",
      "_________________________________________________________________\n",
      "dropout_2 (Dropout)          (None, 500, 128)          0         \n",
      "_________________________________________________________________\n",
      "gru_layer (GRU)              (None, 64)                37056     \n",
      "_________________________________________________________________\n",
      "prediction_layer (Dense)     (None, 1)                 65        \n",
      "=================================================================\n",
      "Total params: 1,317,121\n",
      "Trainable params: 1,317,121\n",
      "Non-trainable params: 0\n",
      "_________________________________________________________________\n"
     ]
    }
   ],
   "source": [
    "# load the trained model\n",
    "from keras.models import load_model\n",
    "\n",
    "# YOUR CODE HERE\n",
    "# choose the best model\n",
    "\n",
    "model = load_model('gru_model.h5')\n",
    "model.load_weights('weights_gru_model.hdf5')\n",
    "model.summary()"
   ]
  },
  {
   "cell_type": "markdown",
   "metadata": {
    "colab_type": "text",
    "id": "0c6VEj6g9aGb"
   },
   "source": [
    "#### Produce Neural codes of text reviews"
   ]
  },
  {
   "cell_type": "code",
   "execution_count": 56,
   "metadata": {
    "colab": {
     "autoexec": {
      "startup": false,
      "wait_interval": 0
     }
    },
    "colab_type": "code",
    "id": "YvTXzAVA9aGb"
   },
   "outputs": [
    {
     "name": "stderr",
     "output_type": "stream",
     "text": [
      "C:\\Users\\timothy\\Anaconda3\\envs\\recsys\\lib\\site-packages\\ipykernel_launcher.py:7: UserWarning: Update your `Model` call to the Keras 2 API: `Model(outputs=Tensor(\"gr..., inputs=Tensor(\"in...)`\n",
      "  import sys\n"
     ]
    },
    {
     "name": "stdout",
     "output_type": "stream",
     "text": [
      "_________________________________________________________________\n",
      "Layer (type)                 Output Shape              Param #   \n",
      "=================================================================\n",
      "input_layer (InputLayer)     (None, 500)               0         \n",
      "_________________________________________________________________\n",
      "word_embedding (Embedding)   (None, 500, 128)          1280000   \n",
      "_________________________________________________________________\n",
      "dropout_2 (Dropout)          (None, 500, 128)          0         \n",
      "_________________________________________________________________\n",
      "gru_layer (GRU)              (None, 64)                37056     \n",
      "=================================================================\n",
      "Total params: 1,317,056\n",
      "Trainable params: 1,317,056\n",
      "Non-trainable params: 0\n",
      "_________________________________________________________________\n",
      "(64,)\n"
     ]
    }
   ],
   "source": [
    "# YOUR CODE HERE\n",
    "start = 2000\n",
    "end = 7000\n",
    "x_unseen = pad_sequences(val_seq,maxlen=max_len)[start:end]\n",
    "y_unseen = np.array(valid_labels)[start:end]\n",
    "# define sub model to retrieve \"neural codes\" (document embedding) from recurrent layer\n",
    "encoder_model = Model(input=model.input,output=model.get_layer('gru_layer').output)\n",
    "\n",
    "encoder_model.summary()\n",
    "# generate \"neural codes\" (document embedding) from the model\n",
    "doc_embedding = encoder_model.predict(x_unseen)\n",
    "#print(doc_embedding[0].shape)"
   ]
  },
  {
   "cell_type": "markdown",
   "metadata": {
    "colab_type": "text",
    "id": "d1fTTG6o9aGd"
   },
   "source": [
    "#### tSNE visualization"
   ]
  },
  {
   "cell_type": "code",
   "execution_count": 60,
   "metadata": {
    "colab": {
     "autoexec": {
      "startup": false,
      "wait_interval": 0
     }
    },
    "colab_type": "code",
    "id": "35OMDdwd9aGd"
   },
   "outputs": [
    {
     "ename": "TypeError",
     "evalue": "scatter() missing 1 required positional argument: 'y'",
     "output_type": "error",
     "traceback": [
      "\u001b[1;31m---------------------------------------------------------------------------\u001b[0m",
      "\u001b[1;31mTypeError\u001b[0m                                 Traceback (most recent call last)",
      "\u001b[1;32m<ipython-input-60-203dd1872404>\u001b[0m in \u001b[0;36m<module>\u001b[1;34m()\u001b[0m\n\u001b[0;32m      6\u001b[0m \u001b[0mdoc_embedding_2d\u001b[0m \u001b[1;33m=\u001b[0m \u001b[0mtsne\u001b[0m\u001b[1;33m.\u001b[0m\u001b[0mfit_transform\u001b[0m\u001b[1;33m(\u001b[0m\u001b[0mdoc_embedding\u001b[0m\u001b[1;33m)\u001b[0m\u001b[1;33m\u001b[0m\u001b[0m\n\u001b[0;32m      7\u001b[0m \u001b[1;33m\u001b[0m\u001b[0m\n\u001b[1;32m----> 8\u001b[1;33m \u001b[0mplt\u001b[0m\u001b[1;33m.\u001b[0m\u001b[0mscatter\u001b[0m\u001b[1;33m(\u001b[0m\u001b[0mdoc_embedding_2d\u001b[0m\u001b[1;33m)\u001b[0m\u001b[1;33m\u001b[0m\u001b[0m\n\u001b[0m",
      "\u001b[1;31mTypeError\u001b[0m: scatter() missing 1 required positional argument: 'y'"
     ]
    }
   ],
   "source": [
    "# YOUR CODE HERE\n",
    "from sklearn.manifold import TSNE\n",
    "# use tSNE to plot document embedding on its sentiment label\n",
    "\n",
    "tsne = TSNE()\n",
    "doc_embedding_2d = tsne.fit_transform(doc_embedding)\n",
    "\n"
   ]
  },
  {
   "cell_type": "code",
   "execution_count": 102,
   "metadata": {},
   "outputs": [
    {
     "name": "stdout",
     "output_type": "stream",
     "text": [
      "5000 5000\n"
     ]
    },
    {
     "data": {
      "text/plain": [
       "<matplotlib.collections.PathCollection at 0x2a606d5f278>"
      ]
     },
     "execution_count": 102,
     "metadata": {},
     "output_type": "execute_result"
    },
    {
     "data": {
      "image/png": "[encoded data removed]",
      "text/plain": [
       "<matplotlib.figure.Figure at 0x2a606d266a0>"
      ]
     },
     "metadata": {},
     "output_type": "display_data"
    }
   ],
   "source": [
    "x,y = doc_embedding_2d[:,:1], doc_embedding_2d[:,1:2]\n",
    "\n",
    "print(len(x),len(y))\n",
    "color = {1:'r',0:'b'}\n",
    "col = [color[x] for x in y_unseen]\n",
    "  \n",
    "\n",
    "plt.scatter(x,y,color=col,label=col)\n",
    "\n"
   ]
  },
  {
   "cell_type": "markdown",
   "metadata": {
    "colab_type": "text",
    "id": "ARh3knt89aGg"
   },
   "source": [
    "### 4. One shot learning on multi-class classification"
   ]
  },
  {
   "cell_type": "markdown",
   "metadata": {
    "colab_type": "text",
    "id": "seMeS8iO9aGg"
   },
   "source": [
    "#### Tasks: \n",
    "\n",
    "* Use the RNN model that has been trained on binary classification task to extract features from different data set (Amazon product reviews)\n",
    "* Define and implement an approach to assign labels on unlabelled set of reviews, by using the concept of \"one shot learning\"\n",
    "* Compute accuracy, given ground truth labels\n",
    "* Discuss the results "
   ]
  },
  {
   "cell_type": "markdown",
   "metadata": {
    "colab_type": "text",
    "id": "3hR0CAh89aGh"
   },
   "source": [
    "Explain how the approach works.\n",
    "\n",
    "\n",
    "#### Answer:\n",
    "\n",
    "The idea is to encode the reviews with the same encoder as in the previous question.\n",
    "The encoder there was able to distuinguis between positive and negative reviews and thus had some \"understanding\" of the review.\n",
    "This encoding can then be used to encode the text reviews from amazon. For this data set we have 3 examples known and thus we can encode those. We can then encode the unseen data and compare distances between the vectors. The idea is that the closer the vector is to one of the examples the more likely it is to be that specific label. "
   ]
  },
  {
   "cell_type": "code",
   "execution_count": 176,
   "metadata": {
    "colab": {
     "autoexec": {
      "startup": false,
      "wait_interval": 0
     }
    },
    "colab_type": "code",
    "id": "FHqmAsAS9aGh",
    "scrolled": true
   },
   "outputs": [
    {
     "name": "stdout",
     "output_type": "stream",
     "text": [
      "0.14285714285714285\n"
     ]
    }
   ],
   "source": [
    "from sklearn.metrics.pairwise import cosine_similarity\n",
    "\n",
    "# one shot learning task\n",
    "\n",
    "labeled = pd.read_csv('D:/recsys/assignment3/example1_labelled.tsv',delimiter='\\t')\n",
    "unlabeled = pd.read_csv('D:/recsys/assignment3/example2_unlabelled.tsv',delimiter='\\t')\n",
    "\n",
    "reviews = tokenizer.texts_to_sequences(labeled['review'])\n",
    "reviews =  pad_sequences(reviews,maxlen=max_len)\n",
    "\n",
    "labels = labeled['label']\n",
    "n_codes = encoder_model.predict(reviews)\n",
    "lookup = {}\n",
    "\n",
    "for i in range(len(n_codes)):\n",
    "    lookup[labels[i]] = n_codes[i]\n",
    "\n",
    "    \n",
    "oneshot_review = tokenizer.texts_to_sequences(unlabeled['review'])\n",
    "oneshot_review = pad_sequences(oneshot_review,maxlen=max_len)\n",
    "\n",
    "preds = encoder_model.predict(oneshot_review)\n",
    "\n",
    "distance = []\n",
    "labels = []\n",
    "\n",
    "for pred in preds:\n",
    "    distances = {}\n",
    "    max_score = -1\n",
    "    label = ''\n",
    "    for key,value in lookup.items():\n",
    "        sim = cosine_similarity(pred.reshape(1,-1),value.reshape(1,-1))\n",
    "        distances[key] = sim\n",
    "        if sim > max_score:\n",
    "            max_score = sim\n",
    "            label = key\n",
    "    labels.append(label)\n",
    "    distance.append(distances)\n",
    "\n",
    "unlabeled['predicted_label'] = labels\n",
    "\n",
    "# compute overall accuracy, given ground truth labels\n",
    "compare_labels = pd.read_csv('D:/recsys/assignment3/example2_labelled.tsv',delimiter='\\t')\n",
    "compare_labels['predicted'] = labels\n",
    "compare_labels['correct'] =compare_labels['label']==compare_labels['predicted']\n",
    "counts = compare_labels['correct'].value_counts()\n",
    "accuracy = counts[1]/(counts[1]+counts[0])\n",
    "print(accuracy)"
   ]
  },
  {
   "cell_type": "markdown",
   "metadata": {
    "colab_type": "text",
    "id": "IiqVq9vP9aGj"
   },
   "source": [
    "Discuss the result. Why it works -- or why it does not work.\n",
    "\n",
    "#### Answer:\n",
    "\n",
    "accuracy is very poor in this case.\n",
    "Most likely this is due to the fact that the encoding for sentiment analysis looks at different types of words than would be required for the label analysis. \n",
    "The first issue is that the descriptive words for the labels like laptop, phone etc might not be in the vocabulary from the sentiment analysis.\n",
    "The second issue is that the sentiment analysis will be looking for words like excellent, good, bad. It is looking for descriptive words which determine if the movie according to a review was good or bad. This would translate to the product quality more than to the label. Thus a bad laptop would have closer proximity to a bad phone than to a good laptop. where bad and good are ofcourse opinions fromt he authors.\n",
    "\n"
   ]
  }
 ],
 "metadata": {
  "accelerator": "GPU",
  "colab": {
   "default_view": {},
   "name": "Assignment-3.2.ipynb",
   "provenance": [],
   "version": "0.3.2",
   "views": {}
  },
  "kernelspec": {
   "display_name": "Python 3",
   "language": "python",
   "name": "python3"
  },
  "language_info": {
   "codemirror_mode": {
    "name": "ipython",
    "version": 3
   },
   "file_extension": ".py",
   "mimetype": "text/x-python",
   "name": "python",
   "nbconvert_exporter": "python",
   "pygments_lexer": "ipython3",
   "version": "3.6.1"
  }
 },
 "nbformat": 4,
 "nbformat_minor": 1
}
