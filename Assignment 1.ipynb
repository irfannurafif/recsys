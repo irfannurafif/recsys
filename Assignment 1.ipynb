{
 "cells": [
  {
   "cell_type": "markdown",
   "metadata": {},
   "source": [
    "# Assignment 1\n"
   ]
  },
  {
   "cell_type": "code",
   "execution_count": 1,
   "metadata": {},
   "outputs": [
    {
     "name": "stderr",
     "output_type": "stream",
     "text": [
      "c:\\users\\illia\\appdata\\local\\programs\\python\\python36\\lib\\site-packages\\h5py\\__init__.py:36: FutureWarning: Conversion of the second argument of issubdtype from `float` to `np.floating` is deprecated. In future, it will be treated as `np.float64 == np.dtype(float).type`.\n",
      "  from ._conv import register_converters as _register_converters\n",
      "Using TensorFlow backend.\n",
      "c:\\users\\illia\\appdata\\local\\programs\\python\\python36\\lib\\site-packages\\gensim\\utils.py:1167: UserWarning: detected Windows; aliasing chunkize to chunkize_serial\n",
      "  warnings.warn(\"detected Windows; aliasing chunkize to chunkize_serial\")\n"
     ]
    }
   ],
   "source": [
    "import numpy as np\n",
    "np.random.seed(13) #TODO Check if this is used for sgd\n",
    "import keras.backend as K\n",
    "from keras.models import Sequential\n",
    "from keras.layers import Dense, Embedding, Reshape, Lambda\n",
    "from keras.utils import np_utils\n",
    "from keras.utils.data_utils import get_file\n",
    "from keras.preprocessing.text import Tokenizer\n",
    "from keras.utils.vis_utils import model_to_dot\n",
    "from keras.preprocessing import sequence\n",
    "from gensim.models import KeyedVectors\n",
    "from sklearn.manifold import TSNE\n",
    "from sklearn.metrics.pairwise import cosine_similarity\n",
    "from sklearn.neighbors import NearestNeighbors as nn\n",
    "from matplotlib import pylab\n",
    "from __future__ import division"
   ]
  },
  {
   "cell_type": "code",
   "execution_count": 162,
   "metadata": {},
   "outputs": [],
   "source": [
    "# DO NOT Modify the lines in this cell\n",
    "path = 'alice.txt'#'analogy_alice.txt'\n",
    "corpus = open(path).readlines()[0:700]\n",
    "\n",
    "corpus = [sentence for sentence in corpus if sentence.count(\" \") >= 2]\n",
    "\n",
    "tokenizer = Tokenizer(filters='!\"#$%&()*+,-./:;<=>?@[\\\\]^_`{|}~\\t\\n'+\"'\")\n",
    "tokenizer.fit_on_texts(corpus)\n",
    "corpus = tokenizer.texts_to_sequences(corpus)\n",
    "nb_samples = sum(len(s) for s in corpus)\n",
    "V = len(tokenizer.word_index) + 1\n",
    "\n",
    "# Is this something they need to change?\n",
    "dim = 100\n",
    "window_size = 2 #use this window size for Skipgram, CBOW, and the model with the additional hidden layer\n",
    "window_size_corpus = 4 #use this window size for the co-occurrence matrix"
   ]
  },
  {
   "cell_type": "markdown",
   "metadata": {},
   "source": [
    "## Question 1\n",
    "\n",
    "### Co-occurrence Matrix\n",
    "Use the provided code to load the \"Alice in Wonderland\" text document. \n",
    "1. Implement the word-word co-occurrence matrix for “Alice in Wonderland”\n",
    "2. Normalize the words such that every value lies within a range of 0 and 1\n",
    "3. Compute the cosine distance between the given words:\n",
    "    - Alice \n",
    "    - Dinah\n",
    "    - Rabbit\n",
    "4. List the 5 closest words to 'Alice'. Discuss the results.\n",
    "5. Discuss what the main drawbacks are of a term-term co-occurence matrix solutions?\n"
   ]
  },
  {
   "cell_type": "markdown",
   "metadata": {},
   "source": [
    "## 1.1 \n",
    "### Implement the word-word co-occurrence matrix for “Alice in Wonderland”"
   ]
  },
  {
   "cell_type": "code",
   "execution_count": 62,
   "metadata": {},
   "outputs": [
    {
     "name": "stdout",
     "output_type": "stream",
     "text": [
      "[[0. 1. 1. ... 0. 0. 0.]\n",
      " [1. 0. 8. ... 0. 0. 0.]\n",
      " [1. 8. 0. ... 0. 0. 0.]\n",
      " ...\n",
      " [0. 0. 0. ... 0. 0. 0.]\n",
      " [0. 0. 0. ... 0. 0. 0.]\n",
      " [0. 0. 0. ... 0. 0. 0.]]\n"
     ]
    }
   ],
   "source": [
    "import scipy.sparse, numpy\n",
    "\n",
    "\n",
    "vocabulary={}\n",
    "data=[]\n",
    "row=[]\n",
    "col=[]\n",
    "for sentence in corpus:\n",
    "    for pos,word in enumerate(sentence):\n",
    "        i=vocabulary.setdefault(word,len(vocabulary))\n",
    "        start=max(0,pos-window_size_corpus)\n",
    "        end=min(len(sentence),pos+window_size_corpus+1)\n",
    "        for pos2 in range(start,end):\n",
    "            if pos2==pos: \n",
    "                continue\n",
    "            j=vocabulary.setdefault(sentence[pos2],len(vocabulary))\n",
    "            if(j!=i):\n",
    "                data.append(1.); row.append(i); col.append(j);\n",
    "            \n",
    "cooccurrence_matrix=scipy.sparse.coo_matrix((data,(row,col)))\n",
    "#print(cooccurrence_matrix.T * cooccurrence_matrix)\n",
    "print(cooccurrence_matrix.toarray())\n"
   ]
  },
  {
   "cell_type": "markdown",
   "metadata": {},
   "source": [
    "## 1.2 \n",
    "### Normalize the words such that every value lies within a range of 0 and 1"
   ]
  },
  {
   "cell_type": "code",
   "execution_count": 64,
   "metadata": {},
   "outputs": [
    {
     "name": "stdout",
     "output_type": "stream",
     "text": [
      "[[0.         0.0625     0.0625     ... 0.         0.         0.        ]\n",
      " [0.00105485 0.         0.00843882 ... 0.         0.         0.        ]\n",
      " [0.00381679 0.03053435 0.         ... 0.         0.         0.        ]\n",
      " ...\n",
      " [0.         0.         0.         ... 0.         0.         0.        ]\n",
      " [0.         0.         0.         ... 0.         0.         0.        ]\n",
      " [0.         0.         0.         ... 0.         0.         0.        ]]\n"
     ]
    }
   ],
   "source": [
    "#We use TF for normalization\n",
    "\n",
    "cooc=cooccurrence_matrix.toarray()\n",
    "tf_cooc=numpy.zeros((V-1, V-1))\n",
    "for i, sentence in enumerate(cooc):\n",
    "    sumf=0\n",
    "    for wordf in sentence:\n",
    "        sumf+=wordf\n",
    "    for j,wordf in enumerate(sentence):\n",
    "        if(sumf>0):\n",
    "            tf_cooc[i][j]=cooc[i][j]/sumf\n",
    "        else:\n",
    "            continue\n",
    "print(tf_cooc)"
   ]
  },
  {
   "cell_type": "markdown",
   "metadata": {},
   "source": [
    "## 1.3 \n",
    "### Compute the cosine distance between the given words: Alice, Dinah, Rabbit"
   ]
  },
  {
   "cell_type": "code",
   "execution_count": 204,
   "metadata": {},
   "outputs": [
    {
     "name": "stdout",
     "output_type": "stream",
     "text": [
      "11\n",
      "87\n",
      "63\n",
      "Cosine similarity of Alice and Dinah: 0.48967327730053256\n",
      "Cosine similarity of Alice and Rabbit: 0.08862667920586557\n",
      "Cosine similarity of Dinah and Rabbit: 0.13969968905677818\n"
     ]
    }
   ],
   "source": [
    "#find cosine similarity to Alice, Dinah and Rabbit\n",
    "import math\n",
    "def cos_sim(a,b):\n",
    "    return cosine_similarity([a],[b])[0][0]\n",
    "    #sum_c=0;len_c=len(a);sum_as=0;sum_bs=0;\n",
    "    #for ii in range(len_c):\n",
    "    #    sum_c=sum_c+(a[ii]*b[ii])\n",
    "    #    sum_as=sum_as+(a[ii]*a[ii])\n",
    "    #    sum_bs=sum_bs+(b[ii]*b[ii])\n",
    "    #if(sum_as==0 and sum_bs==0):\n",
    "    #    return 1\n",
    "    #else:\n",
    "    #    return sum_c/(math.sqrt(sum_as)*(math.sqrt(sum_bs)))\n",
    "\n",
    "\n",
    "print(tokenizer.word_index['alice'])  #11-1=10, since word_index starting at index 1\n",
    "print(tokenizer.word_index['dinah'])  #87-1=86\n",
    "print(tokenizer.word_index['rabbit']) #63-1=62\n",
    "\n",
    "from sklearn.metrics.pairwise import cosine_similarity\n",
    "#print(cosine_similarity(tf_cooc[10:11], tf_cooc[86:87]))\n",
    "print(\"Cosine similarity of Alice and Dinah: {}\".format(cos_sim(tf_cooc[10],tf_cooc[86])))                 \n",
    "#print(cosine_similarity(tf_cooc[10:11], tf_cooc[62:63]))\n",
    "print(\"Cosine similarity of Alice and Rabbit: {}\".format(cos_sim(tf_cooc[10],tf_cooc[62])))\n",
    "#print(cosine_similarity(tf_cooc[86:87], tf_cooc[62:63]))\n",
    "print(\"Cosine similarity of Dinah and Rabbit: {}\".format(cos_sim(tf_cooc[62],tf_cooc[86])))\n",
    "\n"
   ]
  },
  {
   "cell_type": "markdown",
   "metadata": {},
   "source": [
    "## 1.4\n",
    "### List the 5 closest words to 'Alice'. Discuss the results."
   ]
  },
  {
   "cell_type": "code",
   "execution_count": 73,
   "metadata": {},
   "outputs": [
    {
     "name": "stdout",
     "output_type": "stream",
     "text": [
      "closest word= t, had, question, say, to\n",
      "Cosine similarity of Alice and t: 0.7033898864296415\n",
      "Cosine similarity of Alice and had: 0.6995182846911174\n",
      "Cosine similarity of Alice and question: 0.6726422527548841\n",
      "Cosine similarity of Alice and say: 0.6685274041392557\n",
      "Cosine similarity of Alice and to: 0.6544770424322105\n"
     ]
    }
   ],
   "source": [
    "#find the closest words to Alice\n",
    "maxid=0\n",
    "maxval=0\n",
    "simi=np.zeros(V-1)\n",
    "for i in range(V-1):\n",
    "    simi[i]=cosine_similarity(tf_cooc[10:11], tf_cooc[i:i+1])[0][0]\n",
    "indices=simi.argsort()[-6:][::-1]\n",
    "print(\"closest word= {}, {}, {}, {}, {}\".format(list(tokenizer.word_index)[indices[1]],list(tokenizer.word_index)[indices[2]],list(tokenizer.word_index)[indices[3]],list(tokenizer.word_index)[indices[4]],list(tokenizer.word_index)[indices[5]]))            \n",
    "for i in range(1,6):\n",
    "    print(\"Cosine similarity of Alice and {}: {}\".format(list(tokenizer.word_index)[indices[i]],cosine_similarity(tf_cooc[10:11], tf_cooc[indices[i]:indices[i]+1])[0][0]))\n"
   ]
  },
  {
   "cell_type": "markdown",
   "metadata": {},
   "source": [
    "## 1.5\n",
    "### Discuss what the main drawbacks are of a term-term co-occurence matrix solutions?"
   ]
  },
  {
   "cell_type": "markdown",
   "metadata": {},
   "source": [
    "//TODO\n",
    "1. Sparse matrix: not scalable and not efficient\n",
    "2. 'mirrored'-matrix\n",
    "3. "
   ]
  },
  {
   "cell_type": "code",
   "execution_count": 74,
   "metadata": {},
   "outputs": [],
   "source": [
    "#Save your all the vector representations of your word embeddings in this way\n",
    "#Change when necessary the sizes of the vocabulary/embedding dimension\n",
    "\n",
    "f = open('vectors_co_occurrence.txt',\"w\")\n",
    "f.write(\" \".join([str(V-1),str(V-1)]))\n",
    "f.write(\"\\n\")\n",
    "\n",
    "#vectors = your word co-occurrence matrix\n",
    "vectors = tf_cooc\n",
    "for word, i in tokenizer.word_index.items():    \n",
    "    f.write(word)\n",
    "    f.write(\" \")\n",
    "    f.write(\" \".join(map(str, list(vectors[i-1,:]))))\n",
    "    f.write(\"\\n\")\n",
    "f.close()"
   ]
  },
  {
   "cell_type": "code",
   "execution_count": 75,
   "metadata": {},
   "outputs": [],
   "source": [
    "#reopen your file as follows\n",
    "\n",
    "co_occurrence = KeyedVectors.load_word2vec_format('./vectors_co_occurrence.txt', binary=False)"
   ]
  },
  {
   "cell_type": "markdown",
   "metadata": {},
   "source": [
    "## Question 2\n",
    "\n",
    "### Word embeddings\n",
    "Build embeddings with a keras implementation where the embedding vector is of length 50, 150 and 300. Use the Alice in Wonderland text book for training.\n",
    "1. Using the CBOW model\n",
    "2. Using Skipgram model\n",
    "3. Add extra hidden dense layer to CBow and Skipgram implementations. Choose an activation function for that layer and justify your answer.\n",
    "4. Analyze the four different word embeddings\n",
    "    - Implement your own function to perform the analogy task with. Do not use existing libraries for this task such as Gensim. Your function should be able to answer whether an anaology as in the example given in the pdf-file is true.\n",
    "    - Compare the performance on the analogy task between the word embeddings that you have trained in 2.1, 2.2 and 2.3.  \n",
    "    - Visualize your results and interpret your results\n",
    "5. Use the word co-occurence matrix from Question 1. Compare the performance on the analogy task with the performance of your trained word embeddings.  \n",
    "6. Discuss:\n",
    "    - What are the main advantages of CBOW and Skipgram?\n",
    "    - What is the advantage of negative sampling?\n",
    "    - What are the main drawbacks of CBOW and Skipgram?\n",
    "7. Load pre-trained embeddings on large corpuses (see the pdf file). You only have to consider the word embeddings with an embedding size of 300\n",
    "    - Compare performance on the analogy task with your own trained embeddings from \"Alice in Wonderland\". You can limit yourself to the vocabulary of Alice in Wonderland. Visualize the pre-trained word embeddings and compare these with the results of your own trained word embeddings. \n"
   ]
  },
  {
   "cell_type": "markdown",
   "metadata": {},
   "source": [
    "## 2.1\n",
    "### Using the CBOW model"
   ]
  },
  {
   "cell_type": "code",
   "execution_count": 154,
   "metadata": {},
   "outputs": [
    {
     "name": "stdout",
     "output_type": "stream",
     "text": [
      "(17896, 4)\n",
      "(17896, 2557)\n",
      "2557\n"
     ]
    }
   ],
   "source": [
    "#prepare data for cbow\n",
    "path = 'alice.txt'\n",
    "corpus = open(path).readlines()\n",
    "corpus = [sentence for sentence in corpus if sentence.count(\" \") >= 2]\n",
    "\n",
    "tokenizer = Tokenizer(filters='!\"#$%&()*+,-./:;<=>?@[\\\\]^_`{|}~\\t\\n'+\"'\")\n",
    "tokenizer.fit_on_texts(corpus)\n",
    "corpus = tokenizer.texts_to_sequences(corpus)\n",
    "nb_samples = sum(len(s) for s in corpus)\n",
    "V = len(tokenizer.word_index) + 1\n",
    "\n",
    "def prep_cbow_data(corpus=corpus,window_size=window_size,V=V):\n",
    "    x = []\n",
    "    y = []\n",
    "    w = window_size\n",
    "    for sentence in corpus:\n",
    "        word_length = len(sentence)\n",
    "        if word_length >4:\n",
    "            start = w\n",
    "            for i in range(w,word_length-w):\n",
    "                context_before = sentence[i-w:i]\n",
    "                target = np.zeros(V,dtype=int)\n",
    "                target[sentence[i]] = 1\n",
    "                context_after = sentence[i+1:i+1+start]\n",
    "                context = context_before + context_after\n",
    "                if len(context) == 4:\n",
    "                    #onehot_context = np.asarray(onehot_context)\n",
    "                    x.append(context)\n",
    "                    y.append(target)\n",
    "        else:\n",
    "            pass\n",
    "    x = np.asarray(x)\n",
    "    y = np.asarray(y)\n",
    "    return x,y\n",
    "\n",
    "print(prep_cbow_data()[0].shape)\n",
    "print(prep_cbow_data()[1].shape)\n",
    "print(V)\n",
    "\n"
   ]
  },
  {
   "cell_type": "code",
   "execution_count": 77,
   "metadata": {},
   "outputs": [
    {
     "name": "stderr",
     "output_type": "stream",
     "text": [
      "c:\\users\\illia\\appdata\\local\\programs\\python\\python36\\lib\\site-packages\\ipykernel_launcher.py:8: UserWarning: Update your `Embedding` call to the Keras 2 API: `Embedding(input_dim=2557, output_dim=50, input_length=4, embeddings_initializer=\"glorot_uniform\")`\n",
      "  \n"
     ]
    },
    {
     "name": "stdout",
     "output_type": "stream",
     "text": [
      "_________________________________________________________________\n",
      "Layer (type)                 Output Shape              Param #   \n",
      "=================================================================\n",
      "embedding_1 (Embedding)      (None, 4, 50)             127850    \n",
      "_________________________________________________________________\n",
      "flatten_1 (Flatten)          (None, 200)               0         \n",
      "_________________________________________________________________\n",
      "dense_1 (Dense)              (None, 2557)              513957    \n",
      "=================================================================\n",
      "Total params: 641,807\n",
      "Trainable params: 641,807\n",
      "Non-trainable params: 0\n",
      "_________________________________________________________________\n",
      "_________________________________________________________________\n",
      "Layer (type)                 Output Shape              Param #   \n",
      "=================================================================\n",
      "embedding_2 (Embedding)      (None, 4, 150)            383550    \n",
      "_________________________________________________________________\n",
      "flatten_2 (Flatten)          (None, 600)               0         \n",
      "_________________________________________________________________\n",
      "dense_2 (Dense)              (None, 2557)              1536757   \n",
      "=================================================================\n",
      "Total params: 1,920,307\n",
      "Trainable params: 1,920,307\n",
      "Non-trainable params: 0\n",
      "_________________________________________________________________\n",
      "_________________________________________________________________\n",
      "Layer (type)                 Output Shape              Param #   \n",
      "=================================================================\n",
      "embedding_3 (Embedding)      (None, 4, 300)            767100    \n",
      "_________________________________________________________________\n",
      "flatten_3 (Flatten)          (None, 1200)              0         \n",
      "_________________________________________________________________\n",
      "dense_3 (Dense)              (None, 2557)              3070957   \n",
      "=================================================================\n",
      "Total params: 3,838,057\n",
      "Trainable params: 3,838,057\n",
      "Non-trainable params: 0\n",
      "_________________________________________________________________\n"
     ]
    },
    {
     "name": "stderr",
     "output_type": "stream",
     "text": [
      "c:\\users\\illia\\appdata\\local\\programs\\python\\python36\\lib\\site-packages\\ipykernel_launcher.py:10: UserWarning: Update your `Dense` call to the Keras 2 API: `Dense(2557, activation=\"softmax\", kernel_initializer=\"glorot_uniform\")`\n",
      "  # Remove the CWD from sys.path while we load stuff.\n",
      "c:\\users\\illia\\appdata\\local\\programs\\python\\python36\\lib\\site-packages\\ipykernel_launcher.py:14: UserWarning: Update your `Embedding` call to the Keras 2 API: `Embedding(input_dim=2557, output_dim=150, input_length=4, embeddings_initializer=\"glorot_uniform\")`\n",
      "  \n",
      "c:\\users\\illia\\appdata\\local\\programs\\python\\python36\\lib\\site-packages\\ipykernel_launcher.py:16: UserWarning: Update your `Dense` call to the Keras 2 API: `Dense(2557, activation=\"softmax\", kernel_initializer=\"glorot_uniform\")`\n",
      "  app.launch_new_instance()\n",
      "c:\\users\\illia\\appdata\\local\\programs\\python\\python36\\lib\\site-packages\\ipykernel_launcher.py:20: UserWarning: Update your `Embedding` call to the Keras 2 API: `Embedding(input_dim=2557, output_dim=300, input_length=4, embeddings_initializer=\"glorot_uniform\")`\n",
      "c:\\users\\illia\\appdata\\local\\programs\\python\\python36\\lib\\site-packages\\ipykernel_launcher.py:22: UserWarning: Update your `Dense` call to the Keras 2 API: `Dense(2557, activation=\"softmax\", kernel_initializer=\"glorot_uniform\")`\n"
     ]
    }
   ],
   "source": [
    "#create CBOW model\n",
    "from keras.layers import Flatten\n",
    "#X,Y = prep_cbow_data()\n",
    "#features = len(X)\n",
    "#print(\"size X: {},size Y:{}\".format(len(X),len(Y)))\n",
    "#print(X.shape,Y.shape)\n",
    "cbow_50 = Sequential(name=\"cbow50\")\n",
    "cbow_50.add(Embedding(input_dim=V, output_dim=50, init='glorot_uniform',input_length=4))\n",
    "cbow_50.add(Flatten())\n",
    "cbow_50.add(Dense(V, init='glorot_uniform', activation='softmax'))\n",
    "\n",
    "cbow_50.summary()\n",
    "cbow_150 = Sequential(name=\"cbow150\")\n",
    "cbow_150.add(Embedding(input_dim=V, output_dim=150, init='glorot_uniform',input_length=4))\n",
    "cbow_150.add(Flatten())\n",
    "cbow_150.add(Dense(V, init='glorot_uniform', activation='softmax'))\n",
    "cbow_150.summary()\n",
    "\n",
    "cbow_300 = Sequential(name=\"cbow300\")\n",
    "cbow_300.add(Embedding(input_dim=V, output_dim=300, init='glorot_uniform',input_length=4))\n",
    "cbow_300.add(Flatten())\n",
    "cbow_300.add(Dense(V, init='glorot_uniform', activation='softmax'))\n",
    "cbow_300.summary()\n",
    "\n",
    "cbow_models = [cbow_50,cbow_150,cbow_300]"
   ]
  },
  {
   "cell_type": "code",
   "execution_count": 78,
   "metadata": {},
   "outputs": [],
   "source": [
    "#define loss function\n",
    "for cbow in cbow_models:\n",
    "    cbow.compile(loss='categorical_crossentropy', optimizer='adadelta')"
   ]
  },
  {
   "cell_type": "code",
   "execution_count": 6,
   "metadata": {},
   "outputs": [
    {
     "name": "stdout",
     "output_type": "stream",
     "text": [
      "Train on 5903 samples, validate on 656 samples\n",
      "Epoch 1/100\n",
      "5903/5903 [==============================] - 3s 547us/step - loss: 7.0495 - val_loss: 7.0279\n",
      "Epoch 2/100\n",
      "5903/5903 [==============================] - 3s 496us/step - loss: 6.9876 - val_loss: 6.9825\n",
      "Epoch 3/100\n",
      "5903/5903 [==============================] - 3s 485us/step - loss: 6.9145 - val_loss: 6.9132\n",
      "Epoch 4/100\n",
      "5903/5903 [==============================] - 3s 488us/step - loss: 6.8049 - val_loss: 6.7977\n",
      "Epoch 5/100\n",
      "5903/5903 [==============================] - 3s 480us/step - loss: 6.6370 - val_loss: 6.6216\n",
      "Epoch 6/100\n",
      "5903/5903 [==============================] - 3s 470us/step - loss: 6.4109 - val_loss: 6.4074\n",
      "Epoch 7/100\n",
      "5903/5903 [==============================] - 3s 453us/step - loss: 6.1725 - val_loss: 6.2239\n",
      "Epoch 8/100\n",
      "5903/5903 [==============================] - 3s 464us/step - loss: 5.9754 - val_loss: 6.0881\n",
      "Epoch 9/100\n",
      "5903/5903 [==============================] - 3s 457us/step - loss: 5.8161 - val_loss: 5.9828\n",
      "Epoch 10/100\n",
      "5903/5903 [==============================] - 3s 466us/step - loss: 5.6796 - val_loss: 5.8917\n",
      "Epoch 11/100\n",
      "5903/5903 [==============================] - 3s 482us/step - loss: 5.5570 - val_loss: 5.8114\n",
      "Epoch 12/100\n",
      "5903/5903 [==============================] - 3s 473us/step - loss: 5.4442 - val_loss: 5.7403\n",
      "Epoch 13/100\n",
      "5903/5903 [==============================] - 3s 478us/step - loss: 5.3385 - val_loss: 5.6753\n",
      "Epoch 14/100\n",
      "5903/5903 [==============================] - 3s 469us/step - loss: 5.2390 - val_loss: 5.6169\n",
      "Epoch 15/100\n",
      "5903/5903 [==============================] - 3s 475us/step - loss: 5.1443 - val_loss: 5.5632\n",
      "Epoch 16/100\n",
      "5903/5903 [==============================] - 3s 476us/step - loss: 5.0538 - val_loss: 5.5149\n",
      "Epoch 17/100\n",
      "5903/5903 [==============================] - 3s 467us/step - loss: 4.9665 - val_loss: 5.4677\n",
      "Epoch 18/100\n",
      "5903/5903 [==============================] - 3s 473us/step - loss: 4.8824 - val_loss: 5.4241\n",
      "Epoch 19/100\n",
      "5903/5903 [==============================] - 3s 472us/step - loss: 4.8022 - val_loss: 5.3846\n",
      "Epoch 20/100\n",
      "5903/5903 [==============================] - 3s 474us/step - loss: 4.7246 - val_loss: 5.3489\n",
      "Epoch 21/100\n",
      "5903/5903 [==============================] - 3s 487us/step - loss: 4.6496 - val_loss: 5.3148\n",
      "Epoch 22/100\n",
      "5903/5903 [==============================] - 3s 524us/step - loss: 4.5766 - val_loss: 5.2840\n",
      "Epoch 23/100\n",
      "5903/5903 [==============================] - 3s 506us/step - loss: 4.5054 - val_loss: 5.2552\n",
      "Epoch 24/100\n",
      "5903/5903 [==============================] - 3s 509us/step - loss: 4.4365 - val_loss: 5.2268\n",
      "Epoch 25/100\n",
      "5903/5903 [==============================] - 3s 520us/step - loss: 4.3692 - val_loss: 5.2011\n",
      "Epoch 26/100\n",
      "5903/5903 [==============================] - 3s 502us/step - loss: 4.3031 - val_loss: 5.1779\n",
      "Epoch 27/100\n",
      "5903/5903 [==============================] - 3s 514us/step - loss: 4.2391 - val_loss: 5.1539\n",
      "Epoch 28/100\n",
      "5903/5903 [==============================] - 3s 501us/step - loss: 4.1764 - val_loss: 5.1340\n",
      "Epoch 29/100\n",
      "5903/5903 [==============================] - 3s 521us/step - loss: 4.1147 - val_loss: 5.1111\n",
      "Epoch 30/100\n",
      "5903/5903 [==============================] - 3s 517us/step - loss: 4.0545 - val_loss: 5.0939\n",
      "Epoch 31/100\n",
      "5903/5903 [==============================] - 3s 516us/step - loss: 3.9958 - val_loss: 5.0774\n",
      "Epoch 32/100\n",
      "5903/5903 [==============================] - 3s 512us/step - loss: 3.9370 - val_loss: 5.0615\n",
      "Epoch 33/100\n",
      "5903/5903 [==============================] - 3s 502us/step - loss: 3.8795 - val_loss: 5.0446\n",
      "Epoch 34/100\n",
      "5903/5903 [==============================] - 3s 508us/step - loss: 3.8226 - val_loss: 5.0320\n",
      "Epoch 35/100\n",
      "5903/5903 [==============================] - 3s 514us/step - loss: 3.7672 - val_loss: 5.0181\n",
      "Epoch 36/100\n",
      "5903/5903 [==============================] - 3s 500us/step - loss: 3.7129 - val_loss: 5.0026\n",
      "Epoch 37/100\n",
      "5903/5903 [==============================] - 3s 515us/step - loss: 3.6593 - val_loss: 4.9881\n",
      "Epoch 38/100\n",
      "5903/5903 [==============================] - 3s 499us/step - loss: 3.6065 - val_loss: 4.9766\n",
      "Epoch 39/100\n",
      "5903/5903 [==============================] - 3s 514us/step - loss: 3.5535 - val_loss: 4.9656\n",
      "Epoch 40/100\n",
      "5903/5903 [==============================] - 3s 509us/step - loss: 3.5024 - val_loss: 4.9569\n",
      "Epoch 41/100\n",
      "5903/5903 [==============================] - 3s 505us/step - loss: 3.4515 - val_loss: 4.9470\n",
      "Epoch 42/100\n",
      "5903/5903 [==============================] - 3s 508us/step - loss: 3.4017 - val_loss: 4.9332\n",
      "Epoch 43/100\n",
      "5903/5903 [==============================] - 3s 505us/step - loss: 3.3526 - val_loss: 4.9240\n",
      "Epoch 44/100\n",
      "5903/5903 [==============================] - 3s 509us/step - loss: 3.3048 - val_loss: 4.9146\n",
      "Epoch 45/100\n",
      "5903/5903 [==============================] - 3s 519us/step - loss: 3.2574 - val_loss: 4.9087\n",
      "Epoch 46/100\n",
      "5903/5903 [==============================] - 3s 503us/step - loss: 3.2104 - val_loss: 4.9015\n",
      "Epoch 47/100\n",
      "5903/5903 [==============================] - 3s 512us/step - loss: 3.1638 - val_loss: 4.8949\n",
      "Epoch 48/100\n",
      "5903/5903 [==============================] - 3s 505us/step - loss: 3.1182 - val_loss: 4.8887\n",
      "Epoch 49/100\n",
      "5903/5903 [==============================] - 3s 515us/step - loss: 3.0731 - val_loss: 4.8816\n",
      "Epoch 50/100\n",
      "5903/5903 [==============================] - 3s 513us/step - loss: 3.0292 - val_loss: 4.8751\n",
      "Epoch 51/100\n",
      "5903/5903 [==============================] - 3s 516us/step - loss: 2.9854 - val_loss: 4.8706\n",
      "Epoch 52/100\n",
      "5903/5903 [==============================] - 3s 511us/step - loss: 2.9428 - val_loss: 4.8660\n",
      "Epoch 53/100\n",
      "5903/5903 [==============================] - 3s 510us/step - loss: 2.8997 - val_loss: 4.8603\n",
      "Epoch 54/100\n",
      "5903/5903 [==============================] - 3s 520us/step - loss: 2.8585 - val_loss: 4.8569\n",
      "Epoch 55/100\n",
      "5903/5903 [==============================] - 3s 516us/step - loss: 2.8173 - val_loss: 4.8546\n",
      "Epoch 56/100\n",
      "5903/5903 [==============================] - 3s 501us/step - loss: 2.7764 - val_loss: 4.8481\n",
      "Epoch 57/100\n",
      "5903/5903 [==============================] - 3s 510us/step - loss: 2.7371 - val_loss: 4.8446\n",
      "Epoch 58/100\n",
      "5903/5903 [==============================] - 3s 505us/step - loss: 2.6966 - val_loss: 4.8403\n",
      "Epoch 59/100\n",
      "5903/5903 [==============================] - 3s 506us/step - loss: 2.6579 - val_loss: 4.8409\n"
     ]
    },
    {
     "data": {
      "text/plain": [
       "<keras.callbacks.History at 0x1baf76451d0>"
      ]
     },
     "execution_count": 6,
     "metadata": {},
     "output_type": "execute_result"
    }
   ],
   "source": [
    "#train model\n",
    "from keras import callbacks\n",
    "X,Y = prep_cbow_data()\n",
    "epochs=100\n",
    "b_size = 250\n",
    "earlyStopping=callbacks.EarlyStopping(monitor='val_loss',min_delta=0.001, patience=0, verbose=0, mode='auto')\n",
    "trained_models = []\n",
    "for cbow in cbow_models:\n",
    "    print(\"Running {}\".format(cbow.name))\n",
    "    cbow.fit(X,Y,batch_size=b_size,epochs=epochs,validation_split=1/12, callbacks=[earlyStopping])\n",
    "    cbow.save(cbow.name+\".h5\")\n",
    "    trained_models.append(cbow)\n",
    "    \n"
   ]
  },
  {
   "cell_type": "code",
   "execution_count": null,
   "metadata": {},
   "outputs": [],
   "source": [
    "for model in trained_models:\n",
    "    model.save(model.name +'.h5')"
   ]
  },
  {
   "cell_type": "markdown",
   "metadata": {},
   "source": [
    "# 2.2 \n",
    "## Using the Skipgram model."
   ]
  },
  {
   "cell_type": "code",
   "execution_count": 163,
   "metadata": {},
   "outputs": [],
   "source": [
    "#prepare data for Skipgram\n",
    "def generate_data_skipgram(corpus, window_size, V):\n",
    "    maxlen = window_size*2\n",
    "    all_in = []\n",
    "    all_out = []\n",
    "    for words in corpus:\n",
    "        L = len(words)\n",
    "        for index, word in enumerate(words):\n",
    "            p = index - window_size\n",
    "            n = index + window_size + 1\n",
    "                    \n",
    "            in_words = []\n",
    "            labels = []\n",
    "            for i in range(p, n):\n",
    "                if i != index and 0 <= i < L:\n",
    "                    in_words.append([word])\n",
    "                    labels.append(words[i])\n",
    "            if in_words != []:\n",
    "                all_in.append(np.array(in_words,dtype=np.int32))\n",
    "                all_out.append(np_utils.to_categorical(labels, V))\n",
    "    return (all_in,all_out)\n",
    "\n",
    "#get x and y's for data\n",
    "x,y = generate_data_skipgram(corpus,window_size,V)\n",
    "\n",
    "#save the preprocessed data of Skipgram\n",
    "f = open('data_skipgram.txt' ,'w')\n",
    "\n",
    "for input,outcome  in zip(x,y):\n",
    "    input = np.concatenate(input)\n",
    "    f.write(\" \".join(map(str, list(input))))\n",
    "    f.write(\",\")\n",
    "    outcome = np.concatenate(outcome)\n",
    "    f.write(\" \".join(map(str,list(outcome))))\n",
    "    f.write(\"\\n\")\n",
    "f.close()\n",
    "\n",
    "#load the preprocessed Skipgram data\n",
    "def generate_data_skipgram_from_file():\n",
    "    f = open('data_skipgram.txt' ,'r')\n",
    "    for row in f:\n",
    "        inputs,outputs = row.split(\",\")\n",
    "        inputs = np.fromstring(inputs, dtype=int, sep=' ')\n",
    "        inputs = np.asarray(np.split(inputs, len(inputs)))\n",
    "        outputs = np.fromstring(outputs, dtype=float, sep=' ')\n",
    "        outputs = np.asarray(np.split(outputs, len(inputs)))\n",
    "        yield (inputs,outputs)"
   ]
  },
  {
   "cell_type": "code",
   "execution_count": 164,
   "metadata": {},
   "outputs": [],
   "source": [
    "#create Skipgram model\n",
    "\n",
    "dim1=50\n",
    "dim2=150\n",
    "dim3=300\n",
    "skipgram_50 = Sequential()\n",
    "skipgram_50.add(Embedding(input_dim=V, output_dim=dim1, embeddings_initializer='glorot_uniform', input_length=1))\n",
    "skipgram_50.add(Reshape((dim1, )))\n",
    "skipgram_50.add(Dense(input_dim=dim1, units=V, kernel_initializer='uniform', activation='softmax'))\n",
    "\n",
    "skipgram_150 = Sequential()\n",
    "skipgram_150.add(Embedding(input_dim=V, output_dim=dim2, embeddings_initializer='glorot_uniform', input_length=1))\n",
    "skipgram_150.add(Reshape((dim2, )))\n",
    "skipgram_150.add(Dense(input_dim=dim2, units=V, kernel_initializer='uniform', activation='softmax'))\n",
    "\n",
    "skipgram_300 = Sequential()\n",
    "skipgram_300.add(Embedding(input_dim=V, output_dim=dim3, embeddings_initializer='glorot_uniform', input_length=1))\n",
    "skipgram_300.add(Reshape((dim3, )))\n",
    "skipgram_300.add(Dense(input_dim=dim3, units=V, kernel_initializer='uniform', activation='softmax'))"
   ]
  },
  {
   "cell_type": "code",
   "execution_count": 165,
   "metadata": {},
   "outputs": [],
   "source": [
    "#define loss function for Skipgram\n",
    "skipgram_50.compile(loss='categorical_crossentropy', optimizer='adadelta')\n",
    "skipgram_150.compile(loss='categorical_crossentropy', optimizer='adadelta')\n",
    "skipgram_300.compile(loss='categorical_crossentropy', optimizer='adadelta')"
   ]
  },
  {
   "cell_type": "code",
   "execution_count": 166,
   "metadata": {},
   "outputs": [
    {
     "name": "stdout",
     "output_type": "stream",
     "text": [
      "0 42020.850971221924\n",
      "1 38379.24893140793\n",
      "2 39009.6740334034\n",
      "3 39515.18972373009\n",
      "4 39694.606760025024\n",
      "5 39879.188750982285\n",
      "6 40052.81768655777\n",
      "7 40222.94297456741\n",
      "8 40406.03855037689\n",
      "9 40601.82211446762\n",
      "0 41999.72671556473\n",
      "1 38329.860137462616\n",
      "2 38863.99836754799\n",
      "3 39224.9512283802\n",
      "4 39388.4169280529\n",
      "5 39532.090304374695\n",
      "6 39681.889948129654\n",
      "7 39846.23095178604\n",
      "8 40013.75022268295\n",
      "9 40184.366864323616\n",
      "0 41972.11958169937\n",
      "1 38265.37358021736\n",
      "2 38667.456391334534\n",
      "3 38952.51325392723\n",
      "4 39107.2551445961\n",
      "5 39254.421288490295\n",
      "6 39401.511434555054\n",
      "7 39544.53228521347\n",
      "8 39688.97990846634\n",
      "9 39832.670347929\n"
     ]
    }
   ],
   "source": [
    "#train Skipgram model\n",
    "for ite in range(10):\n",
    "    loss = 0.\n",
    "    for x, y in generate_data_skipgram_from_file():\n",
    "        loss += skipgram_50.train_on_batch(x, y)\n",
    "\n",
    "    print(ite, loss)\n",
    "    \n",
    "f = open('vectors_skipgram_50.txt' ,'w')\n",
    "f.write(\" \".join([str(V-1),str(dim1)]))\n",
    "f.write(\"\\n\")\n",
    "vectors = skipgram_50.get_weights()[0]\n",
    "for word, i in tokenizer.word_index.items():\n",
    "    f.write(word)\n",
    "    f.write(\" \")\n",
    "    f.write(\" \".join(map(str, list(vectors[i,:]))))\n",
    "    f.write(\"\\n\")\n",
    "f.close()\n",
    "\n",
    "for ite in range(10):\n",
    "    loss = 0.\n",
    "    for x, y in generate_data_skipgram_from_file():\n",
    "        loss += skipgram_150.train_on_batch(x, y)\n",
    "\n",
    "    print(ite, loss)\n",
    "    \n",
    "f = open('vectors_skipgram_150.txt' ,'w')\n",
    "f.write(\" \".join([str(V-1),str(dim2)]))\n",
    "f.write(\"\\n\")\n",
    "vectors = skipgram_150.get_weights()[0]\n",
    "for word, i in tokenizer.word_index.items():\n",
    "    f.write(word)\n",
    "    f.write(\" \")\n",
    "    f.write(\" \".join(map(str, list(vectors[i,:]))))\n",
    "    f.write(\"\\n\")\n",
    "f.close()\n",
    "\n",
    "for ite in range(10):\n",
    "    loss = 0.\n",
    "    for x, y in generate_data_skipgram_from_file():\n",
    "        loss += skipgram_300.train_on_batch(x, y)\n",
    "\n",
    "    print(ite, loss)\n",
    "    \n",
    "f = open('vectors_skipgram_300.txt' ,'w')\n",
    "f.write(\" \".join([str(V-1),str(dim3)]))\n",
    "f.write(\"\\n\")\n",
    "vectors = skipgram_300.get_weights()[0]\n",
    "for word, i in tokenizer.word_index.items():\n",
    "    f.write(word)\n",
    "    f.write(\" \")\n",
    "    f.write(\" \".join(map(str, list(vectors[i,:]))))\n",
    "    f.write(\"\\n\")\n",
    "f.close()"
   ]
  },
  {
   "cell_type": "markdown",
   "metadata": {},
   "source": [
    "## 2.3\n",
    "### Add extra hidden dense layer to CBow and Skipgram implementations. Choose an activation function for that layer and justify your answer."
   ]
  },
  {
   "cell_type": "code",
   "execution_count": 8,
   "metadata": {},
   "outputs": [
    {
     "name": "stderr",
     "output_type": "stream",
     "text": [
      "c:\\users\\illia\\appdata\\local\\programs\\python\\python36\\lib\\site-packages\\ipykernel_launcher.py:3: UserWarning: Update your `Embedding` call to the Keras 2 API: `Embedding(input_dim=1183, output_dim=100, input_length=4, embeddings_initializer=\"glorot_uniform\")`\n",
      "  This is separate from the ipykernel package so we can avoid doing imports until\n",
      "c:\\users\\illia\\appdata\\local\\programs\\python\\python36\\lib\\site-packages\\ipykernel_launcher.py:6: UserWarning: Update your `Dense` call to the Keras 2 API: `Dense(1183, activation=\"softmax\", kernel_initializer=\"glorot_uniform\")`\n",
      "  \n"
     ]
    }
   ],
   "source": [
    "#create CBOW model with additional dense layer\n",
    "cbow2 = Sequential()\n",
    "cbow2.add(Embedding(input_dim=V, output_dim=dim, init='glorot_uniform',input_length=4))\n",
    "cbow2.add(Flatten())\n",
    "cbow2.add(Dense(V,activation='relu'))\n",
    "cbow2.add(Dense(V, init='glorot_uniform', activation='softmax'))"
   ]
  },
  {
   "cell_type": "code",
   "execution_count": 10,
   "metadata": {},
   "outputs": [],
   "source": [
    "#define loss function for CBOW + dense\n",
    "cbow2.compile(loss='categorical_crossentropy', optimizer='adadelta')"
   ]
  },
  {
   "cell_type": "code",
   "execution_count": 11,
   "metadata": {},
   "outputs": [
    {
     "name": "stdout",
     "output_type": "stream",
     "text": [
      "Train on 5903 samples, validate on 656 samples\n",
      "Epoch 1/100\n",
      "5903/5903 [==============================] - 9s 2ms/step - loss: 6.7766 - val_loss: 6.1094\n",
      "Epoch 2/100\n",
      "5903/5903 [==============================] - 9s 1ms/step - loss: 5.8327 - val_loss: 5.7606\n",
      "Epoch 3/100\n",
      "5903/5903 [==============================] - 9s 2ms/step - loss: 5.5145 - val_loss: 5.5747\n",
      "Epoch 4/100\n",
      "5903/5903 [==============================] - 8s 1ms/step - loss: 5.2639 - val_loss: 5.4150\n",
      "Epoch 5/100\n",
      "5903/5903 [==============================] - 8s 1ms/step - loss: 5.0215 - val_loss: 5.2781\n",
      "Epoch 6/100\n",
      "5903/5903 [==============================] - 9s 2ms/step - loss: 4.7894 - val_loss: 5.1477\n",
      "Epoch 7/100\n",
      "5903/5903 [==============================] - 11s 2ms/step - loss: 4.5724 - val_loss: 5.0567\n",
      "Epoch 8/100\n",
      "5903/5903 [==============================] - 10s 2ms/step - loss: 4.3716 - val_loss: 4.9879\n",
      "Epoch 9/100\n",
      "5903/5903 [==============================] - 10s 2ms/step - loss: 4.1812 - val_loss: 4.9395\n",
      "Epoch 10/100\n",
      "5903/5903 [==============================] - 9s 2ms/step - loss: 3.9998 - val_loss: 4.8841\n",
      "Epoch 11/100\n",
      "5903/5903 [==============================] - 9s 2ms/step - loss: 3.8235 - val_loss: 4.8715\n",
      "Epoch 12/100\n",
      "5903/5903 [==============================] - 9s 2ms/step - loss: 3.6504 - val_loss: 4.8396\n",
      "Epoch 13/100\n",
      "5903/5903 [==============================] - 9s 2ms/step - loss: 3.4827 - val_loss: 4.8171\n",
      "Epoch 14/100\n",
      "5903/5903 [==============================] - 10s 2ms/step - loss: 3.3142 - val_loss: 4.8193\n"
     ]
    },
    {
     "data": {
      "text/plain": [
       "<keras.callbacks.History at 0x1bafacd8668>"
      ]
     },
     "execution_count": 11,
     "metadata": {},
     "output_type": "execute_result"
    }
   ],
   "source": [
    "#train model for CBOW + dense\n",
    "epochs=100\n",
    "\n",
    "earlyStopping=callbacks.EarlyStopping(monitor='val_loss',min_delta=0.001, patience=0, verbose=0, mode='auto')\n",
    "\n",
    "cbow2.fit(X,Y,epochs=epochs,validation_split=0.1, callbacks=[earlyStopping])"
   ]
  },
  {
   "cell_type": "code",
   "execution_count": 12,
   "metadata": {},
   "outputs": [],
   "source": [
    "#create Skipgram with additional dense layer\n",
    "\n",
    "#create Skipgram model\n",
    "\n",
    "skipgram_50_dense = Sequential()\n",
    "skipgram_50_dense.add(Embedding(input_dim=V, output_dim=dim1, embeddings_initializer='glorot_uniform', input_length=1))\n",
    "skipgram_50_dense.add(Reshape((dim1, )))\n",
    "skipgram_50_dense.add(Dense(V,activation='relu'))\n",
    "skipgram_50_dense.add(Dense(input_dim=dim1, units=V, kernel_initializer='uniform', activation='softmax'))\n",
    "\n",
    "skipgram_150_dense = Sequential()\n",
    "skipgram_150_dense.add(Embedding(input_dim=V, output_dim=dim2, embeddings_initializer='glorot_uniform', input_length=1))\n",
    "skipgram_150_dense.add(Reshape((dim2, )))\n",
    "skipgram_150_dense.add(Dense(V,activation='relu'))\n",
    "skipgram_150_dense.add(Dense(input_dim=dim2, units=V, kernel_initializer='uniform', activation='softmax'))\n",
    "\n",
    "skipgram_300_dense = Sequential()\n",
    "skipgram_300_dense.add(Embedding(input_dim=V, output_dim=dim3, embeddings_initializer='glorot_uniform', input_length=1))\n",
    "skipgram_300_dense.add(Reshape((dim3, )))\n",
    "skipgram_300_dense.add(Dense(V,activation='relu'))\n",
    "skipgram_300_dense.add(Dense(input_dim=dim3, units=V, kernel_initializer='uniform', activation='softmax'))\n",
    "\n",
    "\n",
    "\n",
    "#skipgram2 = Sequential()\n",
    "#skipgram2.add(Embedding(input_dim=V, output_dim=dim, embeddings_initializer='glorot_uniform', input_length=1))\n",
    "#skipgram2.add(Reshape((dim, )))\n",
    "#skipgram2.add(Dense(input_dim=dim, units=V, kernel_initializer='uniform', activation='softmax'))\n",
    "#skipgram2.add(Dense(input_dim=dim, units=V, kernel_initializer='uniform', activation='softmax'))"
   ]
  },
  {
   "cell_type": "code",
   "execution_count": 13,
   "metadata": {},
   "outputs": [],
   "source": [
    "#define loss function for Skipgram + dense\n",
    "skipgram_50_dense.compile(loss='categorical_crossentropy', optimizer='adadelta')\n",
    "skipgram_150_dense.compile(loss='categorical_crossentropy', optimizer='adadelta')\n",
    "skipgram_300_dense.compile(loss='categorical_crossentropy', optimizer='adadelta')"
   ]
  },
  {
   "cell_type": "code",
   "execution_count": 14,
   "metadata": {},
   "outputs": [
    {
     "name": "stdout",
     "output_type": "stream",
     "text": [
      "0 39444.32987213135\n",
      "1 38264.48951482773\n",
      "2 37948.66480302811\n",
      "3 37769.99622249603\n",
      "4 37750.78943347931\n",
      "5 37725.23108911514\n",
      "6 37674.930666565895\n",
      "7 37620.79466640949\n",
      "8 37566.527002334595\n",
      "9 37519.70512115955\n",
      "0 39471.03422307968\n",
      "1 38220.93018221855\n",
      "2 37718.286794900894\n",
      "3 37538.61131024361\n",
      "4 37493.13153910637\n",
      "5 37456.600872159004\n",
      "6 37402.676347732544\n",
      "7 37335.5792144537\n",
      "8 37265.79830777645\n",
      "9 37196.82523834705\n",
      "0 39445.47623085976\n",
      "1 38082.24569654465\n",
      "2 37592.96987724304\n",
      "3 37330.86567401886\n",
      "4 37259.75267124176\n",
      "5 37224.620362997055\n",
      "6 37161.21744906902\n",
      "7 37086.09090960026\n",
      "8 37002.261269927025\n",
      "9 36925.072355270386\n"
     ]
    }
   ],
   "source": [
    "#train model for Skipgram + dense\n",
    "#train Skipgram model\n",
    "for ite in range(10):\n",
    "    loss = 0.\n",
    "    for x, y in generate_data_skipgram_from_file():\n",
    "        loss += skipgram_50_dense.train_on_batch(x, y)\n",
    "\n",
    "    print(ite, loss)\n",
    "    \n",
    "f = open('vectors_skipgram_50_dense.txt' ,'w')\n",
    "f.write(\" \".join([str(V-1),str(dim1)]))\n",
    "f.write(\"\\n\")\n",
    "vectors = skipgram_50_dense.get_weights()[0]\n",
    "for word, i in tokenizer.word_index.items():\n",
    "    f.write(word)\n",
    "    f.write(\" \")\n",
    "    f.write(\" \".join(map(str, list(vectors[i,:]))))\n",
    "    f.write(\"\\n\")\n",
    "f.close()\n",
    "\n",
    "for ite in range(10):\n",
    "    loss = 0.\n",
    "    for x, y in generate_data_skipgram_from_file():\n",
    "        loss += skipgram_150_dense.train_on_batch(x, y)\n",
    "\n",
    "    print(ite, loss)\n",
    "    \n",
    "f = open('vectors_skipgram_150_dense.txt' ,'w')\n",
    "f.write(\" \".join([str(V-1),str(dim2)]))\n",
    "f.write(\"\\n\")\n",
    "vectors = skipgram_150_dense.get_weights()[0]\n",
    "for word, i in tokenizer.word_index.items():\n",
    "    f.write(word)\n",
    "    f.write(\" \")\n",
    "    f.write(\" \".join(map(str, list(vectors[i,:]))))\n",
    "    f.write(\"\\n\")\n",
    "f.close()\n",
    "\n",
    "for ite in range(10):\n",
    "    loss = 0.\n",
    "    for x, y in generate_data_skipgram_from_file():\n",
    "        loss += skipgram_300_dense.train_on_batch(x, y)\n",
    "\n",
    "    print(ite, loss)\n",
    "    \n",
    "f = open('vectors_skipgram_300_dense.txt' ,'w')\n",
    "f.write(\" \".join([str(V-1),str(dim3)]))\n",
    "f.write(\"\\n\")\n",
    "vectors = skipgram_300_dense.get_weights()[0]\n",
    "for word, i in tokenizer.word_index.items():\n",
    "    f.write(word)\n",
    "    f.write(\" \")\n",
    "    f.write(\" \".join(map(str, list(vectors[i,:]))))\n",
    "    f.write(\"\\n\")\n",
    "f.close()"
   ]
  },
  {
   "cell_type": "code",
   "execution_count": null,
   "metadata": {},
   "outputs": [],
   "source": [
    "#save model\n",
    "skipgram_50.save('skipgram_50.h5')\n",
    "skipgram_150.save('skipgram_150.h5')\n",
    "skipgram_300.save('skipgram_300.h5')\n",
    "skipgram_50_dense.save('skipgram_50_dense.h5')\n",
    "skipgram_150_dense.save('skipgram_150_dense.h5')\n",
    "skipgram_300_dense.save('skipgram_300_dense.h5')"
   ]
  },
  {
   "cell_type": "markdown",
   "metadata": {},
   "source": [
    "TODO:\n",
    "explain activation layer\n",
    "\n",
    "We add an extra hidden dense layer just before the final dense layer. We use ReLU activation function since it is the simplest non-linear activation function that is commonly used."
   ]
  },
  {
   "cell_type": "markdown",
   "metadata": {},
   "source": [
    "## 2.4\n",
    "### Analyze the four different word embeddings"
   ]
  },
  {
   "cell_type": "code",
   "execution_count": 124,
   "metadata": {},
   "outputs": [],
   "source": [
    "#Implement your own analogy function\n",
    "\n",
    "key_cbow_50 ={}\n",
    "key_cbow_150 ={}\n",
    "key_cbow_300 ={}\n",
    "key_cbow_50_dense ={}\n",
    "key_cbow_150_dense ={}\n",
    "key_cbow_300_dense ={}\n",
    "key_skipgram_50 ={}\n",
    "key_skipgram_150 ={}\n",
    "key_skipgram_300 ={}\n",
    "key_skipgram_50_dense ={}\n",
    "key_skipgram_150_dense ={}\n",
    "key_skipgram_300_dense ={}\n",
    "\n",
    "embed_cbow_50 =[]\n",
    "embed_cbow_150 =[]\n",
    "embed_cbow_300 =[]\n",
    "embed_cbow_50_dense =[]\n",
    "embed_cbow_150_dense =[]\n",
    "embed_cbow_300_dense =[]\n",
    "embed_skipgram_50 =[]\n",
    "embed_skipgram_150 =[]\n",
    "embed_skipgram_300 =[]\n",
    "embed_skipgram_50_dense =[]\n",
    "embed_skipgram_150_dense =[]\n",
    "embed_skipgram_300_dense =[]\n",
    "\n",
    "\n",
    "\n",
    "\n",
    "def load_from_file(a):\n",
    "    f = open(a ,'r')\n",
    "    key_dict={}\n",
    "    vect=[]\n",
    "    for row in f:\n",
    "        dimention=0\n",
    "        inp = row.split(\"\\n\")[0].split(\" \")\n",
    "        if(len(inp)==2):\n",
    "            dimention=inp[1]\n",
    "        else:\n",
    "            key_dict.update({inp[0]:len(key_dict)})\n",
    "            vect.append(np.asarray(inp[1:],dtype=float))\n",
    "    return (vect,key_dict)\n",
    "\n",
    "(embed_cbow_50,key_cbow_50)=load_from_file('vectors_cbow_50.txt')\n",
    "(embed_cbow_150,key_cbow_150)=load_from_file('vectors_cbow_150.txt')\n",
    "(embed_cbow_300,key_cbow_300)=load_from_file('vectors_cbow_300.txt')\n",
    "(embed_cbow_50_dense,key_cbow_50_dense)=load_from_file('vectors_cbow_50_dense.txt')\n",
    "(embed_cbow_150_dense,key_cbow_150_dense)=load_from_file('vectors_cbow_150_dense.txt')\n",
    "(embed_cbow_300_dense,key_cbow_300_dense)=load_from_file('vectors_cbow_300_dense.txt')\n",
    "(embed_skipgram_50,key_skipgram_50)=load_from_file('vectors_skipgram_50.txt')\n",
    "(embed_skipgram_150,key_skipgram_150)=load_from_file('vectors_skipgram_150.txt')\n",
    "(embed_skipgram_300,key_skipgram_300)=load_from_file('vectors_skipgram_300.txt')\n",
    "(embed_skipgram_50_dense,key_skipgram_50_dense)=load_from_file('vectors_skipgram_50_dense.txt')\n",
    "(embed_skipgram_150_dense,key_skipgram_150_dense)=load_from_file('vectors_skipgram_150_dense.txt')\n",
    "(embed_skipgram_300_dense,key_skipgram_300_dense)=load_from_file('vectors_skipgram_300_dense.txt')\n",
    "\n",
    "\n"
   ]
  },
  {
   "cell_type": "code",
   "execution_count": 218,
   "metadata": {},
   "outputs": [
    {
     "name": "stdout",
     "output_type": "stream",
     "text": [
      "0.2987872018658159\n",
      "0.3639722847169673\n",
      "0.03881251966987568\n"
     ]
    }
   ],
   "source": [
    "import operator \n",
    "def load_analogy():\n",
    "    f = open('analogy_alice.txt' ,'r')\n",
    "    analogy_list=[]\n",
    "    for row in f:\n",
    "        a = row.split(\"\\n\")[0].split(\" \")\n",
    "        analogy_list.append(np.asarray(a))\n",
    "    return analogy_list\n",
    "\n",
    "def analogy_check(analogy_list,embed_matrix,dictionary):\n",
    "    v=[[],[],[],[]]\n",
    "    for i in range(4):\n",
    "        if(analogy_list[i] in dictionary):\n",
    "            v[i]=embed_matrix[dictionary[analogy_list[i]]-1]\n",
    "        else:\n",
    "            v[i]=np.zeros(len(embed_matrix[0]))\n",
    "    #print(dictionary)\n",
    "    #return abs(cos_sim(v[0],v[2])-cos_sim(v[1],v[3]))\n",
    "    #return 1-abs(cos_sim(v[0],v[1])-cos_sim(v[2],v[3]))\n",
    "    #return cos_sim( list(map(sum, zip(list(map(operator.sub, v[0],v[1]))), v[2])),v[3])\n",
    "    #return abs(cos_sim(v[0]-v[2]+v[1],v[3]))\n",
    "    return abs(cos_sim( v[0]+v[1]/2,v[2]+v[3]/2))\n",
    "analogy_list=load_analogy()\n",
    "#print(analogy_list[0])\n",
    "print(analogy_check([\"go\",\"going\",\"look\",\"looking\"],embed_skipgram_150, tokenizer.word_index ))\n",
    "print(analogy_check([\"say\",\"saying\",\"sit\",\"sitting\"],cooccurrence_matrix.toarray(), tokenizer.word_index ))\n",
    "print(analogy_check([\"sudden\",\"suddenly\",\"usual\",\"usually\"],embed_skipgram_300_dense, tokenizer.word_index ))\n",
    "#print(analogy_check([\"king\",\"queen\",\"man\",\"woman\"],embed_cbow_50, tokenizer.word_index ))\n",
    "\n",
    "#analogy_check([\"fancy\",\"fancying\",\"alice\",\"rabbit\"],embed_skipgram_150, tokenizer.word_index )    "
   ]
  },
  {
   "cell_type": "code",
   "execution_count": 168,
   "metadata": {},
   "outputs": [
    {
     "data": {
      "text/plain": [
       "False"
      ]
     },
     "execution_count": 168,
     "metadata": {},
     "output_type": "execute_result"
    }
   ],
   "source": [
    "\"king\" in tokenizer.word_index"
   ]
  },
  {
   "cell_type": "code",
   "execution_count": 123,
   "metadata": {},
   "outputs": [],
   "source": [
    "#read model from tim\n",
    "\n",
    "from keras.models import load_model\n",
    "\n",
    "dim1=50\n",
    "dim2=150\n",
    "dim3=300\n",
    "cbow_50 = load_model('cbow50.h5')\n",
    "cbow_150 = load_model('cbow150.h5')\n",
    "cbow_300 = load_model('cbow300.h5')\n",
    "cbow_50_dense = load_model('cbow_extended_50.h5')\n",
    "cbow_150_dense = load_model('cbow_extended_150.h5')\n",
    "cbow_300_dense = load_model('cbow_extended_300.h5')\n",
    "\n",
    "f = open('vectors_cbow_50.txt' ,'w')\n",
    "f.write(\" \".join([str(V-1),str(dim1)]))\n",
    "f.write(\"\\n\")\n",
    "vectors = cbow_50.get_weights()[0]\n",
    "for word, i in tokenizer.word_index.items():\n",
    "    f.write(word)\n",
    "    f.write(\" \")\n",
    "    f.write(\" \".join(map(str, list(vectors[i,:]))))\n",
    "    f.write(\"\\n\")\n",
    "f.close()\n",
    "\n",
    "f = open('vectors_cbow_150.txt' ,'w')\n",
    "f.write(\" \".join([str(V-1),str(dim2)]))\n",
    "f.write(\"\\n\")\n",
    "vectors = cbow_150.get_weights()[0]\n",
    "for word, i in tokenizer.word_index.items():\n",
    "    f.write(word)\n",
    "    f.write(\" \")\n",
    "    f.write(\" \".join(map(str, list(vectors[i,:]))))\n",
    "    f.write(\"\\n\")\n",
    "f.close()\n",
    "\n",
    "f = open('vectors_cbow_300.txt' ,'w')\n",
    "f.write(\" \".join([str(V-1),str(dim3)]))\n",
    "f.write(\"\\n\")\n",
    "vectors = cbow_300.get_weights()[0]\n",
    "for word, i in tokenizer.word_index.items():\n",
    "    f.write(word)\n",
    "    f.write(\" \")\n",
    "    f.write(\" \".join(map(str, list(vectors[i,:]))))\n",
    "    f.write(\"\\n\")\n",
    "f.close()\n",
    "\n",
    "f = open('vectors_cbow_50_dense.txt' ,'w')\n",
    "f.write(\" \".join([str(V-1),str(dim1)]))\n",
    "f.write(\"\\n\")\n",
    "vectors = cbow_50_dense.get_weights()[0]\n",
    "for word, i in tokenizer.word_index.items():\n",
    "    f.write(word)\n",
    "    f.write(\" \")\n",
    "    f.write(\" \".join(map(str, list(vectors[i,:]))))\n",
    "    f.write(\"\\n\")\n",
    "f.close()\n",
    "\n",
    "f = open('vectors_cbow_150_dense.txt' ,'w')\n",
    "f.write(\" \".join([str(V-1),str(dim2)]))\n",
    "f.write(\"\\n\")\n",
    "vectors = cbow_150_dense.get_weights()[0]\n",
    "for word, i in tokenizer.word_index.items():\n",
    "    f.write(word)\n",
    "    f.write(\" \")\n",
    "    f.write(\" \".join(map(str, list(vectors[i,:]))))\n",
    "    f.write(\"\\n\")\n",
    "f.close()\n",
    "\n",
    "f = open('vectors_cbow_300_dense.txt' ,'w')\n",
    "f.write(\" \".join([str(V-1),str(dim3)]))\n",
    "f.write(\"\\n\")\n",
    "vectors = cbow_300_dense.get_weights()[0]\n",
    "for word, i in tokenizer.word_index.items():\n",
    "    f.write(word)\n",
    "    f.write(\" \")\n",
    "    f.write(\" \".join(map(str, list(vectors[i,:]))))\n",
    "    f.write(\"\\n\")\n",
    "f.close()\n"
   ]
  },
  {
   "cell_type": "markdown",
   "metadata": {},
   "source": [
    "Comparison performance:"
   ]
  },
  {
   "cell_type": "code",
   "execution_count": 226,
   "metadata": {},
   "outputs": [],
   "source": [
    "#Visualization results trained word embeddings\n",
    "\n",
    "import matplotlib.pyplot as plt\n",
    "def draw_word_vecs(X,strings):\n",
    "    col = ['r','b','g','y']\n",
    "    if len(X)!= len(strings):\n",
    "        print(\"mismatch in lengths between labels and vectors\")\n",
    "        \n",
    "    X_embedded = TSNE(n_components=4,method='exact').fit_transform(X)\n",
    "    maxt = np.amax(X_embedded)\n",
    "    mint = np.amin(X_embedded)\n",
    "    #print(maxt,mint)\n",
    "    maxt = max(maxt,mint*-1)\n",
    "    for i in range(len(X_embedded)):\n",
    "        plt.quiver(X_embedded[i][0]/maxt,X_embedded[i][1]/maxt,X_embedded[i][2]/maxt,X_embedded[i][3]/maxt,angles='xy', scale_units='xy',color=col[i], scale=1,label=strings[i])\n",
    "        #for val in X_embedded[i]:\n",
    "            #print(val/maxt)\n",
    "    #print(X_embedded)\n",
    "    plt.ylim(-1.2,1.2)\n",
    "    plt.xlim(-1.2,1.2)\n",
    "    plt.legend(strings)\n",
    "    plt.show()\n",
    "\n"
   ]
  },
  {
   "cell_type": "code",
   "execution_count": 231,
   "metadata": {},
   "outputs": [
    {
     "data": {
      "image/png": "[encoded data removed]",
      "text/plain": [
       "<matplotlib.figure.Figure at 0x24b0c6274e0>"
      ]
     },
     "metadata": {},
     "output_type": "display_data"
    },
    {
     "name": "stdout",
     "output_type": "stream",
     "text": [
      "['sudden' 'suddenly' 'usual' 'usually']\n"
     ]
    }
   ],
   "source": [
    "#cbow 50\n",
    "w2visualize=analogy_list[1]\n",
    "\n",
    "embedlist=[]\n",
    "for i in range(4):\n",
    "    #embedlist.append(word2vec[analogy_list[1][i]])\n",
    "    embedlist.append(embed_cbow_50[tokenizer.word_index[w2visualize[i]]-1])\n",
    "plt.title(\"CBOW 50\")\n",
    "draw_word_vecs(embedlist,w2visualize)    \n",
    "print(w2visualize)\n"
   ]
  },
  {
   "cell_type": "code",
   "execution_count": 232,
   "metadata": {},
   "outputs": [
    {
     "data": {
      "image/png": "[encoded data removed]",
      "text/plain": [
       "<matplotlib.figure.Figure at 0x24b0c62e9e8>"
      ]
     },
     "metadata": {},
     "output_type": "display_data"
    },
    {
     "name": "stdout",
     "output_type": "stream",
     "text": [
      "['sudden' 'suddenly' 'usual' 'usually']\n"
     ]
    }
   ],
   "source": [
    "#cbow 150\n",
    "\n",
    "embedlist=[]\n",
    "for i in range(4):\n",
    "    #embedlist.append(word2vec[analogy_list[1][i]])\n",
    "    embedlist.append(embed_cbow_150[tokenizer.word_index[w2visualize[i]]-1])\n",
    "plt.title(\"CBOW 150\")\n",
    "draw_word_vecs(embedlist,w2visualize)    \n",
    "print(w2visualize)\n"
   ]
  },
  {
   "cell_type": "code",
   "execution_count": 233,
   "metadata": {},
   "outputs": [
    {
     "data": {
      "image/png": "[encoded data removed]",
      "text/plain": [
       "<matplotlib.figure.Figure at 0x24b0c7155f8>"
      ]
     },
     "metadata": {},
     "output_type": "display_data"
    },
    {
     "name": "stdout",
     "output_type": "stream",
     "text": [
      "['sudden' 'suddenly' 'usual' 'usually']\n"
     ]
    }
   ],
   "source": [
    "#cbow 300\n",
    "\n",
    "embedlist=[]\n",
    "for i in range(4):\n",
    "    #embedlist.append(word2vec[analogy_list[1][i]])\n",
    "    embedlist.append(embed_cbow_300[tokenizer.word_index[w2visualize[i]]-1])\n",
    "plt.title(\"CBOW 300\")\n",
    "draw_word_vecs(embedlist,w2visualize)    \n",
    "print(w2visualize)\n"
   ]
  },
  {
   "cell_type": "code",
   "execution_count": 228,
   "metadata": {},
   "outputs": [
    {
     "data": {
      "image/png": "[encoded data removed]",
      "text/plain": [
       "<matplotlib.figure.Figure at 0x24b0c4de0b8>"
      ]
     },
     "metadata": {},
     "output_type": "display_data"
    },
    {
     "name": "stdout",
     "output_type": "stream",
     "text": [
      "['sudden' 'suddenly' 'usual' 'usually']\n"
     ]
    }
   ],
   "source": [
    "#skipgram 50\n",
    "\n",
    "embedlist=[]\n",
    "for i in range(4):\n",
    "    #embedlist.append(word2vec[analogy_list[1][i]])\n",
    "    embedlist.append(embed_skipgram_50[tokenizer.word_index[w2visualize[i]]-1])\n",
    "plt.title(\"Skipgram 50\")\n",
    "draw_word_vecs(embedlist,w2visualize)    \n",
    "print(w2visualize)\n"
   ]
  },
  {
   "cell_type": "code",
   "execution_count": 229,
   "metadata": {},
   "outputs": [
    {
     "data": {
      "image/png": "[encoded data removed]",
      "text/plain": [
       "<matplotlib.figure.Figure at 0x24b0c4de4a8>"
      ]
     },
     "metadata": {},
     "output_type": "display_data"
    },
    {
     "name": "stdout",
     "output_type": "stream",
     "text": [
      "['sudden' 'suddenly' 'usual' 'usually']\n"
     ]
    }
   ],
   "source": [
    "#skipgram 150\n",
    "\n",
    "embedlist=[]\n",
    "for i in range(4):\n",
    "    #embedlist.append(word2vec[analogy_list[1][i]])\n",
    "    embedlist.append(embed_skipgram_150[tokenizer.word_index[w2visualize[i]]-1])\n",
    "plt.title(\"Skipgram 150\")\n",
    "draw_word_vecs(embedlist,w2visualize)    \n",
    "print(w2visualize)\n"
   ]
  },
  {
   "cell_type": "code",
   "execution_count": 230,
   "metadata": {},
   "outputs": [
    {
     "data": {
      "image/png": "[encoded data removed]",
      "text/plain": [
       "<matplotlib.figure.Figure at 0x24b0c589240>"
      ]
     },
     "metadata": {},
     "output_type": "display_data"
    },
    {
     "name": "stdout",
     "output_type": "stream",
     "text": [
      "['sudden' 'suddenly' 'usual' 'usually']\n"
     ]
    }
   ],
   "source": [
    "#skipgram 300\n",
    "\n",
    "embedlist=[]\n",
    "for i in range(4):\n",
    "    #embedlist.append(word2vec[analogy_list[1][i]])\n",
    "    embedlist.append(embed_skipgram_300[tokenizer.word_index[w2visualize[i]]-1])\n",
    "plt.title(\"Skipgram 300\")\n",
    "draw_word_vecs(embedlist,w2visualize)    \n",
    "print(w2visualize)\n"
   ]
  },
  {
   "cell_type": "code",
   "execution_count": 234,
   "metadata": {},
   "outputs": [
    {
     "data": {
      "image/png": "[encoded data removed]",
      "text/plain": [
       "<matplotlib.figure.Figure at 0x24b0c776668>"
      ]
     },
     "metadata": {},
     "output_type": "display_data"
    },
    {
     "name": "stdout",
     "output_type": "stream",
     "text": [
      "['sudden' 'suddenly' 'usual' 'usually']\n"
     ]
    }
   ],
   "source": [
    "#cbow 50_dense\n",
    "\n",
    "embedlist=[]\n",
    "for i in range(4):\n",
    "    #embedlist.append(word2vec[analogy_list[1][i]])\n",
    "    embedlist.append(embed_cbow_50_dense[tokenizer.word_index[w2visualize[i]]-1])\n",
    "plt.title(\"CBOW 50 dense\")\n",
    "draw_word_vecs(embedlist,w2visualize)    \n",
    "print(w2visualize)\n"
   ]
  },
  {
   "cell_type": "code",
   "execution_count": 235,
   "metadata": {},
   "outputs": [
    {
     "data": {
      "image/png": "[encoded data removed]",
      "text/plain": [
       "<matplotlib.figure.Figure at 0x24b0c7df4a8>"
      ]
     },
     "metadata": {},
     "output_type": "display_data"
    },
    {
     "name": "stdout",
     "output_type": "stream",
     "text": [
      "['sudden' 'suddenly' 'usual' 'usually']\n"
     ]
    }
   ],
   "source": [
    "#cbow 150_dense\n",
    "\n",
    "embedlist=[]\n",
    "for i in range(4):\n",
    "    #embedlist.append(word2vec[analogy_list[1][i]])\n",
    "    embedlist.append(embed_cbow_150_dense[tokenizer.word_index[w2visualize[i]]-1])\n",
    "plt.title(\"CBOW 150 dense\")\n",
    "draw_word_vecs(embedlist,w2visualize)    \n",
    "print(w2visualize)\n"
   ]
  },
  {
   "cell_type": "code",
   "execution_count": 236,
   "metadata": {},
   "outputs": [
    {
     "data": {
      "image/png": "[encoded data removed]",
      "text/plain": [
       "<matplotlib.figure.Figure at 0x24b0c8a0390>"
      ]
     },
     "metadata": {},
     "output_type": "display_data"
    },
    {
     "name": "stdout",
     "output_type": "stream",
     "text": [
      "['sudden' 'suddenly' 'usual' 'usually']\n"
     ]
    }
   ],
   "source": [
    "#cbow 300_dense\n",
    "\n",
    "embedlist=[]\n",
    "for i in range(4):\n",
    "    #embedlist.append(word2vec[analogy_list[1][i]])\n",
    "    embedlist.append(embed_cbow_300_dense[tokenizer.word_index[w2visualize[i]]-1])\n",
    "plt.title(\"CBOW 300 dense\")\n",
    "draw_word_vecs(embedlist,w2visualize)    \n",
    "print(w2visualize)\n"
   ]
  },
  {
   "cell_type": "code",
   "execution_count": 237,
   "metadata": {},
   "outputs": [
    {
     "data": {
      "image/png": "[encoded data removed]",
      "text/plain": [
       "<matplotlib.figure.Figure at 0x24b0c8cb438>"
      ]
     },
     "metadata": {},
     "output_type": "display_data"
    },
    {
     "name": "stdout",
     "output_type": "stream",
     "text": [
      "['sudden' 'suddenly' 'usual' 'usually']\n"
     ]
    }
   ],
   "source": [
    "#skipgram 50_dense\n",
    "\n",
    "embedlist=[]\n",
    "for i in range(4):\n",
    "    #embedlist.append(word2vec[analogy_list[1][i]])\n",
    "    embedlist.append(embed_skipgram_50_dense[tokenizer.word_index[w2visualize[i]]-1])\n",
    "plt.title(\"skipgram 50 dense\")\n",
    "draw_word_vecs(embedlist,w2visualize)    \n",
    "print(w2visualize)\n"
   ]
  },
  {
   "cell_type": "code",
   "execution_count": 238,
   "metadata": {},
   "outputs": [
    {
     "data": {
      "image/png": "[encoded data removed]",
      "text/plain": [
       "<matplotlib.figure.Figure at 0x24b0c985a90>"
      ]
     },
     "metadata": {},
     "output_type": "display_data"
    },
    {
     "name": "stdout",
     "output_type": "stream",
     "text": [
      "['sudden' 'suddenly' 'usual' 'usually']\n"
     ]
    }
   ],
   "source": [
    "#skipgram 150_dense\n",
    "\n",
    "embedlist=[]\n",
    "for i in range(4):\n",
    "    #embedlist.append(word2vec[analogy_list[1][i]])\n",
    "    embedlist.append(embed_skipgram_150_dense[tokenizer.word_index[w2visualize[i]]-1])\n",
    "plt.title(\"skipgram 150 dense\")\n",
    "draw_word_vecs(embedlist,w2visualize)    \n",
    "print(w2visualize)\n"
   ]
  },
  {
   "cell_type": "code",
   "execution_count": 239,
   "metadata": {},
   "outputs": [
    {
     "data": {
      "image/png": "[encoded data removed]",
      "text/plain": [
       "<matplotlib.figure.Figure at 0x24b0c9e0668>"
      ]
     },
     "metadata": {},
     "output_type": "display_data"
    },
    {
     "name": "stdout",
     "output_type": "stream",
     "text": [
      "['sudden' 'suddenly' 'usual' 'usually']\n"
     ]
    }
   ],
   "source": [
    "#skipgram 300_dense\n",
    "\n",
    "embedlist=[]\n",
    "for i in range(4):\n",
    "    #embedlist.append(word2vec[analogy_list[1][i]])\n",
    "    embedlist.append(embed_skipgram_300_dense[tokenizer.word_index[w2visualize[i]]-1])\n",
    "plt.title(\"skipgram 300 dense\")\n",
    "draw_word_vecs(embedlist,w2visualize)    \n",
    "print(w2visualize)\n"
   ]
  },
  {
   "cell_type": "markdown",
   "metadata": {},
   "source": [
    "TODO: add explanation 2.4"
   ]
  },
  {
   "cell_type": "markdown",
   "metadata": {},
   "source": [
    "## 2.5\n",
    "### Use the word co-occurence matrix from Question 1. Compare the performance on the analogy task with the performance of your trained word embeddings."
   ]
  },
  {
   "cell_type": "markdown",
   "metadata": {},
   "source": [
    "Interpretation results of the visualization"
   ]
  },
  {
   "cell_type": "markdown",
   "metadata": {},
   "source": [
    "Compare the results of the trained word embeddings with the word-word co-occurrence matrix"
   ]
  },
  {
   "cell_type": "markdown",
   "metadata": {},
   "source": [
    "## 2.6 \n",
    "### Discussion of the advantages of CBOW and Skipgram, the advantages of negative sampling and drawbacks of CBOW and Skipgram\n",
    "\n",
    "CBOW tries to predict a word by context, it sees the context and maximizes the probability of the target word.\n",
    "This means CBOW is good at predicting frequent words. To train CBOW a reasonably low amount of data is sufficient.\n",
    "The drawback of CBOW is that whilst it will preform well at predicting frequent words it will have low accuracy for less frequent words.\n",
    "this is because some words compete in the sense that they are a valid target for the same context.\n",
    "The more frequent word will then be predicted.\n",
    "\n",
    "In negative sampling we choose random words to pair with the target and have an output of 0. \n",
    "The updating of the weights is then performed on these K samples, which reduces the computational requirements.\n",
    "The model does not need all observations but simply only the K sampled pairs (context + target).\n",
    "\n",
    "Skip gram is designed to predict context. It sees the target and tries to find the context around the word. \n",
    "Skip gram is rather well suited even for rare words. Thake the example delightfull, it will try to predict something like yesterday was a day.\n",
    "Whilst if CBOw would have gotten this context delightfull would have never been predicted it would have chosen more frequent words like good.\n",
    "The drawback for skip gram is that it requires a large amount of data to train. This is because if we for example look at the delightfull word it will have context.\n",
    "Similar nice will also have a context, delightfull day and nice day are 2 independant sets. In cbow this use of nice and delightfull would be competing since the context day has both \n",
    "delightfull and nice as targets."
   ]
  },
  {
   "cell_type": "markdown",
   "metadata": {},
   "source": [
    "## 2.7\n",
    "### Load pre-trained embeddings on large corpuses (see the pdf file). You only have to consider the word embeddings with an embedding size of 300"
   ]
  },
  {
   "cell_type": "code",
   "execution_count": 12,
   "metadata": {},
   "outputs": [],
   "source": [
    "#load pretrained word embeddings of word2vec\n",
    "\n",
    "path_word2vec = \"tes\\GoogleNews-vectors-negative300.bin\"\n",
    "\n",
    "word2vec = KeyedVectors.load_word2vec_format(path_word2vec, binary=True)"
   ]
  },
  {
   "cell_type": "code",
   "execution_count": 17,
   "metadata": {},
   "outputs": [],
   "source": [
    "#load pretraind word embeddings of Glove\n",
    "import gensim\n",
    "#path = \"tes\\glove.6B\\glove.6B.300d_converted.txt\"\n",
    "path = \"tes\\glove.6B.300d.txt\"\n",
    "\n",
    "#convert GloVe into word2vec format\n",
    "gensim.scripts.glove2word2vec.get_glove_info(path)\n",
    "gensim.scripts.glove2word2vec.glove2word2vec(path, \"glove_converted.txt\")\n",
    "\n",
    "glove = KeyedVectors.load_word2vec_format(\"glove_converted.txt\", binary=False)\n",
    "\n"
   ]
  },
  {
   "cell_type": "code",
   "execution_count": 216,
   "metadata": {},
   "outputs": [
    {
     "name": "stdout",
     "output_type": "stream",
     "text": [
      "w2v: sudden, suddenly, usual, usually: 0.22255026056670402\n",
      "glove: sudden, suddenly, usual, usually: 0.3100777731068751\n",
      "cbow: sudden, suddenly, usual, usually: 0.008527807554292706\n",
      "cbow_dense: sudden, suddenly, usual, usually: 0.0754462930725563\n",
      "skipgram: sudden, suddenly, usual, usually: 0.056380010108913886\n",
      "skipgram_dense: sudden, suddenly, usual, usually: 0.03881251966987568\n",
      "\n",
      "w2v: bad, worse, good, better: 0.6724906513772779\n",
      "glove: bad, worse, good, better: 0.6565830036364912\n",
      "cbow: bad, worse, good, better: 0.05496082118087655\n",
      "cbow_dense: bad, worse, good, better: 0.025822487457863735\n",
      "skipgram: bad, worse, good, better: 0.020009742555626597\n",
      "skipgram_dense: bad, worse, good, better: 0.062081929105743054\n",
      "\n",
      "w2v: go, going, look, looking: 0.4437767197062708\n",
      "glove: go, going, look, looking: 0.6695781772903449\n",
      "cbow: go, going, look, looking: 0.17150000141502336\n",
      "cbow_dense: go, going, look, looking: 0.039172770428162945\n",
      "skipgram: go, going, look, looking: 0.17777222881660448\n",
      "skipgram_dense: go, going, look, looking: 0.04563137036102299\n",
      "\n",
      "w2v: he, she, his, her: 0.661601926269319\n",
      "glove: he, she, his, her: 0.7343965200095653\n",
      "cbow: he, she, his, her: 0.08433443688303799\n",
      "cbow_dense: he, she, his, her: 0.17968199135234805\n",
      "skipgram: he, she, his, her: 0.26073587478500404\n",
      "skipgram_dense: he, she, his, her: 0.13591954178304805\n",
      "\n",
      "w2v: brother, sister, his, her: 0.29478371779476814\n",
      "glove: brother, sister, his, her: 0.565070276491166\n",
      "cbow: brother, sister, his, her: 0.03812018658071231\n",
      "cbow_dense: brother, sister, his, her: 0.038641109685507234\n",
      "skipgram: brother, sister, his, her: 0.1259374427775031\n",
      "skipgram_dense: brother, sister, his, her: 0.12988188228556727\n",
      "\n",
      "w2v: listen, listening, look, looking: 0.21896109979844153\n",
      "glove: listen, listening, look, looking: 0.4071841107300849\n",
      "cbow: listen, listening, look, looking: 0.2784538592386971\n",
      "cbow_dense: listen, listening, look, looking: 0.10977898228753145\n",
      "skipgram: listen, listening, look, looking: 0.014888309574057342\n",
      "skipgram_dense: listen, listening, look, looking: 0.02138280460649717\n",
      "\n",
      "w2v: saying, said, thinking, thought: 0.40956290213903407\n",
      "glove: saying, said, thinking, thought: 0.49768632598408674\n",
      "cbow: saying, said, thinking, thought: 0.3811985518071356\n",
      "cbow_dense: saying, said, thinking, thought: 0.06252509407569765\n",
      "skipgram: saying, said, thinking, thought: 0.20342096164612222\n",
      "skipgram_dense: saying, said, thinking, thought: 0.09070737141613902\n",
      "\n",
      "w2v: bird, birds, cat, cats: 0.548314343723498\n",
      "glove: bird, birds, cat, cats: 0.48856988240789534\n",
      "cbow: bird, birds, cat, cats: 0.13051795653365547\n",
      "cbow_dense: bird, birds, cat, cats: 0.14705965182278552\n",
      "skipgram: bird, birds, cat, cats: 0.07545168117540184\n",
      "skipgram_dense: bird, birds, cat, cats: 0.09318465004748887\n",
      "\n",
      "w2v: good, better, old, older: 0.21694786651491343\n",
      "glove: good, better, old, older: 0.40961181661362545\n",
      "cbow: good, better, old, older: 0.20630183935951318\n",
      "cbow_dense: good, better, old, older: 0.1727056296329913\n",
      "skipgram: good, better, old, older: 0.18011644492016637\n",
      "skipgram_dense: good, better, old, older: 0.056430509402651215\n",
      "\n",
      "w2v: good, better, quick, quicker: 0.5330237925619995\n",
      "glove: good, better, quick, quicker: 0.5328881245927063\n",
      "cbow: good, better, quick, quicker: 0.0061604701633158065\n",
      "cbow_dense: good, better, quick, quicker: 0.03284483696817334\n",
      "skipgram: good, better, quick, quicker: 0.01921336103796622\n",
      "skipgram_dense: good, better, quick, quicker: 0.08755056769978095\n",
      "\n",
      "w2v: large, largest, good, best: 0.21683160333463167\n",
      "glove: large, largest, good, best: 0.2652648164246623\n",
      "cbow: large, largest, good, best: 0.047794728178837925\n",
      "cbow_dense: large, largest, good, best: 0.021661341690385763\n",
      "skipgram: large, largest, good, best: 0.18347562642437482\n",
      "skipgram_dense: large, largest, good, best: 0.020883742710055355\n",
      "\n",
      "w2v: falling, fell, knowing, knew: 0.14287526113350987\n",
      "glove: falling, fell, knowing, knew: 0.15409427727346053\n",
      "cbow: falling, fell, knowing, knew: 0.04886327885505821\n",
      "cbow_dense: falling, fell, knowing, knew: 0.0168348221717617\n",
      "skipgram: falling, fell, knowing, knew: 0.06829694939194098\n",
      "skipgram_dense: falling, fell, knowing, knew: 0.0632066665797737\n",
      "\n",
      "w2v: walk, walking, think, thinking: 0.25107561442774934\n",
      "glove: walk, walking, think, thinking: 0.4035633827468627\n",
      "cbow: walk, walking, think, thinking: 0.15626164602845538\n",
      "cbow_dense: walk, walking, think, thinking: 0.26217871427161393\n",
      "skipgram: walk, walking, think, thinking: 0.0007249260878349406\n",
      "skipgram_dense: walk, walking, think, thinking: 0.015699497498339668\n",
      "\n",
      "w2v: child, children, cat, cats: 0.36624447596308296\n",
      "glove: child, children, cat, cats: 0.28044855781310063\n",
      "cbow: child, children, cat, cats: 0.5274377960017453\n",
      "cbow_dense: child, children, cat, cats: 0.23918958722065622\n",
      "skipgram: child, children, cat, cats: 0.1282624726195704\n",
      "skipgram_dense: child, children, cat, cats: 0.02784778641494863\n",
      "\n",
      "w2v: dog, dogs, eye, eyes: 0.13321162577935888\n",
      "glove: dog, dogs, eye, eyes: 0.3071176163860798\n",
      "cbow: dog, dogs, eye, eyes: 0.10159996300622987\n",
      "cbow_dense: dog, dogs, eye, eyes: 0.0024579894388039613\n",
      "skipgram: dog, dogs, eye, eyes: 0.02964650304953238\n",
      "skipgram_dense: dog, dogs, eye, eyes: 0.08864001755710092\n",
      "\n",
      "w2v: hand, hands, rat, rats: 0.04862699542761563\n",
      "glove: hand, hands, rat, rats: 0.05072466972752036\n",
      "cbow: hand, hands, rat, rats: 0.006354920362047136\n",
      "cbow_dense: hand, hands, rat, rats: 0.18221569309398153\n",
      "skipgram: hand, hands, rat, rats: 0.09670711252905476\n",
      "skipgram_dense: hand, hands, rat, rats: 0.04318457085669728\n",
      "\n",
      "w2v: eat, eats, find, finds: 0.2830192036624857\n",
      "glove: eat, eats, find, finds: 0.30765008316898457\n",
      "cbow: eat, eats, find, finds: 0.3712865107508634\n",
      "cbow_dense: eat, eats, find, finds: 0.026316504608332878\n",
      "skipgram: eat, eats, find, finds: 0.19582873965445205\n",
      "skipgram_dense: eat, eats, find, finds: 0.02501564915713036\n",
      "\n",
      "w2v: find, finds, say, says: 0.38303518154481636\n",
      "glove: find, finds, say, says: 0.4858085924624003\n",
      "cbow: find, finds, say, says: 0.46045027906245106\n",
      "cbow_dense: find, finds, say, says: 0.051107999289009935\n",
      "skipgram: find, finds, say, says: 0.19639096472099524\n",
      "skipgram_dense: find, finds, say, says: 0.025459766544999457\n",
      "\n",
      "w2v: old, older, good, better: 0.21694786651491343\n",
      "glove: old, older, good, better: 0.40961181661362545\n",
      "cbow: old, older, good, better: 0.20630183935951318\n",
      "cbow_dense: old, older, good, better: 0.1727056296329913\n",
      "skipgram: old, older, good, better: 0.18011644492016637\n",
      "skipgram_dense: old, older, good, better: 0.056430509402651215\n",
      "\n",
      "w2v: large, larger, quick, quicker: 0.22521266715730429\n",
      "glove: large, larger, quick, quicker: 0.22567543578240246\n",
      "cbow: large, larger, quick, quicker: 0.06449432775995916\n",
      "cbow_dense: large, larger, quick, quicker: 0.08742438986604635\n",
      "skipgram: large, larger, quick, quicker: 0.0653488322679879\n",
      "skipgram_dense: large, larger, quick, quicker: 0.08566320032679768\n",
      "\n",
      "w2v: go, going, listen, listening: 0.23913213804946878\n",
      "glove: go, going, listen, listening: 0.42662491131551733\n",
      "cbow: go, going, listen, listening: 0.0624180772362987\n",
      "cbow_dense: go, going, listen, listening: 0.029118720261183874\n",
      "skipgram: go, going, listen, listening: 0.12581383189290182\n",
      "skipgram_dense: go, going, listen, listening: 0.028185512738349718\n",
      "\n",
      "w2v: run, running, walk, walking: 0.4228847541114353\n",
      "glove: run, running, walk, walking: 0.47095163467027384\n",
      "cbow: run, running, walk, walking: 0.07139208760883983\n",
      "cbow_dense: run, running, walk, walking: 0.11128481805243935\n",
      "skipgram: run, running, walk, walking: 0.1573281140266313\n",
      "skipgram_dense: run, running, walk, walking: 0.06300627460063306\n",
      "\n",
      "w2v: run, running, think, thinking: 0.24565625385619846\n",
      "glove: run, running, think, thinking: 0.3926802350946642\n",
      "cbow: run, running, think, thinking: 0.09548445924217658\n",
      "cbow_dense: run, running, think, thinking: 0.0047826383775385175\n",
      "skipgram: run, running, think, thinking: 0.07982345287905462\n",
      "skipgram_dense: run, running, think, thinking: 0.11990428857858138\n",
      "\n",
      "w2v: say, saying, sit, sitting: 0.19387733146836375\n",
      "glove: say, saying, sit, sitting: 0.33033972016602986\n",
      "cbow: say, saying, sit, sitting: 0.1704459207137995\n",
      "cbow_dense: say, saying, sit, sitting: 0.06813380416409572\n",
      "skipgram: say, saying, sit, sitting: 0.1098327255243882\n",
      "skipgram_dense: say, saying, sit, sitting: 0.04882024554714453\n",
      "\n",
      "w2v: alice, she, rabbit, he: 0.4352757480653299\n",
      "glove: alice, she, rabbit, he: 0.4769463106145698\n",
      "cbow: alice, she, rabbit, he: 0.294828062533049\n",
      "cbow_dense: alice, she, rabbit, he: 0.21398301637022812\n",
      "skipgram: alice, she, rabbit, he: 0.09955840499725077\n",
      "skipgram_dense: alice, she, rabbit, he: 0.08287505677820725\n",
      "\n",
      "w2v: alice, her, rabbit, him: 0.4179929072878149\n",
      "glove: alice, her, rabbit, him: 0.4330083526998539\n",
      "cbow: alice, her, rabbit, him: 0.412705260178714\n",
      "cbow_dense: alice, her, rabbit, him: 0.2509250779968464\n",
      "skipgram: alice, her, rabbit, him: 0.1157566471596486\n",
      "skipgram_dense: alice, her, rabbit, him: 0.0023607712416036544\n",
      "\n",
      "w2v: alice, girl, rabbit, sir: 0.391360154857756\n",
      "glove: alice, girl, rabbit, sir: 0.3090358756196289\n",
      "cbow: alice, girl, rabbit, sir: 0.27919010927726784\n",
      "cbow_dense: alice, girl, rabbit, sir: 0.15955182023059214\n",
      "skipgram: alice, girl, rabbit, sir: 0.02279211388038667\n",
      "skipgram_dense: alice, girl, rabbit, sir: 0.11551866717896872\n",
      "\n",
      "w2v: his, her, he, she: 0.661601926269319\n",
      "glove: his, her, he, she: 0.7343965200095653\n",
      "cbow: his, her, he, she: 0.08433443688303799\n",
      "cbow_dense: his, her, he, she: 0.17968199135234805\n",
      "skipgram: his, her, he, she: 0.26073587478500404\n",
      "skipgram_dense: his, her, he, she: 0.13591954178304805\n",
      "\n",
      "w2v: long, longer, quick, quicker: 0.27729260342003326\n",
      "glove: long, longer, quick, quicker: 0.3099571305282724\n",
      "cbow: long, longer, quick, quicker: 0.08028024024075621\n",
      "cbow_dense: long, longer, quick, quicker: 0.06921825184371648\n",
      "skipgram: long, longer, quick, quicker: 0.048916740832161805\n",
      "skipgram_dense: long, longer, quick, quicker: 0.04934151790367087\n",
      "\n",
      "w2v: long, longer, small, smaller: 0.2388453687212515\n",
      "glove: long, longer, small, smaller: 0.45009013669954157\n",
      "cbow: long, longer, small, smaller: 0.18060219465592955\n",
      "cbow_dense: long, longer, small, smaller: 0.3531081808940916\n",
      "skipgram: long, longer, small, smaller: 0.23345857156824956\n",
      "skipgram_dense: long, longer, small, smaller: 0.006993947065875009\n",
      "\n",
      "w2v: long, longer, bad, worse: 0.2819685717087468\n",
      "glove: long, longer, bad, worse: 0.40626429575998596\n",
      "cbow: long, longer, bad, worse: 0.12649617671928987\n",
      "cbow_dense: long, longer, bad, worse: 0.11204048169335296\n",
      "skipgram: long, longer, bad, worse: 0.06774599669999927\n",
      "skipgram_dense: long, longer, bad, worse: 0.008174506295267706\n",
      "\n",
      "w2v: go, going, look, looking: 0.4437767197062708\n",
      "glove: go, going, look, looking: 0.6695781772903449\n",
      "cbow: go, going, look, looking: 0.17150000141502336\n",
      "cbow_dense: go, going, look, looking: 0.039172770428162945\n",
      "skipgram: go, going, look, looking: 0.17777222881660448\n",
      "skipgram_dense: go, going, look, looking: 0.04563137036102299\n",
      "\n",
      "w2v: listen, listening, look, looking: 0.21896109979844153\n",
      "glove: listen, listening, look, looking: 0.4071841107300849\n",
      "cbow: listen, listening, look, looking: 0.2784538592386971\n",
      "cbow_dense: listen, listening, look, looking: 0.10977898228753145\n",
      "skipgram: listen, listening, look, looking: 0.014888309574057342\n",
      "skipgram_dense: listen, listening, look, looking: 0.02138280460649717\n",
      "\n",
      "w2v: swim, swimming, sit, sitting: 0.15879369259853693\n",
      "glove: swim, swimming, sit, sitting: 0.24853629762099705\n",
      "cbow: swim, swimming, sit, sitting: 0.02809539143013536\n",
      "cbow_dense: swim, swimming, sit, sitting: 0.09645937021887958\n",
      "skipgram: swim, swimming, sit, sitting: 0.06917829721655157\n",
      "skipgram_dense: swim, swimming, sit, sitting: 0.031170263943379926\n",
      "\n",
      "w2v: run, running, listen, listening: 0.09999018014940893\n",
      "glove: run, running, listen, listening: 0.15729225189857585\n",
      "cbow: run, running, listen, listening: 0.19901486653922562\n",
      "cbow_dense: run, running, listen, listening: 0.113049877360651\n",
      "skipgram: run, running, listen, listening: 0.09412616985660467\n",
      "skipgram_dense: run, running, listen, listening: 0.04076037677748786\n",
      "\n",
      "w2v: think, thinking, read, reading: 0.3014273799197356\n",
      "glove: think, thinking, read, reading: 0.411297884485633\n",
      "cbow: think, thinking, read, reading: 0.23945356939863058\n",
      "cbow_dense: think, thinking, read, reading: 0.11715886028704679\n",
      "skipgram: think, thinking, read, reading: 0.030017170900449835\n",
      "skipgram_dense: think, thinking, read, reading: 0.017083977957849546\n",
      "\n",
      "w2v: up, down, close, far: 0.31230518986077627\n",
      "glove: up, down, close, far: 0.6523693175355175\n",
      "cbow: up, down, close, far: 0.3008412674242537\n",
      "cbow_dense: up, down, close, far: 0.021130527140579808\n",
      "skipgram: up, down, close, far: 0.20670189110600232\n",
      "skipgram_dense: up, down, close, far: 0.022870557808512076\n",
      "\n"
     ]
    }
   ],
   "source": [
    "#w2v and glove analogy performance\n",
    "w2vanalogylist=[]\n",
    "gloveanalogylist=[]\n",
    "cbowanalogylist=[]\n",
    "cbowdenseanalogylist=[]\n",
    "skipgramanalogylist=[]\n",
    "skipgramdenseanalogylist=[]\n",
    "\n",
    "for analogy in analogy_list:\n",
    "    if(analogy[0] in tokenizer.word_index and analogy[1] in tokenizer.word_index and analogy[2] in tokenizer.word_index and analogy[3] in tokenizer.word_index):\n",
    "        try:\n",
    "            w2vanalogy=word2vec.n_similarity([analogy[0],analogy[1]],[analogy[2],analogy[3]])\n",
    "            gloveanalogy=glove.n_similarity([analogy[0],analogy[1]],[analogy[2],analogy[3]])\n",
    "            cbowanalogy=analogy_check(analogy,embed_cbow_300, tokenizer.word_index )\n",
    "            cbowdenseanalogy=analogy_check(analogy,embed_cbow_300_dense, tokenizer.word_index )\n",
    "            skipgramanalogy=analogy_check(analogy,embed_skipgram_300, tokenizer.word_index )\n",
    "            skipgramdenseanalogy=analogy_check(analogy,embed_skipgram_300_dense, tokenizer.word_index )\n",
    "            \n",
    "            print(\"w2v: {}, {}, {}, {}: {}\".format(analogy[0],analogy[1],analogy[2],analogy[3],w2vanalogy))\n",
    "            print(\"glove: {}, {}, {}, {}: {}\".format(analogy[0],analogy[1],analogy[2],analogy[3],gloveanalogy))\n",
    "            print(\"cbow: {}, {}, {}, {}: {}\".format(analogy[0],analogy[1],analogy[2],analogy[3],cbowanalogy))\n",
    "            print(\"cbow_dense: {}, {}, {}, {}: {}\".format(analogy[0],analogy[1],analogy[2],analogy[3],cbowdenseanalogy))\n",
    "            print(\"skipgram: {}, {}, {}, {}: {}\".format(analogy[0],analogy[1],analogy[2],analogy[3],skipgramanalogy))\n",
    "            print(\"skipgram_dense: {}, {}, {}, {}: {}\".format(analogy[0],analogy[1],analogy[2],analogy[3],skipgramdenseanalogy))\n",
    "            \n",
    "            \n",
    "            w2vanalogylist.append(w2vanalogy)\n",
    "            gloveanalogylist.append(gloveanalogy)\n",
    "            cbowanalogylist.append(cbowanalogy)\n",
    "            cbowdenseanalogylist.append(cbowdenseanalogy)\n",
    "            skipgramanalogylist.append(skipgramanalogy)\n",
    "            skipgramdenseanalogylist.append(skipgramdenseanalogy)\n",
    "            \n",
    "            \n",
    "            print()\n",
    "        except KeyError:\n",
    "            continue\n",
    "    \n",
    "\n"
   ]
  },
  {
   "cell_type": "code",
   "execution_count": 224,
   "metadata": {},
   "outputs": [
    {
     "data": {
      "image/png": "[encoded data removed]",
      "text/plain": [
       "<matplotlib.figure.Figure at 0x24b0b9d24e0>"
      ]
     },
     "metadata": {},
     "output_type": "display_data"
    },
    {
     "name": "stdout",
     "output_type": "stream",
     "text": [
      "['sudden' 'suddenly' 'usual' 'usually']\n"
     ]
    }
   ],
   "source": [
    "#Visualize the pre-trained word embeddings\n",
    "    \n",
    "embedlist=[]\n",
    "for i in range(4):\n",
    "    #embedlist.append(word2vec[analogy_list[1][i]])\n",
    "    embedlist.append(embed_skipgram_300[tokenizer.word_index[analogy_list[1][i]]-1])\n",
    "len(embedlist)\n",
    "draw_word_vecs(embedlist,analogy_list[1])    \n",
    "print(analogy_list[1])"
   ]
  },
  {
   "cell_type": "markdown",
   "metadata": {},
   "source": [
    "Comparison performance with your own trained word embeddings"
   ]
  },
  {
   "cell_type": "code",
   "execution_count": 25,
   "metadata": {},
   "outputs": [
    {
     "data": {
      "text/plain": [
       "False"
      ]
     },
     "execution_count": 25,
     "metadata": {},
     "output_type": "execute_result"
    }
   ],
   "source": [
    "'pleasanter' in tokenizer.word_index"
   ]
  },
  {
   "cell_type": "code",
   "execution_count": null,
   "metadata": {},
   "outputs": [],
   "source": []
  }
 ],
 "metadata": {
  "kernelspec": {
   "display_name": "Python 3",
   "language": "python",
   "name": "python3"
  },
  "language_info": {
   "codemirror_mode": {
    "name": "ipython",
    "version": 3
   },
   "file_extension": ".py",
   "mimetype": "text/x-python",
   "name": "python",
   "nbconvert_exporter": "python",
   "pygments_lexer": "ipython3",
   "version": "3.6.1"
  }
 },
 "nbformat": 4,
 "nbformat_minor": 2
}
