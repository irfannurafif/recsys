{
 "cells": [
  {
   "cell_type": "markdown",
   "metadata": {},
   "source": [
    "# Assignment 1\n"
   ]
  },
  {
   "cell_type": "code",
   "execution_count": 1,
   "metadata": {},
   "outputs": [
    {
     "name": "stderr",
     "output_type": "stream",
     "text": [
      "c:\\users\\illia\\appdata\\local\\programs\\python\\python36\\lib\\site-packages\\h5py\\__init__.py:36: FutureWarning: Conversion of the second argument of issubdtype from `float` to `np.floating` is deprecated. In future, it will be treated as `np.float64 == np.dtype(float).type`.\n",
      "  from ._conv import register_converters as _register_converters\n",
      "Using TensorFlow backend.\n",
      "c:\\users\\illia\\appdata\\local\\programs\\python\\python36\\lib\\site-packages\\gensim\\utils.py:1167: UserWarning: detected Windows; aliasing chunkize to chunkize_serial\n",
      "  warnings.warn(\"detected Windows; aliasing chunkize to chunkize_serial\")\n"
     ]
    }
   ],
   "source": [
    "import numpy as np\n",
    "np.random.seed(13) #TODO Check if this is used for sgd\n",
    "import keras.backend as K\n",
    "from keras.models import Sequential\n",
    "from keras.layers import Dense, Embedding, Reshape, Lambda\n",
    "from keras.utils import np_utils\n",
    "from keras.utils.data_utils import get_file\n",
    "from keras.preprocessing.text import Tokenizer\n",
    "from keras.utils.vis_utils import model_to_dot\n",
    "from keras.preprocessing import sequence\n",
    "from gensim.models import KeyedVectors\n",
    "from sklearn.manifold import TSNE\n",
    "from sklearn.metrics.pairwise import cosine_similarity\n",
    "from sklearn.neighbors import NearestNeighbors as nn\n",
    "from matplotlib import pylab\n",
    "from __future__ import division"
   ]
  },
  {
   "cell_type": "code",
   "execution_count": 162,
   "metadata": {},
   "outputs": [],
   "source": [
    "# DO NOT Modify the lines in this cell\n",
    "path = 'alice.txt'#'analogy_alice.txt'\n",
    "corpus = open(path).readlines()[0:700]\n",
    "\n",
    "corpus = [sentence for sentence in corpus if sentence.count(\" \") >= 2]\n",
    "\n",
    "tokenizer = Tokenizer(filters='!\"#$%&()*+,-./:;<=>?@[\\\\]^_`{|}~\\t\\n'+\"'\")\n",
    "tokenizer.fit_on_texts(corpus)\n",
    "corpus = tokenizer.texts_to_sequences(corpus)\n",
    "nb_samples = sum(len(s) for s in corpus)\n",
    "V = len(tokenizer.word_index) + 1\n",
    "\n",
    "# Is this something they need to change?\n",
    "dim = 100\n",
    "window_size = 2 #use this window size for Skipgram, CBOW, and the model with the additional hidden layer\n",
    "window_size_corpus = 4 #use this window size for the co-occurrence matrix"
   ]
  },
  {
   "cell_type": "markdown",
   "metadata": {},
   "source": [
    "## Question 1\n",
    "\n",
    "### Co-occurrence Matrix\n",
    "Use the provided code to load the \"Alice in Wonderland\" text document. \n",
    "1. Implement the word-word co-occurrence matrix for “Alice in Wonderland”\n",
    "2. Normalize the words such that every value lies within a range of 0 and 1\n",
    "3. Compute the cosine distance between the given words:\n",
    "    - Alice \n",
    "    - Dinah\n",
    "    - Rabbit\n",
    "4. List the 5 closest words to 'Alice'. Discuss the results.\n",
    "5. Discuss what the main drawbacks are of a term-term co-occurence matrix solutions?\n"
   ]
  },
  {
   "cell_type": "markdown",
   "metadata": {},
   "source": [
    "## 1.1 \n",
    "### Implement the word-word co-occurrence matrix for “Alice in Wonderland”"
   ]
  },
  {
   "cell_type": "code",
   "execution_count": 62,
   "metadata": {},
   "outputs": [
    {
     "name": "stdout",
     "output_type": "stream",
     "text": [
      "[[0. 1. 1. ... 0. 0. 0.]\n",
      " [1. 0. 8. ... 0. 0. 0.]\n",
      " [1. 8. 0. ... 0. 0. 0.]\n",
      " ...\n",
      " [0. 0. 0. ... 0. 0. 0.]\n",
      " [0. 0. 0. ... 0. 0. 0.]\n",
      " [0. 0. 0. ... 0. 0. 0.]]\n"
     ]
    }
   ],
   "source": [
    "import scipy.sparse, numpy\n",
    "\n",
    "\n",
    "vocabulary={}\n",
    "data=[]\n",
    "row=[]\n",
    "col=[]\n",
    "for sentence in corpus:\n",
    "    for pos,word in enumerate(sentence):\n",
    "        i=vocabulary.setdefault(word,len(vocabulary))\n",
    "        start=max(0,pos-window_size_corpus)\n",
    "        end=min(len(sentence),pos+window_size_corpus+1)\n",
    "        for pos2 in range(start,end):\n",
    "            if pos2==pos: \n",
    "                continue\n",
    "            j=vocabulary.setdefault(sentence[pos2],len(vocabulary))\n",
    "            if(j!=i):\n",
    "                data.append(1.); row.append(i); col.append(j);\n",
    "            \n",
    "cooccurrence_matrix=scipy.sparse.coo_matrix((data,(row,col)))\n",
    "#print(cooccurrence_matrix.T * cooccurrence_matrix)\n",
    "print(cooccurrence_matrix.toarray())\n"
   ]
  },
  {
   "cell_type": "markdown",
   "metadata": {},
   "source": [
    "## 1.2 \n",
    "### Normalize the words such that every value lies within a range of 0 and 1"
   ]
  },
  {
   "cell_type": "code",
   "execution_count": 64,
   "metadata": {},
   "outputs": [
    {
     "name": "stdout",
     "output_type": "stream",
     "text": [
      "[[0.         0.0625     0.0625     ... 0.         0.         0.        ]\n",
      " [0.00105485 0.         0.00843882 ... 0.         0.         0.        ]\n",
      " [0.00381679 0.03053435 0.         ... 0.         0.         0.        ]\n",
      " ...\n",
      " [0.         0.         0.         ... 0.         0.         0.        ]\n",
      " [0.         0.         0.         ... 0.         0.         0.        ]\n",
      " [0.         0.         0.         ... 0.         0.         0.        ]]\n"
     ]
    }
   ],
   "source": [
    "#We use TF for normalization\n",
    "\n",
    "cooc=cooccurrence_matrix.toarray()\n",
    "tf_cooc=numpy.zeros((V-1, V-1))\n",
    "for i, sentence in enumerate(cooc):\n",
    "    sumf=0\n",
    "    for wordf in sentence:\n",
    "        sumf+=wordf\n",
    "    for j,wordf in enumerate(sentence):\n",
    "        if(sumf>0):\n",
    "            tf_cooc[i][j]=cooc[i][j]/sumf\n",
    "        else:\n",
    "            continue\n",
    "print(tf_cooc)"
   ]
  },
  {
   "cell_type": "markdown",
   "metadata": {},
   "source": [
    "## 1.3 \n",
    "### Compute the cosine distance between the given words: Alice, Dinah, Rabbit"
   ]
  },
  {
   "cell_type": "code",
   "execution_count": 204,
   "metadata": {},
   "outputs": [
    {
     "name": "stdout",
     "output_type": "stream",
     "text": [
      "11\n",
      "87\n",
      "63\n",
      "Cosine similarity of Alice and Dinah: 0.48967327730053256\n",
      "Cosine similarity of Alice and Rabbit: 0.08862667920586557\n",
      "Cosine similarity of Dinah and Rabbit: 0.13969968905677818\n"
     ]
    }
   ],
   "source": [
    "#find cosine similarity to Alice, Dinah and Rabbit\n",
    "import math\n",
    "def cos_sim(a,b):\n",
    "    return cosine_similarity([a],[b])[0][0]\n",
    "    #sum_c=0;len_c=len(a);sum_as=0;sum_bs=0;\n",
    "    #for ii in range(len_c):\n",
    "    #    sum_c=sum_c+(a[ii]*b[ii])\n",
    "    #    sum_as=sum_as+(a[ii]*a[ii])\n",
    "    #    sum_bs=sum_bs+(b[ii]*b[ii])\n",
    "    #if(sum_as==0 and sum_bs==0):\n",
    "    #    return 1\n",
    "    #else:\n",
    "    #    return sum_c/(math.sqrt(sum_as)*(math.sqrt(sum_bs)))\n",
    "\n",
    "\n",
    "print(tokenizer.word_index['alice'])  #11-1=10, since word_index starting at index 1\n",
    "print(tokenizer.word_index['dinah'])  #87-1=86\n",
    "print(tokenizer.word_index['rabbit']) #63-1=62\n",
    "\n",
    "from sklearn.metrics.pairwise import cosine_similarity\n",
    "#print(cosine_similarity(tf_cooc[10:11], tf_cooc[86:87]))\n",
    "print(\"Cosine similarity of Alice and Dinah: {}\".format(cos_sim(tf_cooc[10],tf_cooc[86])))                 \n",
    "#print(cosine_similarity(tf_cooc[10:11], tf_cooc[62:63]))\n",
    "print(\"Cosine similarity of Alice and Rabbit: {}\".format(cos_sim(tf_cooc[10],tf_cooc[62])))\n",
    "#print(cosine_similarity(tf_cooc[86:87], tf_cooc[62:63]))\n",
    "print(\"Cosine similarity of Dinah and Rabbit: {}\".format(cos_sim(tf_cooc[62],tf_cooc[86])))\n",
    "\n"
   ]
  },
  {
   "cell_type": "markdown",
   "metadata": {},
   "source": [
    "## 1.4\n",
    "### List the 5 closest words to 'Alice'. Discuss the results."
   ]
  },
  {
   "cell_type": "code",
   "execution_count": 263,
   "metadata": {},
   "outputs": [
    {
     "name": "stdout",
     "output_type": "stream",
     "text": [
      "closest word= t, had, question, say, to\n",
      "Cosine similarity of Alice and t: 0.7033898864296415\n",
      "Cosine similarity of Alice and had: 0.6995182846911174\n",
      "Cosine similarity of Alice and question: 0.6726422527548841\n",
      "Cosine similarity of Alice and say: 0.6685274041392557\n",
      "Cosine similarity of Alice and to: 0.6544770424322105\n"
     ]
    }
   ],
   "source": [
    "#find the closest words to Alice\n",
    "maxid=0\n",
    "maxval=0\n",
    "simi=np.zeros(V-1)\n",
    "for i in range(V-1):\n",
    "    simi[i]=cosine_similarity(tf_cooc[10:11], tf_cooc[i:i+1])[0][0]\n",
    "indices=simi.argsort()[-6:][::-1]\n",
    "print(\"closest word= {}, {}, {}, {}, {}\".format(list(tokenizer.word_index)[indices[1]],list(tokenizer.word_index)[indices[2]],list(tokenizer.word_index)[indices[3]],list(tokenizer.word_index)[indices[4]],list(tokenizer.word_index)[indices[5]]))            \n",
    "for i in range(1,6):\n",
    "    print(\"Cosine similarity of Alice and {}: {}\".format(list(tokenizer.word_index)[indices[i]],cosine_similarity(tf_cooc[10:11], tf_cooc[indices[i]:indices[i]+1])[0][0]))\n"
   ]
  },
  {
   "cell_type": "markdown",
   "metadata": {},
   "source": [
    "The closest words from alice are mainly "
   ]
  },
  {
   "cell_type": "markdown",
   "metadata": {},
   "source": [
    "## 1.5\n",
    "### Discuss what the main drawbacks are of a term-term co-occurence matrix solutions?"
   ]
  },
  {
   "cell_type": "markdown",
   "metadata": {},
   "source": [
    "The main drawbacks of co-occurance matrix is the resulting matrix is sparse (contains a lot of 0 values). This is not an efficient representation since it costs a lot of memory (VxV, where V is the number of unique word) to store a lot of 0 values. Moreover, if we add a new word to corpus, then the amount of table value that will be added is $V^2-(V-1)^2$ which is a lot for big number of V. The resulting matrix also storing the same values on the upper and lower side of main diagonal, which is somewhat redundant.  Lastly the frequency of occurrence can be skewed and non discriminative."
   ]
  },
  {
   "cell_type": "code",
   "execution_count": 74,
   "metadata": {},
   "outputs": [],
   "source": [
    "#Save your all the vector representations of your word embeddings in this way\n",
    "#Change when necessary the sizes of the vocabulary/embedding dimension\n",
    "\n",
    "f = open('vectors_co_occurrence.txt',\"w\")\n",
    "f.write(\" \".join([str(V-1),str(V-1)]))\n",
    "f.write(\"\\n\")\n",
    "\n",
    "#vectors = your word co-occurrence matrix\n",
    "vectors = tf_cooc\n",
    "for word, i in tokenizer.word_index.items():    \n",
    "    f.write(word)\n",
    "    f.write(\" \")\n",
    "    f.write(\" \".join(map(str, list(vectors[i-1,:]))))\n",
    "    f.write(\"\\n\")\n",
    "f.close()"
   ]
  },
  {
   "cell_type": "code",
   "execution_count": 259,
   "metadata": {},
   "outputs": [],
   "source": [
    "#reopen your file as follows\n",
    "\n",
    "co_occurrence = KeyedVectors.load_word2vec_format('./vectors_co_occurrence.txt', binary=False)"
   ]
  },
  {
   "cell_type": "markdown",
   "metadata": {},
   "source": [
    "## Question 2\n",
    "\n",
    "### Word embeddings\n",
    "Build embeddings with a keras implementation where the embedding vector is of length 50, 150 and 300. Use the Alice in Wonderland text book for training.\n",
    "1. Using the CBOW model\n",
    "2. Using Skipgram model\n",
    "3. Add extra hidden dense layer to CBow and Skipgram implementations. Choose an activation function for that layer and justify your answer.\n",
    "4. Analyze the four different word embeddings\n",
    "    - Implement your own function to perform the analogy task with. Do not use existing libraries for this task such as Gensim. Your function should be able to answer whether an anaology as in the example given in the pdf-file is true.\n",
    "    - Compare the performance on the analogy task between the word embeddings that you have trained in 2.1, 2.2 and 2.3.  \n",
    "    - Visualize your results and interpret your results\n",
    "5. Use the word co-occurence matrix from Question 1. Compare the performance on the analogy task with the performance of your trained word embeddings.  \n",
    "6. Discuss:\n",
    "    - What are the main advantages of CBOW and Skipgram?\n",
    "    - What is the advantage of negative sampling?\n",
    "    - What are the main drawbacks of CBOW and Skipgram?\n",
    "7. Load pre-trained embeddings on large corpuses (see the pdf file). You only have to consider the word embeddings with an embedding size of 300\n",
    "    - Compare performance on the analogy task with your own trained embeddings from \"Alice in Wonderland\". You can limit yourself to the vocabulary of Alice in Wonderland. Visualize the pre-trained word embeddings and compare these with the results of your own trained word embeddings. \n"
   ]
  },
  {
   "cell_type": "markdown",
   "metadata": {},
   "source": [
    "## 2.1\n",
    "### Using the CBOW model"
   ]
  },
  {
   "cell_type": "code",
   "execution_count": 154,
   "metadata": {},
   "outputs": [
    {
     "name": "stdout",
     "output_type": "stream",
     "text": [
      "(17896, 4)\n",
      "(17896, 2557)\n",
      "2557\n"
     ]
    }
   ],
   "source": [
    "#prepare data for cbow\n",
    "path = 'alice.txt'\n",
    "corpus = open(path).readlines()\n",
    "corpus = [sentence for sentence in corpus if sentence.count(\" \") >= 2]\n",
    "\n",
    "tokenizer = Tokenizer(filters='!\"#$%&()*+,-./:;<=>?@[\\\\]^_`{|}~\\t\\n'+\"'\")\n",
    "tokenizer.fit_on_texts(corpus)\n",
    "corpus = tokenizer.texts_to_sequences(corpus)\n",
    "nb_samples = sum(len(s) for s in corpus)\n",
    "V = len(tokenizer.word_index) + 1\n",
    "\n",
    "def prep_cbow_data(corpus=corpus,window_size=window_size,V=V):\n",
    "    x = []\n",
    "    y = []\n",
    "    w = window_size\n",
    "    for sentence in corpus:\n",
    "        word_length = len(sentence)\n",
    "        if word_length >4:\n",
    "            start = w\n",
    "            for i in range(w,word_length-w):\n",
    "                context_before = sentence[i-w:i]\n",
    "                target = np.zeros(V,dtype=int)\n",
    "                target[sentence[i]] = 1\n",
    "                context_after = sentence[i+1:i+1+start]\n",
    "                context = context_before + context_after\n",
    "                if len(context) == 4:\n",
    "                    #onehot_context = np.asarray(onehot_context)\n",
    "                    x.append(context)\n",
    "                    y.append(target)\n",
    "        else:\n",
    "            pass\n",
    "    x = np.asarray(x)\n",
    "    y = np.asarray(y)\n",
    "    return x,y\n",
    "\n",
    "print(prep_cbow_data()[0].shape)\n",
    "print(prep_cbow_data()[1].shape)\n",
    "print(V)\n",
    "\n"
   ]
  },
  {
   "cell_type": "code",
   "execution_count": 77,
   "metadata": {},
   "outputs": [
    {
     "name": "stderr",
     "output_type": "stream",
     "text": [
      "c:\\users\\illia\\appdata\\local\\programs\\python\\python36\\lib\\site-packages\\ipykernel_launcher.py:8: UserWarning: Update your `Embedding` call to the Keras 2 API: `Embedding(input_dim=2557, output_dim=50, input_length=4, embeddings_initializer=\"glorot_uniform\")`\n",
      "  \n"
     ]
    },
    {
     "name": "stdout",
     "output_type": "stream",
     "text": [
      "_________________________________________________________________\n",
      "Layer (type)                 Output Shape              Param #   \n",
      "=================================================================\n",
      "embedding_1 (Embedding)      (None, 4, 50)             127850    \n",
      "_________________________________________________________________\n",
      "flatten_1 (Flatten)          (None, 200)               0         \n",
      "_________________________________________________________________\n",
      "dense_1 (Dense)              (None, 2557)              513957    \n",
      "=================================================================\n",
      "Total params: 641,807\n",
      "Trainable params: 641,807\n",
      "Non-trainable params: 0\n",
      "_________________________________________________________________\n",
      "_________________________________________________________________\n",
      "Layer (type)                 Output Shape              Param #   \n",
      "=================================================================\n",
      "embedding_2 (Embedding)      (None, 4, 150)            383550    \n",
      "_________________________________________________________________\n",
      "flatten_2 (Flatten)          (None, 600)               0         \n",
      "_________________________________________________________________\n",
      "dense_2 (Dense)              (None, 2557)              1536757   \n",
      "=================================================================\n",
      "Total params: 1,920,307\n",
      "Trainable params: 1,920,307\n",
      "Non-trainable params: 0\n",
      "_________________________________________________________________\n",
      "_________________________________________________________________\n",
      "Layer (type)                 Output Shape              Param #   \n",
      "=================================================================\n",
      "embedding_3 (Embedding)      (None, 4, 300)            767100    \n",
      "_________________________________________________________________\n",
      "flatten_3 (Flatten)          (None, 1200)              0         \n",
      "_________________________________________________________________\n",
      "dense_3 (Dense)              (None, 2557)              3070957   \n",
      "=================================================================\n",
      "Total params: 3,838,057\n",
      "Trainable params: 3,838,057\n",
      "Non-trainable params: 0\n",
      "_________________________________________________________________\n"
     ]
    },
    {
     "name": "stderr",
     "output_type": "stream",
     "text": [
      "c:\\users\\illia\\appdata\\local\\programs\\python\\python36\\lib\\site-packages\\ipykernel_launcher.py:10: UserWarning: Update your `Dense` call to the Keras 2 API: `Dense(2557, activation=\"softmax\", kernel_initializer=\"glorot_uniform\")`\n",
      "  # Remove the CWD from sys.path while we load stuff.\n",
      "c:\\users\\illia\\appdata\\local\\programs\\python\\python36\\lib\\site-packages\\ipykernel_launcher.py:14: UserWarning: Update your `Embedding` call to the Keras 2 API: `Embedding(input_dim=2557, output_dim=150, input_length=4, embeddings_initializer=\"glorot_uniform\")`\n",
      "  \n",
      "c:\\users\\illia\\appdata\\local\\programs\\python\\python36\\lib\\site-packages\\ipykernel_launcher.py:16: UserWarning: Update your `Dense` call to the Keras 2 API: `Dense(2557, activation=\"softmax\", kernel_initializer=\"glorot_uniform\")`\n",
      "  app.launch_new_instance()\n",
      "c:\\users\\illia\\appdata\\local\\programs\\python\\python36\\lib\\site-packages\\ipykernel_launcher.py:20: UserWarning: Update your `Embedding` call to the Keras 2 API: `Embedding(input_dim=2557, output_dim=300, input_length=4, embeddings_initializer=\"glorot_uniform\")`\n",
      "c:\\users\\illia\\appdata\\local\\programs\\python\\python36\\lib\\site-packages\\ipykernel_launcher.py:22: UserWarning: Update your `Dense` call to the Keras 2 API: `Dense(2557, activation=\"softmax\", kernel_initializer=\"glorot_uniform\")`\n"
     ]
    }
   ],
   "source": [
    "#create CBOW model\n",
    "from keras.layers import Flatten\n",
    "#X,Y = prep_cbow_data()\n",
    "#features = len(X)\n",
    "#print(\"size X: {},size Y:{}\".format(len(X),len(Y)))\n",
    "#print(X.shape,Y.shape)\n",
    "cbow_50 = Sequential(name=\"cbow50\")\n",
    "cbow_50.add(Embedding(input_dim=V, output_dim=50, init='glorot_uniform',input_length=4))\n",
    "cbow_50.add(Flatten())\n",
    "cbow_50.add(Dense(V, init='glorot_uniform', activation='softmax'))\n",
    "\n",
    "cbow_50.summary()\n",
    "cbow_150 = Sequential(name=\"cbow150\")\n",
    "cbow_150.add(Embedding(input_dim=V, output_dim=150, init='glorot_uniform',input_length=4))\n",
    "cbow_150.add(Flatten())\n",
    "cbow_150.add(Dense(V, init='glorot_uniform', activation='softmax'))\n",
    "cbow_150.summary()\n",
    "\n",
    "cbow_300 = Sequential(name=\"cbow300\")\n",
    "cbow_300.add(Embedding(input_dim=V, output_dim=300, init='glorot_uniform',input_length=4))\n",
    "cbow_300.add(Flatten())\n",
    "cbow_300.add(Dense(V, init='glorot_uniform', activation='softmax'))\n",
    "cbow_300.summary()\n",
    "\n",
    "cbow_models = [cbow_50,cbow_150,cbow_300]"
   ]
  },
  {
   "cell_type": "code",
   "execution_count": 78,
   "metadata": {},
   "outputs": [],
   "source": [
    "#define loss function\n",
    "for cbow in cbow_models:\n",
    "    cbow.compile(loss='categorical_crossentropy', optimizer='adadelta')"
   ]
  },
  {
   "cell_type": "code",
   "execution_count": 6,
   "metadata": {},
   "outputs": [
    {
     "name": "stdout",
     "output_type": "stream",
     "text": [
      "Train on 5903 samples, validate on 656 samples\n",
      "Epoch 1/100\n",
      "5903/5903 [==============================] - 3s 547us/step - loss: 7.0495 - val_loss: 7.0279\n",
      "Epoch 2/100\n",
      "5903/5903 [==============================] - 3s 496us/step - loss: 6.9876 - val_loss: 6.9825\n",
      "Epoch 3/100\n",
      "5903/5903 [==============================] - 3s 485us/step - loss: 6.9145 - val_loss: 6.9132\n",
      "Epoch 4/100\n",
      "5903/5903 [==============================] - 3s 488us/step - loss: 6.8049 - val_loss: 6.7977\n",
      "Epoch 5/100\n",
      "5903/5903 [==============================] - 3s 480us/step - loss: 6.6370 - val_loss: 6.6216\n",
      "Epoch 6/100\n",
      "5903/5903 [==============================] - 3s 470us/step - loss: 6.4109 - val_loss: 6.4074\n",
      "Epoch 7/100\n",
      "5903/5903 [==============================] - 3s 453us/step - loss: 6.1725 - val_loss: 6.2239\n",
      "Epoch 8/100\n",
      "5903/5903 [==============================] - 3s 464us/step - loss: 5.9754 - val_loss: 6.0881\n",
      "Epoch 9/100\n",
      "5903/5903 [==============================] - 3s 457us/step - loss: 5.8161 - val_loss: 5.9828\n",
      "Epoch 10/100\n",
      "5903/5903 [==============================] - 3s 466us/step - loss: 5.6796 - val_loss: 5.8917\n",
      "Epoch 11/100\n",
      "5903/5903 [==============================] - 3s 482us/step - loss: 5.5570 - val_loss: 5.8114\n",
      "Epoch 12/100\n",
      "5903/5903 [==============================] - 3s 473us/step - loss: 5.4442 - val_loss: 5.7403\n",
      "Epoch 13/100\n",
      "5903/5903 [==============================] - 3s 478us/step - loss: 5.3385 - val_loss: 5.6753\n",
      "Epoch 14/100\n",
      "5903/5903 [==============================] - 3s 469us/step - loss: 5.2390 - val_loss: 5.6169\n",
      "Epoch 15/100\n",
      "5903/5903 [==============================] - 3s 475us/step - loss: 5.1443 - val_loss: 5.5632\n",
      "Epoch 16/100\n",
      "5903/5903 [==============================] - 3s 476us/step - loss: 5.0538 - val_loss: 5.5149\n",
      "Epoch 17/100\n",
      "5903/5903 [==============================] - 3s 467us/step - loss: 4.9665 - val_loss: 5.4677\n",
      "Epoch 18/100\n",
      "5903/5903 [==============================] - 3s 473us/step - loss: 4.8824 - val_loss: 5.4241\n",
      "Epoch 19/100\n",
      "5903/5903 [==============================] - 3s 472us/step - loss: 4.8022 - val_loss: 5.3846\n",
      "Epoch 20/100\n",
      "5903/5903 [==============================] - 3s 474us/step - loss: 4.7246 - val_loss: 5.3489\n",
      "Epoch 21/100\n",
      "5903/5903 [==============================] - 3s 487us/step - loss: 4.6496 - val_loss: 5.3148\n",
      "Epoch 22/100\n",
      "5903/5903 [==============================] - 3s 524us/step - loss: 4.5766 - val_loss: 5.2840\n",
      "Epoch 23/100\n",
      "5903/5903 [==============================] - 3s 506us/step - loss: 4.5054 - val_loss: 5.2552\n",
      "Epoch 24/100\n",
      "5903/5903 [==============================] - 3s 509us/step - loss: 4.4365 - val_loss: 5.2268\n",
      "Epoch 25/100\n",
      "5903/5903 [==============================] - 3s 520us/step - loss: 4.3692 - val_loss: 5.2011\n",
      "Epoch 26/100\n",
      "5903/5903 [==============================] - 3s 502us/step - loss: 4.3031 - val_loss: 5.1779\n",
      "Epoch 27/100\n",
      "5903/5903 [==============================] - 3s 514us/step - loss: 4.2391 - val_loss: 5.1539\n",
      "Epoch 28/100\n",
      "5903/5903 [==============================] - 3s 501us/step - loss: 4.1764 - val_loss: 5.1340\n",
      "Epoch 29/100\n",
      "5903/5903 [==============================] - 3s 521us/step - loss: 4.1147 - val_loss: 5.1111\n",
      "Epoch 30/100\n",
      "5903/5903 [==============================] - 3s 517us/step - loss: 4.0545 - val_loss: 5.0939\n",
      "Epoch 31/100\n",
      "5903/5903 [==============================] - 3s 516us/step - loss: 3.9958 - val_loss: 5.0774\n",
      "Epoch 32/100\n",
      "5903/5903 [==============================] - 3s 512us/step - loss: 3.9370 - val_loss: 5.0615\n",
      "Epoch 33/100\n",
      "5903/5903 [==============================] - 3s 502us/step - loss: 3.8795 - val_loss: 5.0446\n",
      "Epoch 34/100\n",
      "5903/5903 [==============================] - 3s 508us/step - loss: 3.8226 - val_loss: 5.0320\n",
      "Epoch 35/100\n",
      "5903/5903 [==============================] - 3s 514us/step - loss: 3.7672 - val_loss: 5.0181\n",
      "Epoch 36/100\n",
      "5903/5903 [==============================] - 3s 500us/step - loss: 3.7129 - val_loss: 5.0026\n",
      "Epoch 37/100\n",
      "5903/5903 [==============================] - 3s 515us/step - loss: 3.6593 - val_loss: 4.9881\n",
      "Epoch 38/100\n",
      "5903/5903 [==============================] - 3s 499us/step - loss: 3.6065 - val_loss: 4.9766\n",
      "Epoch 39/100\n",
      "5903/5903 [==============================] - 3s 514us/step - loss: 3.5535 - val_loss: 4.9656\n",
      "Epoch 40/100\n",
      "5903/5903 [==============================] - 3s 509us/step - loss: 3.5024 - val_loss: 4.9569\n",
      "Epoch 41/100\n",
      "5903/5903 [==============================] - 3s 505us/step - loss: 3.4515 - val_loss: 4.9470\n",
      "Epoch 42/100\n",
      "5903/5903 [==============================] - 3s 508us/step - loss: 3.4017 - val_loss: 4.9332\n",
      "Epoch 43/100\n",
      "5903/5903 [==============================] - 3s 505us/step - loss: 3.3526 - val_loss: 4.9240\n",
      "Epoch 44/100\n",
      "5903/5903 [==============================] - 3s 509us/step - loss: 3.3048 - val_loss: 4.9146\n",
      "Epoch 45/100\n",
      "5903/5903 [==============================] - 3s 519us/step - loss: 3.2574 - val_loss: 4.9087\n",
      "Epoch 46/100\n",
      "5903/5903 [==============================] - 3s 503us/step - loss: 3.2104 - val_loss: 4.9015\n",
      "Epoch 47/100\n",
      "5903/5903 [==============================] - 3s 512us/step - loss: 3.1638 - val_loss: 4.8949\n",
      "Epoch 48/100\n",
      "5903/5903 [==============================] - 3s 505us/step - loss: 3.1182 - val_loss: 4.8887\n",
      "Epoch 49/100\n",
      "5903/5903 [==============================] - 3s 515us/step - loss: 3.0731 - val_loss: 4.8816\n",
      "Epoch 50/100\n",
      "5903/5903 [==============================] - 3s 513us/step - loss: 3.0292 - val_loss: 4.8751\n",
      "Epoch 51/100\n",
      "5903/5903 [==============================] - 3s 516us/step - loss: 2.9854 - val_loss: 4.8706\n",
      "Epoch 52/100\n",
      "5903/5903 [==============================] - 3s 511us/step - loss: 2.9428 - val_loss: 4.8660\n",
      "Epoch 53/100\n",
      "5903/5903 [==============================] - 3s 510us/step - loss: 2.8997 - val_loss: 4.8603\n",
      "Epoch 54/100\n",
      "5903/5903 [==============================] - 3s 520us/step - loss: 2.8585 - val_loss: 4.8569\n",
      "Epoch 55/100\n",
      "5903/5903 [==============================] - 3s 516us/step - loss: 2.8173 - val_loss: 4.8546\n",
      "Epoch 56/100\n",
      "5903/5903 [==============================] - 3s 501us/step - loss: 2.7764 - val_loss: 4.8481\n",
      "Epoch 57/100\n",
      "5903/5903 [==============================] - 3s 510us/step - loss: 2.7371 - val_loss: 4.8446\n",
      "Epoch 58/100\n",
      "5903/5903 [==============================] - 3s 505us/step - loss: 2.6966 - val_loss: 4.8403\n",
      "Epoch 59/100\n",
      "5903/5903 [==============================] - 3s 506us/step - loss: 2.6579 - val_loss: 4.8409\n"
     ]
    },
    {
     "data": {
      "text/plain": [
       "<keras.callbacks.History at 0x1baf76451d0>"
      ]
     },
     "execution_count": 6,
     "metadata": {},
     "output_type": "execute_result"
    }
   ],
   "source": [
    "#train model\n",
    "from keras import callbacks\n",
    "X,Y = prep_cbow_data()\n",
    "epochs=100\n",
    "b_size = 250\n",
    "earlyStopping=callbacks.EarlyStopping(monitor='val_loss',min_delta=0.001, patience=0, verbose=0, mode='auto')\n",
    "trained_models = []\n",
    "for cbow in cbow_models:\n",
    "    print(\"Running {}\".format(cbow.name))\n",
    "    cbow.fit(X,Y,batch_size=b_size,epochs=epochs,validation_split=1/12, callbacks=[earlyStopping])\n",
    "    cbow.save(cbow.name+\".h5\")\n",
    "    trained_models.append(cbow)\n",
    "    \n"
   ]
  },
  {
   "cell_type": "code",
   "execution_count": null,
   "metadata": {},
   "outputs": [],
   "source": [
    "for model in trained_models:\n",
    "    model.save(model.name +'.h5')"
   ]
  },
  {
   "cell_type": "markdown",
   "metadata": {},
   "source": [
    "# 2.2 \n",
    "## Using the Skipgram model."
   ]
  },
  {
   "cell_type": "code",
   "execution_count": 163,
   "metadata": {},
   "outputs": [],
   "source": [
    "#prepare data for Skipgram\n",
    "def generate_data_skipgram(corpus, window_size, V):\n",
    "    maxlen = window_size*2\n",
    "    all_in = []\n",
    "    all_out = []\n",
    "    for words in corpus:\n",
    "        L = len(words)\n",
    "        for index, word in enumerate(words):\n",
    "            p = index - window_size\n",
    "            n = index + window_size + 1\n",
    "                    \n",
    "            in_words = []\n",
    "            labels = []\n",
    "            for i in range(p, n):\n",
    "                if i != index and 0 <= i < L:\n",
    "                    in_words.append([word])\n",
    "                    labels.append(words[i])\n",
    "            if in_words != []:\n",
    "                all_in.append(np.array(in_words,dtype=np.int32))\n",
    "                all_out.append(np_utils.to_categorical(labels, V))\n",
    "    return (all_in,all_out)\n",
    "\n",
    "#get x and y's for data\n",
    "x,y = generate_data_skipgram(corpus,window_size,V)\n",
    "\n",
    "#save the preprocessed data of Skipgram\n",
    "f = open('data_skipgram.txt' ,'w')\n",
    "\n",
    "for input,outcome  in zip(x,y):\n",
    "    input = np.concatenate(input)\n",
    "    f.write(\" \".join(map(str, list(input))))\n",
    "    f.write(\",\")\n",
    "    outcome = np.concatenate(outcome)\n",
    "    f.write(\" \".join(map(str,list(outcome))))\n",
    "    f.write(\"\\n\")\n",
    "f.close()\n",
    "\n",
    "#load the preprocessed Skipgram data\n",
    "def generate_data_skipgram_from_file():\n",
    "    f = open('data_skipgram.txt' ,'r')\n",
    "    for row in f:\n",
    "        inputs,outputs = row.split(\",\")\n",
    "        inputs = np.fromstring(inputs, dtype=int, sep=' ')\n",
    "        inputs = np.asarray(np.split(inputs, len(inputs)))\n",
    "        outputs = np.fromstring(outputs, dtype=float, sep=' ')\n",
    "        outputs = np.asarray(np.split(outputs, len(inputs)))\n",
    "        yield (inputs,outputs)"
   ]
  },
  {
   "cell_type": "code",
   "execution_count": 164,
   "metadata": {},
   "outputs": [],
   "source": [
    "#create Skipgram model\n",
    "\n",
    "dim1=50\n",
    "dim2=150\n",
    "dim3=300\n",
    "skipgram_50 = Sequential()\n",
    "skipgram_50.add(Embedding(input_dim=V, output_dim=dim1, embeddings_initializer='glorot_uniform', input_length=1))\n",
    "skipgram_50.add(Reshape((dim1, )))\n",
    "skipgram_50.add(Dense(input_dim=dim1, units=V, kernel_initializer='uniform', activation='softmax'))\n",
    "\n",
    "skipgram_150 = Sequential()\n",
    "skipgram_150.add(Embedding(input_dim=V, output_dim=dim2, embeddings_initializer='glorot_uniform', input_length=1))\n",
    "skipgram_150.add(Reshape((dim2, )))\n",
    "skipgram_150.add(Dense(input_dim=dim2, units=V, kernel_initializer='uniform', activation='softmax'))\n",
    "\n",
    "skipgram_300 = Sequential()\n",
    "skipgram_300.add(Embedding(input_dim=V, output_dim=dim3, embeddings_initializer='glorot_uniform', input_length=1))\n",
    "skipgram_300.add(Reshape((dim3, )))\n",
    "skipgram_300.add(Dense(input_dim=dim3, units=V, kernel_initializer='uniform', activation='softmax'))"
   ]
  },
  {
   "cell_type": "code",
   "execution_count": 165,
   "metadata": {},
   "outputs": [],
   "source": [
    "#define loss function for Skipgram\n",
    "skipgram_50.compile(loss='categorical_crossentropy', optimizer='adadelta')\n",
    "skipgram_150.compile(loss='categorical_crossentropy', optimizer='adadelta')\n",
    "skipgram_300.compile(loss='categorical_crossentropy', optimizer='adadelta')"
   ]
  },
  {
   "cell_type": "code",
   "execution_count": 166,
   "metadata": {},
   "outputs": [
    {
     "name": "stdout",
     "output_type": "stream",
     "text": [
      "0 42020.850971221924\n",
      "1 38379.24893140793\n",
      "2 39009.6740334034\n",
      "3 39515.18972373009\n",
      "4 39694.606760025024\n",
      "5 39879.188750982285\n",
      "6 40052.81768655777\n",
      "7 40222.94297456741\n",
      "8 40406.03855037689\n",
      "9 40601.82211446762\n",
      "0 41999.72671556473\n",
      "1 38329.860137462616\n",
      "2 38863.99836754799\n",
      "3 39224.9512283802\n",
      "4 39388.4169280529\n",
      "5 39532.090304374695\n",
      "6 39681.889948129654\n",
      "7 39846.23095178604\n",
      "8 40013.75022268295\n",
      "9 40184.366864323616\n",
      "0 41972.11958169937\n",
      "1 38265.37358021736\n",
      "2 38667.456391334534\n",
      "3 38952.51325392723\n",
      "4 39107.2551445961\n",
      "5 39254.421288490295\n",
      "6 39401.511434555054\n",
      "7 39544.53228521347\n",
      "8 39688.97990846634\n",
      "9 39832.670347929\n"
     ]
    }
   ],
   "source": [
    "#train Skipgram model\n",
    "for ite in range(10):\n",
    "    loss = 0.\n",
    "    for x, y in generate_data_skipgram_from_file():\n",
    "        loss += skipgram_50.train_on_batch(x, y)\n",
    "\n",
    "    print(ite, loss)\n",
    "    \n",
    "f = open('vectors_skipgram_50.txt' ,'w')\n",
    "f.write(\" \".join([str(V-1),str(dim1)]))\n",
    "f.write(\"\\n\")\n",
    "vectors = skipgram_50.get_weights()[0]\n",
    "for word, i in tokenizer.word_index.items():\n",
    "    f.write(word)\n",
    "    f.write(\" \")\n",
    "    f.write(\" \".join(map(str, list(vectors[i,:]))))\n",
    "    f.write(\"\\n\")\n",
    "f.close()\n",
    "\n",
    "for ite in range(10):\n",
    "    loss = 0.\n",
    "    for x, y in generate_data_skipgram_from_file():\n",
    "        loss += skipgram_150.train_on_batch(x, y)\n",
    "\n",
    "    print(ite, loss)\n",
    "    \n",
    "f = open('vectors_skipgram_150.txt' ,'w')\n",
    "f.write(\" \".join([str(V-1),str(dim2)]))\n",
    "f.write(\"\\n\")\n",
    "vectors = skipgram_150.get_weights()[0]\n",
    "for word, i in tokenizer.word_index.items():\n",
    "    f.write(word)\n",
    "    f.write(\" \")\n",
    "    f.write(\" \".join(map(str, list(vectors[i,:]))))\n",
    "    f.write(\"\\n\")\n",
    "f.close()\n",
    "\n",
    "for ite in range(10):\n",
    "    loss = 0.\n",
    "    for x, y in generate_data_skipgram_from_file():\n",
    "        loss += skipgram_300.train_on_batch(x, y)\n",
    "\n",
    "    print(ite, loss)\n",
    "    \n",
    "f = open('vectors_skipgram_300.txt' ,'w')\n",
    "f.write(\" \".join([str(V-1),str(dim3)]))\n",
    "f.write(\"\\n\")\n",
    "vectors = skipgram_300.get_weights()[0]\n",
    "for word, i in tokenizer.word_index.items():\n",
    "    f.write(word)\n",
    "    f.write(\" \")\n",
    "    f.write(\" \".join(map(str, list(vectors[i,:]))))\n",
    "    f.write(\"\\n\")\n",
    "f.close()"
   ]
  },
  {
   "cell_type": "markdown",
   "metadata": {},
   "source": [
    "## 2.3\n",
    "### Add extra hidden dense layer to CBow and Skipgram implementations. Choose an activation function for that layer and justify your answer."
   ]
  },
  {
   "cell_type": "code",
   "execution_count": 8,
   "metadata": {},
   "outputs": [
    {
     "name": "stderr",
     "output_type": "stream",
     "text": [
      "c:\\users\\illia\\appdata\\local\\programs\\python\\python36\\lib\\site-packages\\ipykernel_launcher.py:3: UserWarning: Update your `Embedding` call to the Keras 2 API: `Embedding(input_dim=1183, output_dim=100, input_length=4, embeddings_initializer=\"glorot_uniform\")`\n",
      "  This is separate from the ipykernel package so we can avoid doing imports until\n",
      "c:\\users\\illia\\appdata\\local\\programs\\python\\python36\\lib\\site-packages\\ipykernel_launcher.py:6: UserWarning: Update your `Dense` call to the Keras 2 API: `Dense(1183, activation=\"softmax\", kernel_initializer=\"glorot_uniform\")`\n",
      "  \n"
     ]
    }
   ],
   "source": [
    "#create CBOW model with additional dense layer\n",
    "cbow2 = Sequential()\n",
    "cbow2.add(Embedding(input_dim=V, output_dim=dim, init='glorot_uniform',input_length=4))\n",
    "cbow2.add(Flatten())\n",
    "cbow2.add(Dense(V,activation='relu'))\n",
    "cbow2.add(Dense(V, init='glorot_uniform', activation='softmax'))"
   ]
  },
  {
   "cell_type": "code",
   "execution_count": 10,
   "metadata": {},
   "outputs": [],
   "source": [
    "#define loss function for CBOW + dense\n",
    "cbow2.compile(loss='categorical_crossentropy', optimizer='adadelta')"
   ]
  },
  {
   "cell_type": "code",
   "execution_count": 11,
   "metadata": {},
   "outputs": [
    {
     "name": "stdout",
     "output_type": "stream",
     "text": [
      "Train on 5903 samples, validate on 656 samples\n",
      "Epoch 1/100\n",
      "5903/5903 [==============================] - 9s 2ms/step - loss: 6.7766 - val_loss: 6.1094\n",
      "Epoch 2/100\n",
      "5903/5903 [==============================] - 9s 1ms/step - loss: 5.8327 - val_loss: 5.7606\n",
      "Epoch 3/100\n",
      "5903/5903 [==============================] - 9s 2ms/step - loss: 5.5145 - val_loss: 5.5747\n",
      "Epoch 4/100\n",
      "5903/5903 [==============================] - 8s 1ms/step - loss: 5.2639 - val_loss: 5.4150\n",
      "Epoch 5/100\n",
      "5903/5903 [==============================] - 8s 1ms/step - loss: 5.0215 - val_loss: 5.2781\n",
      "Epoch 6/100\n",
      "5903/5903 [==============================] - 9s 2ms/step - loss: 4.7894 - val_loss: 5.1477\n",
      "Epoch 7/100\n",
      "5903/5903 [==============================] - 11s 2ms/step - loss: 4.5724 - val_loss: 5.0567\n",
      "Epoch 8/100\n",
      "5903/5903 [==============================] - 10s 2ms/step - loss: 4.3716 - val_loss: 4.9879\n",
      "Epoch 9/100\n",
      "5903/5903 [==============================] - 10s 2ms/step - loss: 4.1812 - val_loss: 4.9395\n",
      "Epoch 10/100\n",
      "5903/5903 [==============================] - 9s 2ms/step - loss: 3.9998 - val_loss: 4.8841\n",
      "Epoch 11/100\n",
      "5903/5903 [==============================] - 9s 2ms/step - loss: 3.8235 - val_loss: 4.8715\n",
      "Epoch 12/100\n",
      "5903/5903 [==============================] - 9s 2ms/step - loss: 3.6504 - val_loss: 4.8396\n",
      "Epoch 13/100\n",
      "5903/5903 [==============================] - 9s 2ms/step - loss: 3.4827 - val_loss: 4.8171\n",
      "Epoch 14/100\n",
      "5903/5903 [==============================] - 10s 2ms/step - loss: 3.3142 - val_loss: 4.8193\n"
     ]
    },
    {
     "data": {
      "text/plain": [
       "<keras.callbacks.History at 0x1bafacd8668>"
      ]
     },
     "execution_count": 11,
     "metadata": {},
     "output_type": "execute_result"
    }
   ],
   "source": [
    "#train model for CBOW + dense\n",
    "epochs=100\n",
    "\n",
    "earlyStopping=callbacks.EarlyStopping(monitor='val_loss',min_delta=0.001, patience=0, verbose=0, mode='auto')\n",
    "\n",
    "cbow2.fit(X,Y,epochs=epochs,validation_split=0.1, callbacks=[earlyStopping])"
   ]
  },
  {
   "cell_type": "code",
   "execution_count": 12,
   "metadata": {},
   "outputs": [],
   "source": [
    "#create Skipgram with additional dense layer\n",
    "\n",
    "#create Skipgram model\n",
    "\n",
    "skipgram_50_dense = Sequential()\n",
    "skipgram_50_dense.add(Embedding(input_dim=V, output_dim=dim1, embeddings_initializer='glorot_uniform', input_length=1))\n",
    "skipgram_50_dense.add(Reshape((dim1, )))\n",
    "skipgram_50_dense.add(Dense(V,activation='relu'))\n",
    "skipgram_50_dense.add(Dense(input_dim=dim1, units=V, kernel_initializer='uniform', activation='softmax'))\n",
    "\n",
    "skipgram_150_dense = Sequential()\n",
    "skipgram_150_dense.add(Embedding(input_dim=V, output_dim=dim2, embeddings_initializer='glorot_uniform', input_length=1))\n",
    "skipgram_150_dense.add(Reshape((dim2, )))\n",
    "skipgram_150_dense.add(Dense(V,activation='relu'))\n",
    "skipgram_150_dense.add(Dense(input_dim=dim2, units=V, kernel_initializer='uniform', activation='softmax'))\n",
    "\n",
    "skipgram_300_dense = Sequential()\n",
    "skipgram_300_dense.add(Embedding(input_dim=V, output_dim=dim3, embeddings_initializer='glorot_uniform', input_length=1))\n",
    "skipgram_300_dense.add(Reshape((dim3, )))\n",
    "skipgram_300_dense.add(Dense(V,activation='relu'))\n",
    "skipgram_300_dense.add(Dense(input_dim=dim3, units=V, kernel_initializer='uniform', activation='softmax'))\n",
    "\n",
    "\n",
    "\n",
    "#skipgram2 = Sequential()\n",
    "#skipgram2.add(Embedding(input_dim=V, output_dim=dim, embeddings_initializer='glorot_uniform', input_length=1))\n",
    "#skipgram2.add(Reshape((dim, )))\n",
    "#skipgram2.add(Dense(input_dim=dim, units=V, kernel_initializer='uniform', activation='softmax'))\n",
    "#skipgram2.add(Dense(input_dim=dim, units=V, kernel_initializer='uniform', activation='softmax'))"
   ]
  },
  {
   "cell_type": "code",
   "execution_count": 13,
   "metadata": {},
   "outputs": [],
   "source": [
    "#define loss function for Skipgram + dense\n",
    "skipgram_50_dense.compile(loss='categorical_crossentropy', optimizer='adadelta')\n",
    "skipgram_150_dense.compile(loss='categorical_crossentropy', optimizer='adadelta')\n",
    "skipgram_300_dense.compile(loss='categorical_crossentropy', optimizer='adadelta')"
   ]
  },
  {
   "cell_type": "code",
   "execution_count": 14,
   "metadata": {},
   "outputs": [
    {
     "name": "stdout",
     "output_type": "stream",
     "text": [
      "0 39444.32987213135\n",
      "1 38264.48951482773\n",
      "2 37948.66480302811\n",
      "3 37769.99622249603\n",
      "4 37750.78943347931\n",
      "5 37725.23108911514\n",
      "6 37674.930666565895\n",
      "7 37620.79466640949\n",
      "8 37566.527002334595\n",
      "9 37519.70512115955\n",
      "0 39471.03422307968\n",
      "1 38220.93018221855\n",
      "2 37718.286794900894\n",
      "3 37538.61131024361\n",
      "4 37493.13153910637\n",
      "5 37456.600872159004\n",
      "6 37402.676347732544\n",
      "7 37335.5792144537\n",
      "8 37265.79830777645\n",
      "9 37196.82523834705\n",
      "0 39445.47623085976\n",
      "1 38082.24569654465\n",
      "2 37592.96987724304\n",
      "3 37330.86567401886\n",
      "4 37259.75267124176\n",
      "5 37224.620362997055\n",
      "6 37161.21744906902\n",
      "7 37086.09090960026\n",
      "8 37002.261269927025\n",
      "9 36925.072355270386\n"
     ]
    }
   ],
   "source": [
    "#train model for Skipgram + dense\n",
    "#train Skipgram model\n",
    "for ite in range(10):\n",
    "    loss = 0.\n",
    "    for x, y in generate_data_skipgram_from_file():\n",
    "        loss += skipgram_50_dense.train_on_batch(x, y)\n",
    "\n",
    "    print(ite, loss)\n",
    "    \n",
    "f = open('vectors_skipgram_50_dense.txt' ,'w')\n",
    "f.write(\" \".join([str(V-1),str(dim1)]))\n",
    "f.write(\"\\n\")\n",
    "vectors = skipgram_50_dense.get_weights()[0]\n",
    "for word, i in tokenizer.word_index.items():\n",
    "    f.write(word)\n",
    "    f.write(\" \")\n",
    "    f.write(\" \".join(map(str, list(vectors[i,:]))))\n",
    "    f.write(\"\\n\")\n",
    "f.close()\n",
    "\n",
    "for ite in range(10):\n",
    "    loss = 0.\n",
    "    for x, y in generate_data_skipgram_from_file():\n",
    "        loss += skipgram_150_dense.train_on_batch(x, y)\n",
    "\n",
    "    print(ite, loss)\n",
    "    \n",
    "f = open('vectors_skipgram_150_dense.txt' ,'w')\n",
    "f.write(\" \".join([str(V-1),str(dim2)]))\n",
    "f.write(\"\\n\")\n",
    "vectors = skipgram_150_dense.get_weights()[0]\n",
    "for word, i in tokenizer.word_index.items():\n",
    "    f.write(word)\n",
    "    f.write(\" \")\n",
    "    f.write(\" \".join(map(str, list(vectors[i,:]))))\n",
    "    f.write(\"\\n\")\n",
    "f.close()\n",
    "\n",
    "for ite in range(10):\n",
    "    loss = 0.\n",
    "    for x, y in generate_data_skipgram_from_file():\n",
    "        loss += skipgram_300_dense.train_on_batch(x, y)\n",
    "\n",
    "    print(ite, loss)\n",
    "    \n",
    "f = open('vectors_skipgram_300_dense.txt' ,'w')\n",
    "f.write(\" \".join([str(V-1),str(dim3)]))\n",
    "f.write(\"\\n\")\n",
    "vectors = skipgram_300_dense.get_weights()[0]\n",
    "for word, i in tokenizer.word_index.items():\n",
    "    f.write(word)\n",
    "    f.write(\" \")\n",
    "    f.write(\" \".join(map(str, list(vectors[i,:]))))\n",
    "    f.write(\"\\n\")\n",
    "f.close()"
   ]
  },
  {
   "cell_type": "code",
   "execution_count": null,
   "metadata": {},
   "outputs": [],
   "source": [
    "#save model\n",
    "skipgram_50.save('skipgram_50.h5')\n",
    "skipgram_150.save('skipgram_150.h5')\n",
    "skipgram_300.save('skipgram_300.h5')\n",
    "skipgram_50_dense.save('skipgram_50_dense.h5')\n",
    "skipgram_150_dense.save('skipgram_150_dense.h5')\n",
    "skipgram_300_dense.save('skipgram_300_dense.h5')"
   ]
  },
  {
   "cell_type": "markdown",
   "metadata": {},
   "source": [
    "TODO:\n",
    "explain activation layer\n",
    "\n",
    "We add an extra hidden dense layer just before the final dense layer. We use ReLU activation function since it is the simplest non-linear activation function that is commonly used."
   ]
  },
  {
   "cell_type": "markdown",
   "metadata": {},
   "source": [
    "## 2.4\n",
    "### Analyze the four different word embeddings"
   ]
  },
  {
   "cell_type": "code",
   "execution_count": 124,
   "metadata": {},
   "outputs": [],
   "source": [
    "#Implement your own analogy function\n",
    "\n",
    "key_cbow_50 ={}\n",
    "key_cbow_150 ={}\n",
    "key_cbow_300 ={}\n",
    "key_cbow_50_dense ={}\n",
    "key_cbow_150_dense ={}\n",
    "key_cbow_300_dense ={}\n",
    "key_skipgram_50 ={}\n",
    "key_skipgram_150 ={}\n",
    "key_skipgram_300 ={}\n",
    "key_skipgram_50_dense ={}\n",
    "key_skipgram_150_dense ={}\n",
    "key_skipgram_300_dense ={}\n",
    "\n",
    "embed_cbow_50 =[]\n",
    "embed_cbow_150 =[]\n",
    "embed_cbow_300 =[]\n",
    "embed_cbow_50_dense =[]\n",
    "embed_cbow_150_dense =[]\n",
    "embed_cbow_300_dense =[]\n",
    "embed_skipgram_50 =[]\n",
    "embed_skipgram_150 =[]\n",
    "embed_skipgram_300 =[]\n",
    "embed_skipgram_50_dense =[]\n",
    "embed_skipgram_150_dense =[]\n",
    "embed_skipgram_300_dense =[]\n",
    "\n",
    "\n",
    "\n",
    "\n",
    "def load_from_file(a):\n",
    "    f = open(a ,'r')\n",
    "    key_dict={}\n",
    "    vect=[]\n",
    "    for row in f:\n",
    "        dimention=0\n",
    "        inp = row.split(\"\\n\")[0].split(\" \")\n",
    "        if(len(inp)==2):\n",
    "            dimention=inp[1]\n",
    "        else:\n",
    "            key_dict.update({inp[0]:len(key_dict)})\n",
    "            vect.append(np.asarray(inp[1:],dtype=float))\n",
    "    return (vect,key_dict)\n",
    "\n",
    "(embed_cbow_50,key_cbow_50)=load_from_file('vectors_cbow_50.txt')\n",
    "(embed_cbow_150,key_cbow_150)=load_from_file('vectors_cbow_150.txt')\n",
    "(embed_cbow_300,key_cbow_300)=load_from_file('vectors_cbow_300.txt')\n",
    "(embed_cbow_50_dense,key_cbow_50_dense)=load_from_file('vectors_cbow_50_dense.txt')\n",
    "(embed_cbow_150_dense,key_cbow_150_dense)=load_from_file('vectors_cbow_150_dense.txt')\n",
    "(embed_cbow_300_dense,key_cbow_300_dense)=load_from_file('vectors_cbow_300_dense.txt')\n",
    "(embed_skipgram_50,key_skipgram_50)=load_from_file('vectors_skipgram_50.txt')\n",
    "(embed_skipgram_150,key_skipgram_150)=load_from_file('vectors_skipgram_150.txt')\n",
    "(embed_skipgram_300,key_skipgram_300)=load_from_file('vectors_skipgram_300.txt')\n",
    "(embed_skipgram_50_dense,key_skipgram_50_dense)=load_from_file('vectors_skipgram_50_dense.txt')\n",
    "(embed_skipgram_150_dense,key_skipgram_150_dense)=load_from_file('vectors_skipgram_150_dense.txt')\n",
    "(embed_skipgram_300_dense,key_skipgram_300_dense)=load_from_file('vectors_skipgram_300_dense.txt')\n",
    "\n",
    "\n"
   ]
  },
  {
   "cell_type": "code",
   "execution_count": 264,
   "metadata": {},
   "outputs": [
    {
     "name": "stdout",
     "output_type": "stream",
     "text": [
      "0.3108869698881552\n",
      "0.3173297559423709\n",
      "0.0379434827632857\n"
     ]
    }
   ],
   "source": [
    "import operator \n",
    "def load_analogy():\n",
    "    f = open('analogy_alice.txt' ,'r')\n",
    "    analogy_list=[]\n",
    "    for row in f:\n",
    "        a = row.split(\"\\n\")[0].split(\" \")\n",
    "        analogy_list.append(np.asarray(a))\n",
    "    return analogy_list\n",
    "\n",
    "def analogy_check(analogy_list,embed_matrix,dictionary):\n",
    "    v=[[],[],[],[]]\n",
    "    for i in range(4):\n",
    "        if(analogy_list[i] in dictionary):\n",
    "            v[i]=embed_matrix[dictionary[analogy_list[i]]-1]\n",
    "        else:\n",
    "            v[i]=np.zeros(len(embed_matrix[0]))\n",
    "    #print(dictionary)\n",
    "    #return abs(cos_sim(v[0],v[2])-cos_sim(v[1],v[3]))\n",
    "    #return 1-abs(cos_sim(v[0],v[1])-cos_sim(v[2],v[3]))\n",
    "    #return cos_sim( list(map(sum, zip(list(map(operator.sub, v[0],v[1]))), v[2])),v[3])\n",
    "    #return abs(cos_sim(v[0]-v[2]+v[1],v[3]))\n",
    "    return abs(cos_sim( (v[0]+v[1])/2,(v[2]+v[3])/2))\n",
    "analogy_list=load_analogy()\n",
    "#print(analogy_list[0])\n",
    "print(analogy_check([\"go\",\"going\",\"look\",\"looking\"],embed_skipgram_150, tokenizer.word_index ))\n",
    "print(analogy_check([\"say\",\"saying\",\"sit\",\"sitting\"],cooccurrence_matrix.toarray(), tokenizer.word_index ))\n",
    "print(analogy_check([\"sudden\",\"suddenly\",\"usual\",\"usually\"],embed_skipgram_300_dense, tokenizer.word_index ))\n",
    "#print(analogy_check([\"king\",\"queen\",\"man\",\"woman\"],embed_cbow_50, tokenizer.word_index ))\n",
    "\n",
    "#analogy_check([\"fancy\",\"fancying\",\"alice\",\"rabbit\"],embed_skipgram_150, tokenizer.word_index )    "
   ]
  },
  {
   "cell_type": "code",
   "execution_count": 168,
   "metadata": {},
   "outputs": [
    {
     "data": {
      "text/plain": [
       "False"
      ]
     },
     "execution_count": 168,
     "metadata": {},
     "output_type": "execute_result"
    }
   ],
   "source": [
    "\"king\" in tokenizer.word_index"
   ]
  },
  {
   "cell_type": "code",
   "execution_count": 123,
   "metadata": {},
   "outputs": [],
   "source": [
    "#read model from tim\n",
    "\n",
    "from keras.models import load_model\n",
    "\n",
    "dim1=50\n",
    "dim2=150\n",
    "dim3=300\n",
    "cbow_50 = load_model('cbow50.h5')\n",
    "cbow_150 = load_model('cbow150.h5')\n",
    "cbow_300 = load_model('cbow300.h5')\n",
    "cbow_50_dense = load_model('cbow_extended_50.h5')\n",
    "cbow_150_dense = load_model('cbow_extended_150.h5')\n",
    "cbow_300_dense = load_model('cbow_extended_300.h5')\n",
    "\n",
    "f = open('vectors_cbow_50.txt' ,'w')\n",
    "f.write(\" \".join([str(V-1),str(dim1)]))\n",
    "f.write(\"\\n\")\n",
    "vectors = cbow_50.get_weights()[0]\n",
    "for word, i in tokenizer.word_index.items():\n",
    "    f.write(word)\n",
    "    f.write(\" \")\n",
    "    f.write(\" \".join(map(str, list(vectors[i,:]))))\n",
    "    f.write(\"\\n\")\n",
    "f.close()\n",
    "\n",
    "f = open('vectors_cbow_150.txt' ,'w')\n",
    "f.write(\" \".join([str(V-1),str(dim2)]))\n",
    "f.write(\"\\n\")\n",
    "vectors = cbow_150.get_weights()[0]\n",
    "for word, i in tokenizer.word_index.items():\n",
    "    f.write(word)\n",
    "    f.write(\" \")\n",
    "    f.write(\" \".join(map(str, list(vectors[i,:]))))\n",
    "    f.write(\"\\n\")\n",
    "f.close()\n",
    "\n",
    "f = open('vectors_cbow_300.txt' ,'w')\n",
    "f.write(\" \".join([str(V-1),str(dim3)]))\n",
    "f.write(\"\\n\")\n",
    "vectors = cbow_300.get_weights()[0]\n",
    "for word, i in tokenizer.word_index.items():\n",
    "    f.write(word)\n",
    "    f.write(\" \")\n",
    "    f.write(\" \".join(map(str, list(vectors[i,:]))))\n",
    "    f.write(\"\\n\")\n",
    "f.close()\n",
    "\n",
    "f = open('vectors_cbow_50_dense.txt' ,'w')\n",
    "f.write(\" \".join([str(V-1),str(dim1)]))\n",
    "f.write(\"\\n\")\n",
    "vectors = cbow_50_dense.get_weights()[0]\n",
    "for word, i in tokenizer.word_index.items():\n",
    "    f.write(word)\n",
    "    f.write(\" \")\n",
    "    f.write(\" \".join(map(str, list(vectors[i,:]))))\n",
    "    f.write(\"\\n\")\n",
    "f.close()\n",
    "\n",
    "f = open('vectors_cbow_150_dense.txt' ,'w')\n",
    "f.write(\" \".join([str(V-1),str(dim2)]))\n",
    "f.write(\"\\n\")\n",
    "vectors = cbow_150_dense.get_weights()[0]\n",
    "for word, i in tokenizer.word_index.items():\n",
    "    f.write(word)\n",
    "    f.write(\" \")\n",
    "    f.write(\" \".join(map(str, list(vectors[i,:]))))\n",
    "    f.write(\"\\n\")\n",
    "f.close()\n",
    "\n",
    "f = open('vectors_cbow_300_dense.txt' ,'w')\n",
    "f.write(\" \".join([str(V-1),str(dim3)]))\n",
    "f.write(\"\\n\")\n",
    "vectors = cbow_300_dense.get_weights()[0]\n",
    "for word, i in tokenizer.word_index.items():\n",
    "    f.write(word)\n",
    "    f.write(\" \")\n",
    "    f.write(\" \".join(map(str, list(vectors[i,:]))))\n",
    "    f.write(\"\\n\")\n",
    "f.close()\n"
   ]
  },
  {
   "cell_type": "markdown",
   "metadata": {},
   "source": [
    "Comparison performance:"
   ]
  },
  {
   "cell_type": "code",
   "execution_count": 226,
   "metadata": {},
   "outputs": [],
   "source": [
    "#Visualization results trained word embeddings\n",
    "\n",
    "import matplotlib.pyplot as plt\n",
    "def draw_word_vecs(X,strings):\n",
    "    col = ['r','b','g','y']\n",
    "    if len(X)!= len(strings):\n",
    "        print(\"mismatch in lengths between labels and vectors\")\n",
    "        \n",
    "    X_embedded = TSNE(n_components=4,method='exact').fit_transform(X)\n",
    "    maxt = np.amax(X_embedded)\n",
    "    mint = np.amin(X_embedded)\n",
    "    #print(maxt,mint)\n",
    "    maxt = max(maxt,mint*-1)\n",
    "    for i in range(len(X_embedded)):\n",
    "        plt.quiver(X_embedded[i][0]/maxt,X_embedded[i][1]/maxt,X_embedded[i][2]/maxt,X_embedded[i][3]/maxt,angles='xy', scale_units='xy',color=col[i], scale=1,label=strings[i])\n",
    "        #for val in X_embedded[i]:\n",
    "            #print(val/maxt)\n",
    "    #print(X_embedded)\n",
    "    plt.ylim(-1.2,1.2)\n",
    "    plt.xlim(-1.2,1.2)\n",
    "    plt.legend(strings)\n",
    "    plt.show()\n",
    "\n"
   ]
  },
  {
   "cell_type": "code",
   "execution_count": 242,
   "metadata": {},
   "outputs": [
    {
     "data": {
      "image/png": "[encoded data removed]",
      "text/plain": [
       "<matplotlib.figure.Figure at 0x24b0c9f87b8>"
      ]
     },
     "metadata": {},
     "output_type": "display_data"
    },
    {
     "name": "stdout",
     "output_type": "stream",
     "text": [
      "['find' 'finds' 'say' 'says']\n"
     ]
    }
   ],
   "source": [
    "#cbow 50\n",
    "w2visualize=analogy_list[19]\n",
    "\n",
    "embedlist=[]\n",
    "for i in range(4):\n",
    "    #embedlist.append(word2vec[analogy_list[1][i]])\n",
    "    embedlist.append(embed_cbow_50[tokenizer.word_index[w2visualize[i]]-1])\n",
    "plt.title(\"CBOW 50\")\n",
    "draw_word_vecs(embedlist,w2visualize)    \n",
    "print(w2visualize)\n"
   ]
  },
  {
   "cell_type": "code",
   "execution_count": 243,
   "metadata": {},
   "outputs": [
    {
     "data": {
      "image/png": "[encoded data removed]",
      "text/plain": [
       "<matplotlib.figure.Figure at 0x24b0ca86780>"
      ]
     },
     "metadata": {},
     "output_type": "display_data"
    },
    {
     "name": "stdout",
     "output_type": "stream",
     "text": [
      "['find' 'finds' 'say' 'says']\n"
     ]
    }
   ],
   "source": [
    "#cbow 150\n",
    "\n",
    "embedlist=[]\n",
    "for i in range(4):\n",
    "    #embedlist.append(word2vec[analogy_list[1][i]])\n",
    "    embedlist.append(embed_cbow_150[tokenizer.word_index[w2visualize[i]]-1])\n",
    "plt.title(\"CBOW 150\")\n",
    "draw_word_vecs(embedlist,w2visualize)    \n",
    "print(w2visualize)\n"
   ]
  },
  {
   "cell_type": "code",
   "execution_count": 244,
   "metadata": {},
   "outputs": [
    {
     "data": {
      "image/png": "[encoded data removed]",
      "text/plain": [
       "<matplotlib.figure.Figure at 0x24b0ca19b00>"
      ]
     },
     "metadata": {},
     "output_type": "display_data"
    },
    {
     "name": "stdout",
     "output_type": "stream",
     "text": [
      "['find' 'finds' 'say' 'says']\n"
     ]
    }
   ],
   "source": [
    "#cbow 300\n",
    "\n",
    "embedlist=[]\n",
    "for i in range(4):\n",
    "    #embedlist.append(word2vec[analogy_list[1][i]])\n",
    "    embedlist.append(embed_cbow_300[tokenizer.word_index[w2visualize[i]]-1])\n",
    "plt.title(\"CBOW 300\")\n",
    "draw_word_vecs(embedlist,w2visualize)    \n",
    "print(w2visualize)\n"
   ]
  },
  {
   "cell_type": "code",
   "execution_count": 245,
   "metadata": {},
   "outputs": [
    {
     "data": {
      "image/png": "[encoded data removed]",
      "text/plain": [
       "<matplotlib.figure.Figure at 0x24b0cbaa2b0>"
      ]
     },
     "metadata": {},
     "output_type": "display_data"
    },
    {
     "name": "stdout",
     "output_type": "stream",
     "text": [
      "['find' 'finds' 'say' 'says']\n"
     ]
    }
   ],
   "source": [
    "#skipgram 50\n",
    "\n",
    "embedlist=[]\n",
    "for i in range(4):\n",
    "    #embedlist.append(word2vec[analogy_list[1][i]])\n",
    "    embedlist.append(embed_skipgram_50[tokenizer.word_index[w2visualize[i]]-1])\n",
    "plt.title(\"Skipgram 50\")\n",
    "draw_word_vecs(embedlist,w2visualize)    \n",
    "print(w2visualize)\n"
   ]
  },
  {
   "cell_type": "code",
   "execution_count": 246,
   "metadata": {},
   "outputs": [
    {
     "data": {
      "image/png": "[encoded data removed]",
      "text/plain": [
       "<matplotlib.figure.Figure at 0x24b0cbd54a8>"
      ]
     },
     "metadata": {},
     "output_type": "display_data"
    },
    {
     "name": "stdout",
     "output_type": "stream",
     "text": [
      "['find' 'finds' 'say' 'says']\n"
     ]
    }
   ],
   "source": [
    "#skipgram 150\n",
    "\n",
    "embedlist=[]\n",
    "for i in range(4):\n",
    "    #embedlist.append(word2vec[analogy_list[1][i]])\n",
    "    embedlist.append(embed_skipgram_150[tokenizer.word_index[w2visualize[i]]-1])\n",
    "plt.title(\"Skipgram 150\")\n",
    "draw_word_vecs(embedlist,w2visualize)    \n",
    "print(w2visualize)\n"
   ]
  },
  {
   "cell_type": "code",
   "execution_count": 247,
   "metadata": {},
   "outputs": [
    {
     "data": {
      "image/png": "[encoded data removed]",
      "text/plain": [
       "<matplotlib.figure.Figure at 0x24b0cc41080>"
      ]
     },
     "metadata": {},
     "output_type": "display_data"
    },
    {
     "name": "stdout",
     "output_type": "stream",
     "text": [
      "['find' 'finds' 'say' 'says']\n"
     ]
    }
   ],
   "source": [
    "#skipgram 300\n",
    "\n",
    "embedlist=[]\n",
    "for i in range(4):\n",
    "    #embedlist.append(word2vec[analogy_list[1][i]])\n",
    "    embedlist.append(embed_skipgram_300[tokenizer.word_index[w2visualize[i]]-1])\n",
    "plt.title(\"Skipgram 300\")\n",
    "draw_word_vecs(embedlist,w2visualize)    \n",
    "print(w2visualize)\n"
   ]
  },
  {
   "cell_type": "code",
   "execution_count": 248,
   "metadata": {},
   "outputs": [
    {
     "data": {
      "image/png": "[encoded data removed]",
      "text/plain": [
       "<matplotlib.figure.Figure at 0x24b0ccad048>"
      ]
     },
     "metadata": {},
     "output_type": "display_data"
    },
    {
     "name": "stdout",
     "output_type": "stream",
     "text": [
      "['find' 'finds' 'say' 'says']\n"
     ]
    }
   ],
   "source": [
    "#cbow 50_dense\n",
    "\n",
    "embedlist=[]\n",
    "for i in range(4):\n",
    "    #embedlist.append(word2vec[analogy_list[1][i]])\n",
    "    embedlist.append(embed_cbow_50_dense[tokenizer.word_index[w2visualize[i]]-1])\n",
    "plt.title(\"CBOW 50 dense\")\n",
    "draw_word_vecs(embedlist,w2visualize)    \n",
    "print(w2visualize)\n"
   ]
  },
  {
   "cell_type": "code",
   "execution_count": 249,
   "metadata": {},
   "outputs": [
    {
     "data": {
      "image/png": "[encoded data removed]",
      "text/plain": [
       "<matplotlib.figure.Figure at 0x24b0cd1e4e0>"
      ]
     },
     "metadata": {},
     "output_type": "display_data"
    },
    {
     "name": "stdout",
     "output_type": "stream",
     "text": [
      "['find' 'finds' 'say' 'says']\n"
     ]
    }
   ],
   "source": [
    "#cbow 150_dense\n",
    "\n",
    "embedlist=[]\n",
    "for i in range(4):\n",
    "    #embedlist.append(word2vec[analogy_list[1][i]])\n",
    "    embedlist.append(embed_cbow_150_dense[tokenizer.word_index[w2visualize[i]]-1])\n",
    "plt.title(\"CBOW 150 dense\")\n",
    "draw_word_vecs(embedlist,w2visualize)    \n",
    "print(w2visualize)\n"
   ]
  },
  {
   "cell_type": "code",
   "execution_count": 250,
   "metadata": {},
   "outputs": [
    {
     "data": {
      "image/png": "[encoded data removed]",
      "text/plain": [
       "<matplotlib.figure.Figure at 0x24b0cd985c0>"
      ]
     },
     "metadata": {},
     "output_type": "display_data"
    },
    {
     "name": "stdout",
     "output_type": "stream",
     "text": [
      "['find' 'finds' 'say' 'says']\n"
     ]
    }
   ],
   "source": [
    "#cbow 300_dense\n",
    "\n",
    "embedlist=[]\n",
    "for i in range(4):\n",
    "    #embedlist.append(word2vec[analogy_list[1][i]])\n",
    "    embedlist.append(embed_cbow_300_dense[tokenizer.word_index[w2visualize[i]]-1])\n",
    "plt.title(\"CBOW 300 dense\")\n",
    "draw_word_vecs(embedlist,w2visualize)    \n",
    "print(w2visualize)\n"
   ]
  },
  {
   "cell_type": "code",
   "execution_count": 251,
   "metadata": {},
   "outputs": [
    {
     "data": {
      "image/png": "[encoded data removed]",
      "text/plain": [
       "<matplotlib.figure.Figure at 0x24b0ce12470>"
      ]
     },
     "metadata": {},
     "output_type": "display_data"
    },
    {
     "name": "stdout",
     "output_type": "stream",
     "text": [
      "['find' 'finds' 'say' 'says']\n"
     ]
    }
   ],
   "source": [
    "#skipgram 50_dense\n",
    "\n",
    "embedlist=[]\n",
    "for i in range(4):\n",
    "    #embedlist.append(word2vec[analogy_list[1][i]])\n",
    "    embedlist.append(embed_skipgram_50_dense[tokenizer.word_index[w2visualize[i]]-1])\n",
    "plt.title(\"skipgram 50 dense\")\n",
    "draw_word_vecs(embedlist,w2visualize)    \n",
    "print(w2visualize)\n"
   ]
  },
  {
   "cell_type": "code",
   "execution_count": 252,
   "metadata": {},
   "outputs": [
    {
     "data": {
      "image/png": "[encoded data removed]",
      "text/plain": [
       "<matplotlib.figure.Figure at 0x24b0d995978>"
      ]
     },
     "metadata": {},
     "output_type": "display_data"
    },
    {
     "name": "stdout",
     "output_type": "stream",
     "text": [
      "['find' 'finds' 'say' 'says']\n"
     ]
    }
   ],
   "source": [
    "#skipgram 150_dense\n",
    "\n",
    "embedlist=[]\n",
    "for i in range(4):\n",
    "    #embedlist.append(word2vec[analogy_list[1][i]])\n",
    "    embedlist.append(embed_skipgram_150_dense[tokenizer.word_index[w2visualize[i]]-1])\n",
    "plt.title(\"skipgram 150 dense\")\n",
    "draw_word_vecs(embedlist,w2visualize)    \n",
    "print(w2visualize)\n"
   ]
  },
  {
   "cell_type": "code",
   "execution_count": 253,
   "metadata": {},
   "outputs": [
    {
     "data": {
      "image/png": "[encoded data removed]",
      "text/plain": [
       "<matplotlib.figure.Figure at 0x24b0d9d1dd8>"
      ]
     },
     "metadata": {},
     "output_type": "display_data"
    },
    {
     "name": "stdout",
     "output_type": "stream",
     "text": [
      "['find' 'finds' 'say' 'says']\n"
     ]
    }
   ],
   "source": [
    "#skipgram 300_dense\n",
    "\n",
    "embedlist=[]\n",
    "for i in range(4):\n",
    "    #embedlist.append(word2vec[analogy_list[1][i]])\n",
    "    embedlist.append(embed_skipgram_300_dense[tokenizer.word_index[w2visualize[i]]-1])\n",
    "plt.title(\"skipgram 300 dense\")\n",
    "draw_word_vecs(embedlist,w2visualize)    \n",
    "print(w2visualize)\n"
   ]
  },
  {
   "cell_type": "markdown",
   "metadata": {},
   "source": [
    "TODO: add explanation 2.4"
   ]
  },
  {
   "cell_type": "markdown",
   "metadata": {},
   "source": [
    "## 2.5\n",
    "### Use the word co-occurence matrix from Question 1. Compare the performance on the analogy task with the performance of your trained word embeddings."
   ]
  },
  {
   "cell_type": "code",
   "execution_count": 271,
   "metadata": {},
   "outputs": [
    {
     "name": "stdout",
     "output_type": "stream",
     "text": [
      "co-occurance: sudden, suddenly, usual, usually: 0.20341951009664783\n",
      "cbow_50: sudden, suddenly, usual, usually: 0.2145599465610109\n",
      "cbow_150: sudden, suddenly, usual, usually: 0.16464666681544313\n",
      "cbow_300: sudden, suddenly, usual, usually: 0.04262983580543956\n",
      "cbow_50_dense: sudden, suddenly, usual, usually: 0.024934976086477847\n",
      "cbow_150_dense: sudden, suddenly, usual, usually: 0.06584301080295592\n",
      "cbow_300_dense: sudden, suddenly, usual, usually: 0.057512587300851306\n",
      "skipgram_50: sudden, suddenly, usual, usually: 0.051247048932523284\n",
      "skipgram_150: sudden, suddenly, usual, usually: 0.11488630353144216\n",
      "skipgram_300: sudden, suddenly, usual, usually: 0.025398620492292738\n",
      "skipgram_50_dense: sudden, suddenly, usual, usually: 0.11550091531896342\n",
      "skipgram_150_dense: sudden, suddenly, usual, usually: 0.09122986493247628\n",
      "skipgram_300_dense: sudden, suddenly, usual, usually: 0.0379434827632857\n",
      "\n",
      "co-occurance: bad, worse, good, better: 0.340842718662506\n",
      "cbow_50: bad, worse, good, better: 0.007139452508570647\n",
      "cbow_150: bad, worse, good, better: 0.04960375886754415\n",
      "cbow_300: bad, worse, good, better: 0.08364212988123694\n",
      "cbow_50_dense: bad, worse, good, better: 0.026874943420956886\n",
      "cbow_150_dense: bad, worse, good, better: 0.12296815517749676\n",
      "cbow_300_dense: bad, worse, good, better: 0.022567480791767187\n",
      "skipgram_50: bad, worse, good, better: 0.14242828767090374\n",
      "skipgram_150: bad, worse, good, better: 0.06110748320636268\n",
      "skipgram_300: bad, worse, good, better: 0.014283902125049552\n",
      "skipgram_50_dense: bad, worse, good, better: 0.07730987059232503\n",
      "skipgram_150_dense: bad, worse, good, better: 0.11583589719793469\n",
      "skipgram_300_dense: bad, worse, good, better: 0.06542767465641082\n",
      "\n",
      "co-occurance: go, going, look, looking: 0.5257224725382912\n",
      "cbow_50: go, going, look, looking: 0.04482878540457188\n",
      "cbow_150: go, going, look, looking: 0.13521208123901596\n",
      "cbow_300: go, going, look, looking: 0.11739576262876612\n",
      "cbow_50_dense: go, going, look, looking: 0.2275989682841857\n",
      "cbow_150_dense: go, going, look, looking: 0.08095648478867602\n",
      "cbow_300_dense: go, going, look, looking: 0.014954370905789528\n",
      "skipgram_50: go, going, look, looking: 0.04897776970140745\n",
      "skipgram_150: go, going, look, looking: 0.3108869698881552\n",
      "skipgram_300: go, going, look, looking: 0.1897161720304399\n",
      "skipgram_50_dense: go, going, look, looking: 0.14061684371374158\n",
      "skipgram_150_dense: go, going, look, looking: 0.14720249473774485\n",
      "skipgram_300_dense: go, going, look, looking: 0.002864495321771528\n",
      "\n",
      "co-occurance: he, she, his, her: 0.7385962387549866\n",
      "cbow_50: he, she, his, her: 0.08099932963910215\n",
      "cbow_150: he, she, his, her: 0.03569783846020872\n",
      "cbow_300: he, she, his, her: 0.022474709476888687\n",
      "cbow_50_dense: he, she, his, her: 0.25305776920456663\n",
      "cbow_150_dense: he, she, his, her: 0.05257730241374489\n",
      "cbow_300_dense: he, she, his, her: 0.12253203367780965\n",
      "skipgram_50: he, she, his, her: 0.5350455025860693\n",
      "skipgram_150: he, she, his, her: 0.4214261528756635\n",
      "skipgram_300: he, she, his, her: 0.1928937824570437\n",
      "skipgram_50_dense: he, she, his, her: 0.2154861486119754\n",
      "skipgram_150_dense: he, she, his, her: 0.14655767256694316\n",
      "skipgram_300_dense: he, she, his, her: 0.1511302407262479\n",
      "\n",
      "co-occurance: brother, sister, his, her: 0.6112346949924595\n",
      "cbow_50: brother, sister, his, her: 0.3216747204943751\n",
      "cbow_150: brother, sister, his, her: 0.23105893917756617\n",
      "cbow_300: brother, sister, his, her: 0.07589060484117083\n",
      "cbow_50_dense: brother, sister, his, her: 0.08839213138780096\n",
      "cbow_150_dense: brother, sister, his, her: 0.03201457747498062\n",
      "cbow_300_dense: brother, sister, his, her: 0.010614877330893632\n",
      "skipgram_50: brother, sister, his, her: 0.08925583606036332\n",
      "skipgram_150: brother, sister, his, her: 0.11066786236035159\n",
      "skipgram_300: brother, sister, his, her: 0.15242621645498913\n",
      "skipgram_50_dense: brother, sister, his, her: 0.16731238470239565\n",
      "skipgram_150_dense: brother, sister, his, her: 0.1600951228220338\n",
      "skipgram_300_dense: brother, sister, his, her: 0.10670694926142113\n",
      "\n",
      "co-occurance: listen, listening, look, looking: 0.26481698509308443\n",
      "cbow_50: listen, listening, look, looking: 0.3802069701610734\n",
      "cbow_150: listen, listening, look, looking: 0.36921053308958424\n",
      "cbow_300: listen, listening, look, looking: 0.23802999618462123\n",
      "cbow_50_dense: listen, listening, look, looking: 0.03956834867672034\n",
      "cbow_150_dense: listen, listening, look, looking: 0.025226025836383444\n",
      "cbow_300_dense: listen, listening, look, looking: 0.08170528413458206\n",
      "skipgram_50: listen, listening, look, looking: 0.21922497121328843\n",
      "skipgram_150: listen, listening, look, looking: 0.11884336654412271\n",
      "skipgram_300: listen, listening, look, looking: 0.012053642266116044\n",
      "skipgram_50_dense: listen, listening, look, looking: 0.3328211143150717\n",
      "skipgram_150_dense: listen, listening, look, looking: 0.0595487007636639\n",
      "skipgram_300_dense: listen, listening, look, looking: 0.0406596642434014\n",
      "\n",
      "co-occurance: saying, said, thinking, thought: 0.35946825219809\n",
      "cbow_50: saying, said, thinking, thought: 0.3083834417108346\n",
      "cbow_150: saying, said, thinking, thought: 0.30258397528363445\n",
      "cbow_300: saying, said, thinking, thought: 0.3385169623849108\n",
      "cbow_50_dense: saying, said, thinking, thought: 0.27146892652097987\n",
      "cbow_150_dense: saying, said, thinking, thought: 0.26399041172107607\n",
      "cbow_300_dense: saying, said, thinking, thought: 0.12383424063284779\n",
      "skipgram_50: saying, said, thinking, thought: 0.565914284020611\n",
      "skipgram_150: saying, said, thinking, thought: 0.3787360042101855\n",
      "skipgram_300: saying, said, thinking, thought: 0.30719562937336314\n",
      "skipgram_50_dense: saying, said, thinking, thought: 0.032715337214361935\n",
      "skipgram_150_dense: saying, said, thinking, thought: 0.03265436792557913\n",
      "skipgram_300_dense: saying, said, thinking, thought: 0.08585073444779104\n",
      "\n",
      "co-occurance: bird, birds, cat, cats: 0.26944042644259525\n",
      "cbow_50: bird, birds, cat, cats: 0.25155843706819225\n",
      "cbow_150: bird, birds, cat, cats: 0.11949157172847855\n",
      "cbow_300: bird, birds, cat, cats: 0.1781694964528609\n",
      "cbow_50_dense: bird, birds, cat, cats: 0.2320395959316713\n",
      "cbow_150_dense: bird, birds, cat, cats: 0.0884316106458272\n",
      "cbow_300_dense: bird, birds, cat, cats: 0.14467242053834647\n",
      "skipgram_50: bird, birds, cat, cats: 0.4165848617676572\n",
      "skipgram_150: bird, birds, cat, cats: 0.12949779747079\n",
      "skipgram_300: bird, birds, cat, cats: 0.12433095616959039\n",
      "skipgram_50_dense: bird, birds, cat, cats: 0.012887874151781279\n",
      "skipgram_150_dense: bird, birds, cat, cats: 0.07353652983537766\n",
      "skipgram_300_dense: bird, birds, cat, cats: 0.05631322940932175\n",
      "\n",
      "co-occurance: good, better, old, older: 0.30714575708258646\n",
      "cbow_50: good, better, old, older: 0.28356033517821916\n",
      "cbow_150: good, better, old, older: 0.3367662060157432\n",
      "cbow_300: good, better, old, older: 0.24294226160000545\n",
      "cbow_50_dense: good, better, old, older: 0.12562361925379575\n",
      "cbow_150_dense: good, better, old, older: 0.10944203217062437\n",
      "cbow_300_dense: good, better, old, older: 0.18656535061624072\n",
      "skipgram_50: good, better, old, older: 0.006747658278795679\n",
      "skipgram_150: good, better, old, older: 0.2613328446046628\n",
      "skipgram_300: good, better, old, older: 0.16584128942361212\n",
      "skipgram_50_dense: good, better, old, older: 0.006715441594898397\n",
      "skipgram_150_dense: good, better, old, older: 0.05311411308035306\n",
      "skipgram_300_dense: good, better, old, older: 0.05186729010261828\n",
      "\n",
      "co-occurance: good, better, quick, quicker: 0.34107029029906366\n",
      "cbow_50: good, better, quick, quicker: 0.12513511819856912\n",
      "cbow_150: good, better, quick, quicker: 0.10664919624378821\n",
      "cbow_300: good, better, quick, quicker: 0.03208647290314115\n",
      "cbow_50_dense: good, better, quick, quicker: 0.12567182118934672\n",
      "cbow_150_dense: good, better, quick, quicker: 0.06164886348505986\n",
      "cbow_300_dense: good, better, quick, quicker: 0.051326262550663464\n",
      "skipgram_50: good, better, quick, quicker: 0.037811205524927546\n",
      "skipgram_150: good, better, quick, quicker: 0.011419143924304096\n",
      "skipgram_300: good, better, quick, quicker: 0.026034704557969784\n",
      "skipgram_50_dense: good, better, quick, quicker: 0.033102714983078194\n",
      "skipgram_150_dense: good, better, quick, quicker: 0.03085308262693412\n",
      "skipgram_300_dense: good, better, quick, quicker: 0.0796093389770551\n",
      "\n",
      "co-occurance: large, largest, good, best: 0.1395444089352949\n",
      "cbow_50: large, largest, good, best: 0.055252841538935865\n",
      "cbow_150: large, largest, good, best: 0.14962042649321572\n",
      "cbow_300: large, largest, good, best: 0.13627840091820803\n",
      "cbow_50_dense: large, largest, good, best: 0.1395942175402173\n",
      "cbow_150_dense: large, largest, good, best: 0.11470696113616369\n",
      "cbow_300_dense: large, largest, good, best: 0.05309922636686337\n",
      "skipgram_50: large, largest, good, best: 0.0076305093982703895\n",
      "skipgram_150: large, largest, good, best: 0.1707115412567479\n",
      "skipgram_300: large, largest, good, best: 0.1725711060097743\n",
      "skipgram_50_dense: large, largest, good, best: 0.12473340544962884\n",
      "skipgram_150_dense: large, largest, good, best: 0.06615579167947909\n",
      "skipgram_300_dense: large, largest, good, best: 0.053627787932685286\n",
      "\n",
      "co-occurance: falling, fell, knowing, knew: 0.11600348176198484\n",
      "cbow_50: falling, fell, knowing, knew: 0.34969637290903044\n",
      "cbow_150: falling, fell, knowing, knew: 0.16103343892183927\n",
      "cbow_300: falling, fell, knowing, knew: 0.01912836021160874\n",
      "cbow_50_dense: falling, fell, knowing, knew: 0.018394198007298426\n",
      "cbow_150_dense: falling, fell, knowing, knew: 0.05989618949756096\n",
      "cbow_300_dense: falling, fell, knowing, knew: 0.037205425222480805\n",
      "skipgram_50: falling, fell, knowing, knew: 0.06791467768999672\n",
      "skipgram_150: falling, fell, knowing, knew: 0.09136214862017362\n",
      "skipgram_300: falling, fell, knowing, knew: 0.01463649822550943\n",
      "skipgram_50_dense: falling, fell, knowing, knew: 0.16193351261122524\n",
      "skipgram_150_dense: falling, fell, knowing, knew: 0.03656470212890241\n",
      "skipgram_300_dense: falling, fell, knowing, knew: 0.03872969424142178\n",
      "\n",
      "co-occurance: walk, walking, think, thinking: 0.06948063618614567\n",
      "cbow_50: walk, walking, think, thinking: 0.23305398188264462\n",
      "cbow_150: walk, walking, think, thinking: 0.16217284732039994\n",
      "cbow_300: walk, walking, think, thinking: 0.1371422823556235\n",
      "cbow_50_dense: walk, walking, think, thinking: 0.441744421903988\n",
      "cbow_150_dense: walk, walking, think, thinking: 0.27691568613316025\n",
      "cbow_300_dense: walk, walking, think, thinking: 0.25241882965411033\n",
      "skipgram_50: walk, walking, think, thinking: 0.1326619778939263\n",
      "skipgram_150: walk, walking, think, thinking: 0.1950671462577301\n",
      "skipgram_300: walk, walking, think, thinking: 0.05063676675719801\n",
      "skipgram_50_dense: walk, walking, think, thinking: 0.11086919505279523\n",
      "skipgram_150_dense: walk, walking, think, thinking: 0.039340863036024035\n",
      "skipgram_300_dense: walk, walking, think, thinking: 0.020751693251079326\n",
      "\n",
      "co-occurance: child, children, cat, cats: 0.12887794267338276\n",
      "cbow_50: child, children, cat, cats: 0.5761045501314452\n",
      "cbow_150: child, children, cat, cats: 0.6283387407761182\n",
      "cbow_300: child, children, cat, cats: 0.4224878099785585\n",
      "cbow_50_dense: child, children, cat, cats: 0.13089713945022188\n",
      "cbow_150_dense: child, children, cat, cats: 0.31170060389105086\n",
      "cbow_300_dense: child, children, cat, cats: 0.15971883179637444\n",
      "skipgram_50: child, children, cat, cats: 0.18690841970146993\n",
      "skipgram_150: child, children, cat, cats: 0.15727020501279124\n",
      "skipgram_300: child, children, cat, cats: 0.1633643593580084\n",
      "skipgram_50_dense: child, children, cat, cats: 0.11475457926841195\n",
      "skipgram_150_dense: child, children, cat, cats: 0.07555755343684083\n",
      "skipgram_300_dense: child, children, cat, cats: 0.08558659954598827\n",
      "\n",
      "co-occurance: dog, dogs, eye, eyes: 0.2349695309752005\n",
      "cbow_50: dog, dogs, eye, eyes: 0.048068004590513976\n",
      "cbow_150: dog, dogs, eye, eyes: 0.18301195503900555\n",
      "cbow_300: dog, dogs, eye, eyes: 0.08293971404713851\n",
      "cbow_50_dense: dog, dogs, eye, eyes: 0.009944152990215106\n",
      "cbow_150_dense: dog, dogs, eye, eyes: 0.00018806916728422024\n",
      "cbow_300_dense: dog, dogs, eye, eyes: 0.04959143883742041\n",
      "skipgram_50: dog, dogs, eye, eyes: 0.5401933619978343\n",
      "skipgram_150: dog, dogs, eye, eyes: 0.011997018957234177\n",
      "skipgram_300: dog, dogs, eye, eyes: 0.036955218552049134\n",
      "skipgram_50_dense: dog, dogs, eye, eyes: 0.014302918123874776\n",
      "skipgram_150_dense: dog, dogs, eye, eyes: 0.04161267376478868\n",
      "skipgram_300_dense: dog, dogs, eye, eyes: 0.09854696917931136\n",
      "\n",
      "co-occurance: hand, hands, rat, rats: 0.33242520863352953\n",
      "cbow_50: hand, hands, rat, rats: 0.20928379513093132\n",
      "cbow_150: hand, hands, rat, rats: 0.08922689088034921\n",
      "cbow_300: hand, hands, rat, rats: 0.06167524716738153\n",
      "cbow_50_dense: hand, hands, rat, rats: 0.2241956513486761\n",
      "cbow_150_dense: hand, hands, rat, rats: 0.08479348857676028\n",
      "cbow_300_dense: hand, hands, rat, rats: 0.21763028239299223\n",
      "skipgram_50: hand, hands, rat, rats: 0.029477426759401692\n",
      "skipgram_150: hand, hands, rat, rats: 0.13241202071518388\n",
      "skipgram_300: hand, hands, rat, rats: 0.056338820916069676\n",
      "skipgram_50_dense: hand, hands, rat, rats: 0.000745369944340421\n",
      "skipgram_150_dense: hand, hands, rat, rats: 0.18282660345720494\n",
      "skipgram_300_dense: hand, hands, rat, rats: 0.07454463081175015\n",
      "\n",
      "co-occurance: eat, eats, find, finds: 0.11861436543909255\n",
      "cbow_50: eat, eats, find, finds: 0.6344386909160316\n",
      "cbow_150: eat, eats, find, finds: 0.6230622716693793\n",
      "cbow_300: eat, eats, find, finds: 0.38332741252697833\n",
      "cbow_50_dense: eat, eats, find, finds: 0.11014595751932027\n",
      "cbow_150_dense: eat, eats, find, finds: 0.022188421800295247\n",
      "cbow_300_dense: eat, eats, find, finds: 0.02799474581397439\n",
      "skipgram_50: eat, eats, find, finds: 0.26850222986801453\n",
      "skipgram_150: eat, eats, find, finds: 0.08289657352440934\n",
      "skipgram_300: eat, eats, find, finds: 0.1310917767169901\n",
      "skipgram_50_dense: eat, eats, find, finds: 0.022223655143363493\n",
      "skipgram_150_dense: eat, eats, find, finds: 0.04586212657365139\n",
      "skipgram_300_dense: eat, eats, find, finds: 0.004353422652560424\n",
      "\n",
      "co-occurance: find, finds, say, says: 0.23988741456332002\n",
      "cbow_50: find, finds, say, says: 0.19636398876648298\n",
      "cbow_150: find, finds, say, says: 0.3493458745768275\n",
      "cbow_300: find, finds, say, says: 0.4225110412871306\n",
      "cbow_50_dense: find, finds, say, says: 0.10255216118966275\n",
      "cbow_150_dense: find, finds, say, says: 0.04139482654371349\n",
      "cbow_300_dense: find, finds, say, says: 0.09204581834643971\n",
      "skipgram_50: find, finds, say, says: 0.02189051838308856\n",
      "skipgram_150: find, finds, say, says: 0.11727715537439058\n",
      "skipgram_300: find, finds, say, says: 0.1485523068621352\n",
      "skipgram_50_dense: find, finds, say, says: 0.21955934322292522\n",
      "skipgram_150_dense: find, finds, say, says: 0.02131875144526285\n",
      "skipgram_300_dense: find, finds, say, says: 0.024942033757297807\n",
      "\n",
      "co-occurance: old, older, good, better: 0.30714575708258646\n",
      "cbow_50: old, older, good, better: 0.28356033517821916\n",
      "cbow_150: old, older, good, better: 0.3367662060157432\n",
      "cbow_300: old, older, good, better: 0.24294226160000545\n",
      "cbow_50_dense: old, older, good, better: 0.12562361925379575\n",
      "cbow_150_dense: old, older, good, better: 0.10944203217062437\n",
      "cbow_300_dense: old, older, good, better: 0.18656535061624072\n",
      "skipgram_50: old, older, good, better: 0.006747658278795679\n",
      "skipgram_150: old, older, good, better: 0.2613328446046628\n",
      "skipgram_300: old, older, good, better: 0.16584128942361212\n",
      "skipgram_50_dense: old, older, good, better: 0.006715441594898397\n",
      "skipgram_150_dense: old, older, good, better: 0.05311411308035306\n",
      "skipgram_300_dense: old, older, good, better: 0.05186729010261828\n",
      "\n",
      "co-occurance: large, larger, quick, quicker: 0.46126229661503876\n",
      "cbow_50: large, larger, quick, quicker: 0.15041247724164664\n",
      "cbow_150: large, larger, quick, quicker: 0.23806847996439426\n",
      "cbow_300: large, larger, quick, quicker: 0.04205617897711103\n",
      "cbow_50_dense: large, larger, quick, quicker: 0.14810958793009651\n",
      "cbow_150_dense: large, larger, quick, quicker: 0.12186104289525825\n",
      "cbow_300_dense: large, larger, quick, quicker: 0.09311372510784723\n",
      "skipgram_50: large, larger, quick, quicker: 0.08552472433803812\n",
      "skipgram_150: large, larger, quick, quicker: 0.12424542939530621\n",
      "skipgram_300: large, larger, quick, quicker: 0.06756714447400183\n",
      "skipgram_50_dense: large, larger, quick, quicker: 0.12221104436704669\n",
      "skipgram_150_dense: large, larger, quick, quicker: 0.053115179996420764\n",
      "skipgram_300_dense: large, larger, quick, quicker: 0.06817445995579048\n",
      "\n",
      "co-occurance: go, going, listen, listening: 0.17052103002986832\n",
      "cbow_50: go, going, listen, listening: 0.004348558915977116\n",
      "cbow_150: go, going, listen, listening: 0.04591844648923439\n",
      "cbow_300: go, going, listen, listening: 0.028175657728302012\n",
      "cbow_50_dense: go, going, listen, listening: 0.019190198412343568\n",
      "cbow_150_dense: go, going, listen, listening: 0.13541379022058453\n",
      "cbow_300_dense: go, going, listen, listening: 0.08877512926435754\n",
      "skipgram_50: go, going, listen, listening: 0.05539435165038242\n",
      "skipgram_150: go, going, listen, listening: 0.03247324062648229\n",
      "skipgram_300: go, going, listen, listening: 0.15185486231081524\n",
      "skipgram_50_dense: go, going, listen, listening: 0.14996689018468176\n",
      "skipgram_150_dense: go, going, listen, listening: 0.04243841588618983\n",
      "skipgram_300_dense: go, going, listen, listening: 0.010873228635317379\n",
      "\n",
      "co-occurance: run, running, walk, walking: 0.09035624609139908\n",
      "cbow_50: run, running, walk, walking: 0.43239444601331156\n",
      "cbow_150: run, running, walk, walking: 0.17316018462778576\n",
      "cbow_300: run, running, walk, walking: 0.06752979323171769\n",
      "cbow_50_dense: run, running, walk, walking: 0.19041077959930008\n",
      "cbow_150_dense: run, running, walk, walking: 0.08575569090759745\n",
      "cbow_300_dense: run, running, walk, walking: 0.13319373973395193\n",
      "skipgram_50: run, running, walk, walking: 0.05440431387771808\n",
      "skipgram_150: run, running, walk, walking: 0.08192690911244668\n",
      "skipgram_300: run, running, walk, walking: 0.10293102828061876\n",
      "skipgram_50_dense: run, running, walk, walking: 0.10158365041561519\n",
      "skipgram_150_dense: run, running, walk, walking: 0.03850630114665086\n",
      "skipgram_300_dense: run, running, walk, walking: 0.036897706755464\n",
      "\n",
      "co-occurance: run, running, think, thinking: 0.2779494787370918\n",
      "cbow_50: run, running, think, thinking: 0.12738615012738252\n",
      "cbow_150: run, running, think, thinking: 0.1885880627853949\n",
      "cbow_300: run, running, think, thinking: 0.13662853663187174\n",
      "cbow_50_dense: run, running, think, thinking: 0.09327913484627907\n",
      "cbow_150_dense: run, running, think, thinking: 0.09934669415267226\n",
      "cbow_300_dense: run, running, think, thinking: 0.013760378794701674\n",
      "skipgram_50: run, running, think, thinking: 0.0266290831646828\n",
      "skipgram_150: run, running, think, thinking: 0.08328285298530103\n",
      "skipgram_300: run, running, think, thinking: 0.06572295097742854\n",
      "skipgram_50_dense: run, running, think, thinking: 0.012145371455604355\n",
      "skipgram_150_dense: run, running, think, thinking: 0.06641353890075766\n",
      "skipgram_300_dense: run, running, think, thinking: 0.13502023716520042\n",
      "\n",
      "co-occurance: say, saying, sit, sitting: 0.15328841775286633\n",
      "cbow_50: say, saying, sit, sitting: 0.13290110049743256\n",
      "cbow_150: say, saying, sit, sitting: 0.13794787877818132\n",
      "cbow_300: say, saying, sit, sitting: 0.1255869428992714\n",
      "cbow_50_dense: say, saying, sit, sitting: 0.08854998828125173\n",
      "cbow_150_dense: say, saying, sit, sitting: 0.08481168346115567\n",
      "cbow_300_dense: say, saying, sit, sitting: 0.002778512915029485\n",
      "skipgram_50: say, saying, sit, sitting: 0.06671581439417851\n",
      "skipgram_150: say, saying, sit, sitting: 0.024395699928681472\n",
      "skipgram_300: say, saying, sit, sitting: 0.08653137863087766\n",
      "skipgram_50_dense: say, saying, sit, sitting: 0.2291511923882307\n",
      "skipgram_150_dense: say, saying, sit, sitting: 0.08249327141657764\n",
      "skipgram_300_dense: say, saying, sit, sitting: 0.031370623390230355\n",
      "\n",
      "co-occurance: alice, she, rabbit, he: 0.34414807845164874\n",
      "cbow_50: alice, she, rabbit, he: 0.3032260713980009\n",
      "cbow_150: alice, she, rabbit, he: 0.28750781874194553\n",
      "cbow_300: alice, she, rabbit, he: 0.23737374549441895\n",
      "cbow_50_dense: alice, she, rabbit, he: 0.37400362858646385\n",
      "cbow_150_dense: alice, she, rabbit, he: 0.2604214341177389\n",
      "cbow_300_dense: alice, she, rabbit, he: 0.22134533492778896\n",
      "skipgram_50: alice, she, rabbit, he: 0.3969428627541493\n",
      "skipgram_150: alice, she, rabbit, he: 0.26935194521993117\n",
      "skipgram_300: alice, she, rabbit, he: 0.1325306631609167\n",
      "skipgram_50_dense: alice, she, rabbit, he: 0.08122499625428377\n",
      "skipgram_150_dense: alice, she, rabbit, he: 0.19001593659421726\n",
      "skipgram_300_dense: alice, she, rabbit, he: 0.1196936498430301\n",
      "\n",
      "co-occurance: alice, her, rabbit, him: 0.32771434927105814\n",
      "cbow_50: alice, her, rabbit, him: 0.4245334730572496\n",
      "cbow_150: alice, her, rabbit, him: 0.3949279690641324\n",
      "cbow_300: alice, her, rabbit, him: 0.4694802520899805\n",
      "cbow_50_dense: alice, her, rabbit, him: 0.37489014507553303\n",
      "cbow_150_dense: alice, her, rabbit, him: 0.2922573512779353\n",
      "cbow_300_dense: alice, her, rabbit, him: 0.3085777141782657\n",
      "skipgram_50: alice, her, rabbit, him: 0.43744368034614123\n",
      "skipgram_150: alice, her, rabbit, him: 0.28236727353514146\n",
      "skipgram_300: alice, her, rabbit, him: 0.16623145761281516\n",
      "skipgram_50_dense: alice, her, rabbit, him: 0.003912821913825373\n",
      "skipgram_150_dense: alice, her, rabbit, him: 0.079360369362521\n",
      "skipgram_300_dense: alice, her, rabbit, him: 0.004352950260186055\n",
      "\n",
      "co-occurance: alice, girl, rabbit, sir: 0.09186016685209755\n",
      "cbow_50: alice, girl, rabbit, sir: 0.38352821418807104\n",
      "cbow_150: alice, girl, rabbit, sir: 0.3037741386102526\n",
      "cbow_300: alice, girl, rabbit, sir: 0.29111823565411055\n",
      "cbow_50_dense: alice, girl, rabbit, sir: 0.296456905787305\n",
      "cbow_150_dense: alice, girl, rabbit, sir: 0.18437463780691493\n",
      "cbow_300_dense: alice, girl, rabbit, sir: 0.17745145079999616\n",
      "skipgram_50: alice, girl, rabbit, sir: 0.37706869416324595\n",
      "skipgram_150: alice, girl, rabbit, sir: 0.2434311774890583\n",
      "skipgram_300: alice, girl, rabbit, sir: 0.013468505209538413\n",
      "skipgram_50_dense: alice, girl, rabbit, sir: 0.007664461700388371\n",
      "skipgram_150_dense: alice, girl, rabbit, sir: 0.013923791377918283\n",
      "skipgram_300_dense: alice, girl, rabbit, sir: 0.16162886469339285\n",
      "\n",
      "co-occurance: dinah, cat, alice, girl: 0.3292661488822022\n",
      "cbow_50: dinah, cat, alice, girl: 0.18871490618643927\n",
      "cbow_150: dinah, cat, alice, girl: 0.1988998323029214\n",
      "cbow_300: dinah, cat, alice, girl: 0.21994575208961464\n",
      "cbow_50_dense: dinah, cat, alice, girl: 0.01817282196713359\n",
      "cbow_150_dense: dinah, cat, alice, girl: 0.12974284936731623\n",
      "cbow_300_dense: dinah, cat, alice, girl: 0.0973591792683185\n",
      "skipgram_50: dinah, cat, alice, girl: 0.20264584206408742\n",
      "skipgram_150: dinah, cat, alice, girl: 0.23600359629142628\n",
      "skipgram_300: dinah, cat, alice, girl: 0.1798156827185624\n",
      "skipgram_50_dense: dinah, cat, alice, girl: 0.06226421184792411\n",
      "skipgram_150_dense: dinah, cat, alice, girl: 0.04952489944505424\n",
      "skipgram_300_dense: dinah, cat, alice, girl: 0.016715979149657174\n",
      "\n",
      "co-occurance: his, her, he, she: 0.7385962387549866\n",
      "cbow_50: his, her, he, she: 0.08099932963910215\n",
      "cbow_150: his, her, he, she: 0.03569783846020872\n",
      "cbow_300: his, her, he, she: 0.022474709476888687\n",
      "cbow_50_dense: his, her, he, she: 0.25305776920456663\n",
      "cbow_150_dense: his, her, he, she: 0.05257730241374489\n",
      "cbow_300_dense: his, her, he, she: 0.12253203367780965\n",
      "skipgram_50: his, her, he, she: 0.5350455025860693\n",
      "skipgram_150: his, her, he, she: 0.4214261528756635\n",
      "skipgram_300: his, her, he, she: 0.1928937824570437\n",
      "skipgram_50_dense: his, her, he, she: 0.2154861486119754\n",
      "skipgram_150_dense: his, her, he, she: 0.14655767256694316\n",
      "skipgram_300_dense: his, her, he, she: 0.1511302407262479\n",
      "\n",
      "co-occurance: long, longer, quick, quicker: 0.0754247233265651\n",
      "cbow_50: long, longer, quick, quicker: 0.4120102891993884\n",
      "cbow_150: long, longer, quick, quicker: 0.23017015273506933\n",
      "cbow_300: long, longer, quick, quicker: 0.09401260595447117\n",
      "cbow_50_dense: long, longer, quick, quicker: 0.01408052840685802\n",
      "cbow_150_dense: long, longer, quick, quicker: 0.007133586407366825\n",
      "cbow_300_dense: long, longer, quick, quicker: 0.07831883522036924\n",
      "skipgram_50: long, longer, quick, quicker: 0.02151832074829586\n",
      "skipgram_150: long, longer, quick, quicker: 0.09068842882436388\n",
      "skipgram_300: long, longer, quick, quicker: 0.07102139535964663\n",
      "skipgram_50_dense: long, longer, quick, quicker: 0.05400072789551662\n",
      "skipgram_150_dense: long, longer, quick, quicker: 0.11150849188104847\n",
      "skipgram_300_dense: long, longer, quick, quicker: 0.03754801662507641\n",
      "\n",
      "co-occurance: long, longer, small, smaller: 0.08908306380621506\n",
      "cbow_50: long, longer, small, smaller: 0.4318003131750905\n",
      "cbow_150: long, longer, small, smaller: 0.3554968324347603\n",
      "cbow_300: long, longer, small, smaller: 0.19269746490298645\n",
      "cbow_50_dense: long, longer, small, smaller: 0.5372986667713919\n",
      "cbow_150_dense: long, longer, small, smaller: 0.3725341328264276\n",
      "cbow_300_dense: long, longer, small, smaller: 0.35016791043829654\n",
      "skipgram_50: long, longer, small, smaller: 0.21398489733806456\n",
      "skipgram_150: long, longer, small, smaller: 0.1640505580848037\n",
      "skipgram_300: long, longer, small, smaller: 0.21245308466171794\n",
      "skipgram_50_dense: long, longer, small, smaller: 0.06976419471060234\n",
      "skipgram_150_dense: long, longer, small, smaller: 0.008430045436527846\n",
      "skipgram_300_dense: long, longer, small, smaller: 0.02207475087097485\n",
      "\n",
      "co-occurance: long, longer, bad, worse: 0.12267116321986311\n",
      "cbow_50: long, longer, bad, worse: 0.3260491473042464\n",
      "cbow_150: long, longer, bad, worse: 0.15212735080104456\n",
      "cbow_300: long, longer, bad, worse: 0.20373219592586617\n",
      "cbow_50_dense: long, longer, bad, worse: 0.08853810932159445\n",
      "cbow_150_dense: long, longer, bad, worse: 0.02362576370261302\n",
      "cbow_300_dense: long, longer, bad, worse: 0.02967005557613777\n",
      "skipgram_50: long, longer, bad, worse: 0.09991521837069943\n",
      "skipgram_150: long, longer, bad, worse: 0.04688277512539548\n",
      "skipgram_300: long, longer, bad, worse: 0.04225910785783235\n",
      "skipgram_50_dense: long, longer, bad, worse: 0.0591265043266381\n",
      "skipgram_150_dense: long, longer, bad, worse: 0.026776340215094604\n",
      "skipgram_300_dense: long, longer, bad, worse: 0.0009287152378468827\n",
      "\n",
      "co-occurance: go, going, look, looking: 0.5257224725382912\n",
      "cbow_50: go, going, look, looking: 0.04482878540457188\n",
      "cbow_150: go, going, look, looking: 0.13521208123901596\n",
      "cbow_300: go, going, look, looking: 0.11739576262876612\n",
      "cbow_50_dense: go, going, look, looking: 0.2275989682841857\n",
      "cbow_150_dense: go, going, look, looking: 0.08095648478867602\n",
      "cbow_300_dense: go, going, look, looking: 0.014954370905789528\n",
      "skipgram_50: go, going, look, looking: 0.04897776970140745\n",
      "skipgram_150: go, going, look, looking: 0.3108869698881552\n",
      "skipgram_300: go, going, look, looking: 0.1897161720304399\n",
      "skipgram_50_dense: go, going, look, looking: 0.14061684371374158\n",
      "skipgram_150_dense: go, going, look, looking: 0.14720249473774485\n",
      "skipgram_300_dense: go, going, look, looking: 0.002864495321771528\n",
      "\n",
      "co-occurance: listen, listening, look, looking: 0.26481698509308443\n",
      "cbow_50: listen, listening, look, looking: 0.3802069701610734\n",
      "cbow_150: listen, listening, look, looking: 0.36921053308958424\n",
      "cbow_300: listen, listening, look, looking: 0.23802999618462123\n",
      "cbow_50_dense: listen, listening, look, looking: 0.03956834867672034\n",
      "cbow_150_dense: listen, listening, look, looking: 0.025226025836383444\n",
      "cbow_300_dense: listen, listening, look, looking: 0.08170528413458206\n",
      "skipgram_50: listen, listening, look, looking: 0.21922497121328843\n",
      "skipgram_150: listen, listening, look, looking: 0.11884336654412271\n",
      "skipgram_300: listen, listening, look, looking: 0.012053642266116044\n",
      "skipgram_50_dense: listen, listening, look, looking: 0.3328211143150717\n",
      "skipgram_150_dense: listen, listening, look, looking: 0.0595487007636639\n",
      "skipgram_300_dense: listen, listening, look, looking: 0.0406596642434014\n",
      "\n",
      "co-occurance: swim, swimming, sit, sitting: 0.02995723447576391\n",
      "cbow_50: swim, swimming, sit, sitting: 0.48978575850663114\n",
      "cbow_150: swim, swimming, sit, sitting: 0.22129192423968272\n",
      "cbow_300: swim, swimming, sit, sitting: 0.04745686624994828\n",
      "cbow_50_dense: swim, swimming, sit, sitting: 0.021958860917220397\n",
      "cbow_150_dense: swim, swimming, sit, sitting: 0.17068327726846955\n",
      "cbow_300_dense: swim, swimming, sit, sitting: 0.03918166245483594\n",
      "skipgram_50: swim, swimming, sit, sitting: 0.2045576159267067\n",
      "skipgram_150: swim, swimming, sit, sitting: 0.02695449005542896\n",
      "skipgram_300: swim, swimming, sit, sitting: 0.0759698816019391\n",
      "skipgram_50_dense: swim, swimming, sit, sitting: 0.03028533116032402\n",
      "skipgram_150_dense: swim, swimming, sit, sitting: 0.05055787779525484\n",
      "skipgram_300_dense: swim, swimming, sit, sitting: 0.03563140413128219\n",
      "\n",
      "co-occurance: run, running, listen, listening: 0.13591085134405553\n",
      "cbow_50: run, running, listen, listening: 0.7591559036884049\n",
      "cbow_150: run, running, listen, listening: 0.500506534222073\n",
      "cbow_300: run, running, listen, listening: 0.2172115315370583\n",
      "cbow_50_dense: run, running, listen, listening: 0.1839417128743973\n",
      "cbow_150_dense: run, running, listen, listening: 0.22631221236606874\n",
      "cbow_300_dense: run, running, listen, listening: 0.16730155288174092\n",
      "skipgram_50: run, running, listen, listening: 0.008977071763193276\n",
      "skipgram_150: run, running, listen, listening: 0.06712680136774937\n",
      "skipgram_300: run, running, listen, listening: 0.05989072385340193\n",
      "skipgram_50_dense: run, running, listen, listening: 0.0398748541017174\n",
      "skipgram_150_dense: run, running, listen, listening: 0.012654900797069137\n",
      "skipgram_300_dense: run, running, listen, listening: 0.052294495200113054\n",
      "\n",
      "co-occurance: think, thinking, read, reading: 0.307303933969022\n",
      "cbow_50: think, thinking, read, reading: 0.2990498498151042\n",
      "cbow_150: think, thinking, read, reading: 0.2330940450897781\n",
      "cbow_300: think, thinking, read, reading: 0.16911559484697625\n",
      "cbow_50_dense: think, thinking, read, reading: 0.3787095492702201\n",
      "cbow_150_dense: think, thinking, read, reading: 0.3078049519115134\n",
      "cbow_300_dense: think, thinking, read, reading: 0.08962903058811725\n",
      "skipgram_50: think, thinking, read, reading: 0.06297131665063069\n",
      "skipgram_150: think, thinking, read, reading: 0.0061040761486036025\n",
      "skipgram_300: think, thinking, read, reading: 0.022228808308668864\n",
      "skipgram_50_dense: think, thinking, read, reading: 0.126542806632079\n",
      "skipgram_150_dense: think, thinking, read, reading: 0.0181158051746606\n",
      "skipgram_300_dense: think, thinking, read, reading: 0.03892256124563785\n",
      "\n",
      "co-occurance: up, down, close, far: 0.28084517529031744\n",
      "cbow_50: up, down, close, far: 0.36010716857066855\n",
      "cbow_150: up, down, close, far: 0.36598875609203435\n",
      "cbow_300: up, down, close, far: 0.21333871878277946\n",
      "cbow_50_dense: up, down, close, far: 0.19196383523652996\n",
      "cbow_150_dense: up, down, close, far: 0.009307886939470968\n",
      "cbow_300_dense: up, down, close, far: 0.007063529840594001\n",
      "skipgram_50: up, down, close, far: 0.006113836150702873\n",
      "skipgram_150: up, down, close, far: 0.16539584160054252\n",
      "skipgram_300: up, down, close, far: 0.1783465178663802\n",
      "skipgram_50_dense: up, down, close, far: 0.04473971846960458\n",
      "skipgram_150_dense: up, down, close, far: 0.14023607002769808\n",
      "skipgram_300_dense: up, down, close, far: 0.018702310370623847\n",
      "\n"
     ]
    }
   ],
   "source": [
    "#w2v and glove analogy performance\n",
    "cbow50analogylist=[]\n",
    "cbow50denseanalogylist=[]\n",
    "cbow150analogylist=[]\n",
    "cbow150denseanalogylist=[]\n",
    "cbow300analogylist=[]\n",
    "cbow300denseanalogylist=[]\n",
    "skipgram50analogylist=[]\n",
    "skipgram50denseanalogylist=[]\n",
    "skipgram150analogylist=[]\n",
    "skipgram150denseanalogylist=[]\n",
    "skipgram300analogylist=[]\n",
    "skipgram300denseanalogylist=[]\n",
    "co_occurrencelist=[]\n",
    "\n",
    "\n",
    "for analogy in analogy_list:\n",
    "    if(analogy[0] in tokenizer.word_index and analogy[1] in tokenizer.word_index and analogy[2] in tokenizer.word_index and analogy[3] in tokenizer.word_index):\n",
    "        try:\n",
    "            co_occurrenceanalogy=analogy_check(analogy,tf_cooc, tokenizer.word_index )\n",
    "            cbow50analogy=analogy_check(analogy,embed_cbow_50, tokenizer.word_index )\n",
    "            cbow150analogy=analogy_check(analogy,embed_cbow_150, tokenizer.word_index )\n",
    "            cbow300analogy=analogy_check(analogy,embed_cbow_300, tokenizer.word_index )\n",
    "            cbow50denseanalogy=analogy_check(analogy,embed_cbow_50_dense, tokenizer.word_index )\n",
    "            cbow150denseanalogy=analogy_check(analogy,embed_cbow_150_dense, tokenizer.word_index )\n",
    "            cbow300denseanalogy=analogy_check(analogy,embed_cbow_300_dense, tokenizer.word_index )\n",
    "            skipgram50analogy=analogy_check(analogy,embed_skipgram_50, tokenizer.word_index )\n",
    "            skipgram150analogy=analogy_check(analogy,embed_skipgram_150, tokenizer.word_index )\n",
    "            skipgram300analogy=analogy_check(analogy,embed_skipgram_300, tokenizer.word_index )\n",
    "            skipgram50denseanalogy=analogy_check(analogy,embed_skipgram_50_dense, tokenizer.word_index )\n",
    "            skipgram150denseanalogy=analogy_check(analogy,embed_skipgram_150_dense, tokenizer.word_index )\n",
    "            skipgram300denseanalogy=analogy_check(analogy,embed_skipgram_300_dense, tokenizer.word_index )\n",
    "            \n",
    "            \n",
    "            \n",
    "            print(\"co-occurance: {}, {}, {}, {}: {}\".format(analogy[0],analogy[1],analogy[2],analogy[3],co_occurrenceanalogy))\n",
    "            print(\"cbow_50: {}, {}, {}, {}: {}\".format(analogy[0],analogy[1],analogy[2],analogy[3],cbow50analogy))\n",
    "            print(\"cbow_150: {}, {}, {}, {}: {}\".format(analogy[0],analogy[1],analogy[2],analogy[3],cbow150analogy))\n",
    "            print(\"cbow_300: {}, {}, {}, {}: {}\".format(analogy[0],analogy[1],analogy[2],analogy[3],cbow300analogy))\n",
    "            print(\"cbow_50_dense: {}, {}, {}, {}: {}\".format(analogy[0],analogy[1],analogy[2],analogy[3],cbow50denseanalogy))\n",
    "            print(\"cbow_150_dense: {}, {}, {}, {}: {}\".format(analogy[0],analogy[1],analogy[2],analogy[3],cbow150denseanalogy))\n",
    "            print(\"cbow_300_dense: {}, {}, {}, {}: {}\".format(analogy[0],analogy[1],analogy[2],analogy[3],cbow300denseanalogy))\n",
    "            print(\"skipgram_50: {}, {}, {}, {}: {}\".format(analogy[0],analogy[1],analogy[2],analogy[3],skipgram50analogy))\n",
    "            print(\"skipgram_150: {}, {}, {}, {}: {}\".format(analogy[0],analogy[1],analogy[2],analogy[3],skipgram150analogy))\n",
    "            print(\"skipgram_300: {}, {}, {}, {}: {}\".format(analogy[0],analogy[1],analogy[2],analogy[3],skipgram300analogy))\n",
    "            print(\"skipgram_50_dense: {}, {}, {}, {}: {}\".format(analogy[0],analogy[1],analogy[2],analogy[3],skipgram50denseanalogy))\n",
    "            print(\"skipgram_150_dense: {}, {}, {}, {}: {}\".format(analogy[0],analogy[1],analogy[2],analogy[3],skipgram150denseanalogy))\n",
    "            print(\"skipgram_300_dense: {}, {}, {}, {}: {}\".format(analogy[0],analogy[1],analogy[2],analogy[3],skipgram300denseanalogy))\n",
    "            \n",
    "            \n",
    "            co_occurrencelist.append(co_occurrence)\n",
    "            cbow50analogylist.append(cbow50analogy)\n",
    "            cbow150analogylist.append(cbow150analogy)\n",
    "            cbow300analogylist.append(cbow300analogy)\n",
    "            cbow50denseanalogylist.append(cbow50denseanalogy)\n",
    "            cbow150denseanalogylist.append(cbow150denseanalogy)\n",
    "            cbow300denseanalogylist.append(cbow300denseanalogy)\n",
    "            skipgram50analogylist.append(skipgram50analogy)\n",
    "            skipgram150analogylist.append(skipgram150analogy)\n",
    "            skipgram300analogylist.append(skipgram300analogy)\n",
    "            skipgram50denseanalogylist.append(skipgram50denseanalogy)\n",
    "            skipgram150denseanalogylist.append(skipgram150denseanalogy)\n",
    "            skipgram300denseanalogylist.append(skipgram300denseanalogy)\n",
    "            \n",
    "            \n",
    "            print()\n",
    "        except KeyError:\n",
    "            continue\n",
    "    \n",
    "\n"
   ]
  },
  {
   "cell_type": "markdown",
   "metadata": {},
   "source": [
    "Interpretation results of the visualization"
   ]
  },
  {
   "cell_type": "code",
   "execution_count": 262,
   "metadata": {},
   "outputs": [
    {
     "data": {
      "image/png": "[encoded data removed]",
      "text/plain": [
       "<matplotlib.figure.Figure at 0x248be0314e0>"
      ]
     },
     "metadata": {},
     "output_type": "display_data"
    },
    {
     "name": "stdout",
     "output_type": "stream",
     "text": [
      "['find' 'finds' 'say' 'says']\n"
     ]
    }
   ],
   "source": [
    "#co_occurrence (tf normalized)\n",
    "\n",
    "embedlist=[]\n",
    "for i in range(4):\n",
    "    #embedlist.append(word2vec[analogy_list[1][i]])\n",
    "    embedlist.append(tf_cooc[tokenizer.word_index[w2visualize[i]]-1])\n",
    "plt.title(\"Co-occurrence (tf normalized)\")\n",
    "draw_word_vecs(embedlist,w2visualize)    \n",
    "print(w2visualize)\n"
   ]
  },
  {
   "cell_type": "markdown",
   "metadata": {},
   "source": [
    "Using tf-normalized co-occurrence matrix as the embedding matrux, we can see that "
   ]
  },
  {
   "cell_type": "markdown",
   "metadata": {},
   "source": [
    "## 2.6 \n",
    "### Discussion of the advantages of CBOW and Skipgram, the advantages of negative sampling and drawbacks of CBOW and Skipgram\n",
    "\n",
    "CBOW tries to predict a word by context, it sees the context and maximizes the probability of the target word.\n",
    "This means CBOW is good at predicting frequent words. To train CBOW a reasonably low amount of data is sufficient.\n",
    "The drawback of CBOW is that whilst it will preform well at predicting frequent words it will have low accuracy for less frequent words.\n",
    "this is because some words compete in the sense that they are a valid target for the same context.\n",
    "The more frequent word will then be predicted.\n",
    "\n",
    "In negative sampling we choose random words to pair with the target and have an output of 0. \n",
    "The updating of the weights is then performed on these K samples, which reduces the computational requirements.\n",
    "The model does not need all observations but simply only the K sampled pairs (context + target).\n",
    "\n",
    "Skip gram is designed to predict context. It sees the target and tries to find the context around the word. \n",
    "Skip gram is rather well suited even for rare words. Thake the example delightfull, it will try to predict something like yesterday was a day.\n",
    "Whilst if CBOw would have gotten this context delightfull would have never been predicted it would have chosen more frequent words like good.\n",
    "The drawback for skip gram is that it requires a large amount of data to train. This is because if we for example look at the delightfull word it will have context.\n",
    "Similar nice will also have a context, delightfull day and nice day are 2 independant sets. In cbow this use of nice and delightfull would be competing since the context day has both \n",
    "delightfull and nice as targets."
   ]
  },
  {
   "cell_type": "markdown",
   "metadata": {},
   "source": [
    "## 2.7\n",
    "### Load pre-trained embeddings on large corpuses (see the pdf file). You only have to consider the word embeddings with an embedding size of 300"
   ]
  },
  {
   "cell_type": "code",
   "execution_count": 12,
   "metadata": {},
   "outputs": [],
   "source": [
    "#load pretrained word embeddings of word2vec\n",
    "\n",
    "path_word2vec = \"tes\\GoogleNews-vectors-negative300.bin\"\n",
    "\n",
    "word2vec = KeyedVectors.load_word2vec_format(path_word2vec, binary=True)"
   ]
  },
  {
   "cell_type": "code",
   "execution_count": 17,
   "metadata": {},
   "outputs": [],
   "source": [
    "#load pretraind word embeddings of Glove\n",
    "import gensim\n",
    "#path = \"tes\\glove.6B\\glove.6B.300d_converted.txt\"\n",
    "path = \"tes\\glove.6B.300d.txt\"\n",
    "\n",
    "#convert GloVe into word2vec format\n",
    "gensim.scripts.glove2word2vec.get_glove_info(path)\n",
    "gensim.scripts.glove2word2vec.glove2word2vec(path, \"glove_converted.txt\")\n",
    "\n",
    "glove = KeyedVectors.load_word2vec_format(\"glove_converted.txt\", binary=False)\n",
    "\n"
   ]
  },
  {
   "cell_type": "code",
   "execution_count": 265,
   "metadata": {},
   "outputs": [
    {
     "name": "stdout",
     "output_type": "stream",
     "text": [
      "w2v: sudden, suddenly, usual, usually: 0.22255026056670402\n",
      "glove: sudden, suddenly, usual, usually: 0.3100777731068751\n",
      "cbow: sudden, suddenly, usual, usually: 0.04262983580543956\n",
      "cbow_dense: sudden, suddenly, usual, usually: 0.057512587300851306\n",
      "skipgram: sudden, suddenly, usual, usually: 0.025398620492292738\n",
      "skipgram_dense: sudden, suddenly, usual, usually: 0.0379434827632857\n",
      "\n",
      "w2v: bad, worse, good, better: 0.6724906513772779\n",
      "glove: bad, worse, good, better: 0.6565830036364912\n",
      "cbow: bad, worse, good, better: 0.08364212988123694\n",
      "cbow_dense: bad, worse, good, better: 0.022567480791767187\n",
      "skipgram: bad, worse, good, better: 0.014283902125049552\n",
      "skipgram_dense: bad, worse, good, better: 0.06542767465641082\n",
      "\n",
      "w2v: go, going, look, looking: 0.4437767197062708\n",
      "glove: go, going, look, looking: 0.6695781772903449\n",
      "cbow: go, going, look, looking: 0.11739576262876612\n",
      "cbow_dense: go, going, look, looking: 0.014954370905789528\n",
      "skipgram: go, going, look, looking: 0.1897161720304399\n",
      "skipgram_dense: go, going, look, looking: 0.002864495321771528\n",
      "\n",
      "w2v: he, she, his, her: 0.661601926269319\n",
      "glove: he, she, his, her: 0.7343965200095653\n",
      "cbow: he, she, his, her: 0.022474709476888687\n",
      "cbow_dense: he, she, his, her: 0.12253203367780965\n",
      "skipgram: he, she, his, her: 0.1928937824570437\n",
      "skipgram_dense: he, she, his, her: 0.1511302407262479\n",
      "\n",
      "w2v: brother, sister, his, her: 0.29478371779476814\n",
      "glove: brother, sister, his, her: 0.565070276491166\n",
      "cbow: brother, sister, his, her: 0.07589060484117083\n",
      "cbow_dense: brother, sister, his, her: 0.010614877330893632\n",
      "skipgram: brother, sister, his, her: 0.15242621645498913\n",
      "skipgram_dense: brother, sister, his, her: 0.10670694926142113\n",
      "\n",
      "w2v: listen, listening, look, looking: 0.21896109979844153\n",
      "glove: listen, listening, look, looking: 0.4071841107300849\n",
      "cbow: listen, listening, look, looking: 0.23802999618462123\n",
      "cbow_dense: listen, listening, look, looking: 0.08170528413458206\n",
      "skipgram: listen, listening, look, looking: 0.012053642266116044\n",
      "skipgram_dense: listen, listening, look, looking: 0.0406596642434014\n",
      "\n",
      "w2v: saying, said, thinking, thought: 0.40956290213903407\n",
      "glove: saying, said, thinking, thought: 0.49768632598408674\n",
      "cbow: saying, said, thinking, thought: 0.3385169623849108\n",
      "cbow_dense: saying, said, thinking, thought: 0.12383424063284779\n",
      "skipgram: saying, said, thinking, thought: 0.30719562937336314\n",
      "skipgram_dense: saying, said, thinking, thought: 0.08585073444779104\n",
      "\n",
      "w2v: bird, birds, cat, cats: 0.548314343723498\n",
      "glove: bird, birds, cat, cats: 0.48856988240789534\n",
      "cbow: bird, birds, cat, cats: 0.1781694964528609\n",
      "cbow_dense: bird, birds, cat, cats: 0.14467242053834647\n",
      "skipgram: bird, birds, cat, cats: 0.12433095616959039\n",
      "skipgram_dense: bird, birds, cat, cats: 0.05631322940932175\n",
      "\n",
      "w2v: good, better, old, older: 0.21694786651491343\n",
      "glove: good, better, old, older: 0.40961181661362545\n",
      "cbow: good, better, old, older: 0.24294226160000545\n",
      "cbow_dense: good, better, old, older: 0.18656535061624072\n",
      "skipgram: good, better, old, older: 0.16584128942361212\n",
      "skipgram_dense: good, better, old, older: 0.05186729010261828\n",
      "\n",
      "w2v: good, better, quick, quicker: 0.5330237925619995\n",
      "glove: good, better, quick, quicker: 0.5328881245927063\n",
      "cbow: good, better, quick, quicker: 0.03208647290314115\n",
      "cbow_dense: good, better, quick, quicker: 0.051326262550663464\n",
      "skipgram: good, better, quick, quicker: 0.026034704557969784\n",
      "skipgram_dense: good, better, quick, quicker: 0.0796093389770551\n",
      "\n",
      "w2v: large, largest, good, best: 0.21683160333463167\n",
      "glove: large, largest, good, best: 0.2652648164246623\n",
      "cbow: large, largest, good, best: 0.13627840091820803\n",
      "cbow_dense: large, largest, good, best: 0.05309922636686337\n",
      "skipgram: large, largest, good, best: 0.1725711060097743\n",
      "skipgram_dense: large, largest, good, best: 0.053627787932685286\n",
      "\n",
      "w2v: falling, fell, knowing, knew: 0.14287526113350987\n",
      "glove: falling, fell, knowing, knew: 0.15409427727346053\n",
      "cbow: falling, fell, knowing, knew: 0.01912836021160874\n",
      "cbow_dense: falling, fell, knowing, knew: 0.037205425222480805\n",
      "skipgram: falling, fell, knowing, knew: 0.01463649822550943\n",
      "skipgram_dense: falling, fell, knowing, knew: 0.03872969424142178\n",
      "\n",
      "w2v: walk, walking, think, thinking: 0.25107561442774934\n",
      "glove: walk, walking, think, thinking: 0.4035633827468627\n",
      "cbow: walk, walking, think, thinking: 0.1371422823556235\n",
      "cbow_dense: walk, walking, think, thinking: 0.25241882965411033\n",
      "skipgram: walk, walking, think, thinking: 0.05063676675719801\n",
      "skipgram_dense: walk, walking, think, thinking: 0.020751693251079326\n",
      "\n",
      "w2v: child, children, cat, cats: 0.36624447596308296\n",
      "glove: child, children, cat, cats: 0.28044855781310063\n",
      "cbow: child, children, cat, cats: 0.4224878099785585\n",
      "cbow_dense: child, children, cat, cats: 0.15971883179637444\n",
      "skipgram: child, children, cat, cats: 0.1633643593580084\n",
      "skipgram_dense: child, children, cat, cats: 0.08558659954598827\n",
      "\n",
      "w2v: dog, dogs, eye, eyes: 0.13321162577935888\n",
      "glove: dog, dogs, eye, eyes: 0.3071176163860798\n",
      "cbow: dog, dogs, eye, eyes: 0.08293971404713851\n",
      "cbow_dense: dog, dogs, eye, eyes: 0.04959143883742041\n",
      "skipgram: dog, dogs, eye, eyes: 0.036955218552049134\n",
      "skipgram_dense: dog, dogs, eye, eyes: 0.09854696917931136\n",
      "\n",
      "w2v: hand, hands, rat, rats: 0.04862699542761563\n",
      "glove: hand, hands, rat, rats: 0.05072466972752036\n",
      "cbow: hand, hands, rat, rats: 0.06167524716738153\n",
      "cbow_dense: hand, hands, rat, rats: 0.21763028239299223\n",
      "skipgram: hand, hands, rat, rats: 0.056338820916069676\n",
      "skipgram_dense: hand, hands, rat, rats: 0.07454463081175015\n",
      "\n",
      "w2v: eat, eats, find, finds: 0.2830192036624857\n",
      "glove: eat, eats, find, finds: 0.30765008316898457\n",
      "cbow: eat, eats, find, finds: 0.38332741252697833\n",
      "cbow_dense: eat, eats, find, finds: 0.02799474581397439\n",
      "skipgram: eat, eats, find, finds: 0.1310917767169901\n",
      "skipgram_dense: eat, eats, find, finds: 0.004353422652560424\n",
      "\n",
      "w2v: find, finds, say, says: 0.38303518154481636\n",
      "glove: find, finds, say, says: 0.4858085924624003\n",
      "cbow: find, finds, say, says: 0.4225110412871306\n",
      "cbow_dense: find, finds, say, says: 0.09204581834643971\n",
      "skipgram: find, finds, say, says: 0.1485523068621352\n",
      "skipgram_dense: find, finds, say, says: 0.024942033757297807\n",
      "\n",
      "w2v: old, older, good, better: 0.21694786651491343\n",
      "glove: old, older, good, better: 0.40961181661362545\n",
      "cbow: old, older, good, better: 0.24294226160000545\n",
      "cbow_dense: old, older, good, better: 0.18656535061624072\n",
      "skipgram: old, older, good, better: 0.16584128942361212\n",
      "skipgram_dense: old, older, good, better: 0.05186729010261828\n",
      "\n",
      "w2v: large, larger, quick, quicker: 0.22521266715730429\n",
      "glove: large, larger, quick, quicker: 0.22567543578240246\n",
      "cbow: large, larger, quick, quicker: 0.04205617897711103\n",
      "cbow_dense: large, larger, quick, quicker: 0.09311372510784723\n",
      "skipgram: large, larger, quick, quicker: 0.06756714447400183\n",
      "skipgram_dense: large, larger, quick, quicker: 0.06817445995579048\n",
      "\n",
      "w2v: go, going, listen, listening: 0.23913213804946878\n",
      "glove: go, going, listen, listening: 0.42662491131551733\n",
      "cbow: go, going, listen, listening: 0.028175657728302012\n",
      "cbow_dense: go, going, listen, listening: 0.08877512926435754\n",
      "skipgram: go, going, listen, listening: 0.15185486231081524\n",
      "skipgram_dense: go, going, listen, listening: 0.010873228635317379\n",
      "\n",
      "w2v: run, running, walk, walking: 0.4228847541114353\n",
      "glove: run, running, walk, walking: 0.47095163467027384\n",
      "cbow: run, running, walk, walking: 0.06752979323171769\n",
      "cbow_dense: run, running, walk, walking: 0.13319373973395193\n",
      "skipgram: run, running, walk, walking: 0.10293102828061876\n",
      "skipgram_dense: run, running, walk, walking: 0.036897706755464\n",
      "\n",
      "w2v: run, running, think, thinking: 0.24565625385619846\n",
      "glove: run, running, think, thinking: 0.3926802350946642\n",
      "cbow: run, running, think, thinking: 0.13662853663187174\n",
      "cbow_dense: run, running, think, thinking: 0.013760378794701674\n",
      "skipgram: run, running, think, thinking: 0.06572295097742854\n",
      "skipgram_dense: run, running, think, thinking: 0.13502023716520042\n",
      "\n",
      "w2v: say, saying, sit, sitting: 0.19387733146836375\n",
      "glove: say, saying, sit, sitting: 0.33033972016602986\n",
      "cbow: say, saying, sit, sitting: 0.1255869428992714\n",
      "cbow_dense: say, saying, sit, sitting: 0.002778512915029485\n",
      "skipgram: say, saying, sit, sitting: 0.08653137863087766\n",
      "skipgram_dense: say, saying, sit, sitting: 0.031370623390230355\n",
      "\n",
      "w2v: alice, she, rabbit, he: 0.4352757480653299\n",
      "glove: alice, she, rabbit, he: 0.4769463106145698\n",
      "cbow: alice, she, rabbit, he: 0.23737374549441895\n",
      "cbow_dense: alice, she, rabbit, he: 0.22134533492778896\n",
      "skipgram: alice, she, rabbit, he: 0.1325306631609167\n",
      "skipgram_dense: alice, she, rabbit, he: 0.1196936498430301\n",
      "\n",
      "w2v: alice, her, rabbit, him: 0.4179929072878149\n",
      "glove: alice, her, rabbit, him: 0.4330083526998539\n",
      "cbow: alice, her, rabbit, him: 0.4694802520899805\n",
      "cbow_dense: alice, her, rabbit, him: 0.3085777141782657\n",
      "skipgram: alice, her, rabbit, him: 0.16623145761281516\n",
      "skipgram_dense: alice, her, rabbit, him: 0.004352950260186055\n",
      "\n",
      "w2v: alice, girl, rabbit, sir: 0.391360154857756\n",
      "glove: alice, girl, rabbit, sir: 0.3090358756196289\n",
      "cbow: alice, girl, rabbit, sir: 0.29111823565411055\n",
      "cbow_dense: alice, girl, rabbit, sir: 0.17745145079999616\n",
      "skipgram: alice, girl, rabbit, sir: 0.013468505209538413\n",
      "skipgram_dense: alice, girl, rabbit, sir: 0.16162886469339285\n",
      "\n",
      "w2v: his, her, he, she: 0.661601926269319\n",
      "glove: his, her, he, she: 0.7343965200095653\n",
      "cbow: his, her, he, she: 0.022474709476888687\n",
      "cbow_dense: his, her, he, she: 0.12253203367780965\n",
      "skipgram: his, her, he, she: 0.1928937824570437\n",
      "skipgram_dense: his, her, he, she: 0.1511302407262479\n",
      "\n",
      "w2v: long, longer, quick, quicker: 0.27729260342003326\n",
      "glove: long, longer, quick, quicker: 0.3099571305282724\n",
      "cbow: long, longer, quick, quicker: 0.09401260595447117\n",
      "cbow_dense: long, longer, quick, quicker: 0.07831883522036924\n",
      "skipgram: long, longer, quick, quicker: 0.07102139535964663\n",
      "skipgram_dense: long, longer, quick, quicker: 0.03754801662507641\n",
      "\n",
      "w2v: long, longer, small, smaller: 0.2388453687212515\n",
      "glove: long, longer, small, smaller: 0.45009013669954157\n",
      "cbow: long, longer, small, smaller: 0.19269746490298645\n",
      "cbow_dense: long, longer, small, smaller: 0.35016791043829654\n",
      "skipgram: long, longer, small, smaller: 0.21245308466171794\n",
      "skipgram_dense: long, longer, small, smaller: 0.02207475087097485\n",
      "\n",
      "w2v: long, longer, bad, worse: 0.2819685717087468\n",
      "glove: long, longer, bad, worse: 0.40626429575998596\n",
      "cbow: long, longer, bad, worse: 0.20373219592586617\n",
      "cbow_dense: long, longer, bad, worse: 0.02967005557613777\n",
      "skipgram: long, longer, bad, worse: 0.04225910785783235\n",
      "skipgram_dense: long, longer, bad, worse: 0.0009287152378468827\n",
      "\n",
      "w2v: go, going, look, looking: 0.4437767197062708\n",
      "glove: go, going, look, looking: 0.6695781772903449\n",
      "cbow: go, going, look, looking: 0.11739576262876612\n",
      "cbow_dense: go, going, look, looking: 0.014954370905789528\n",
      "skipgram: go, going, look, looking: 0.1897161720304399\n",
      "skipgram_dense: go, going, look, looking: 0.002864495321771528\n",
      "\n",
      "w2v: listen, listening, look, looking: 0.21896109979844153\n",
      "glove: listen, listening, look, looking: 0.4071841107300849\n",
      "cbow: listen, listening, look, looking: 0.23802999618462123\n",
      "cbow_dense: listen, listening, look, looking: 0.08170528413458206\n",
      "skipgram: listen, listening, look, looking: 0.012053642266116044\n",
      "skipgram_dense: listen, listening, look, looking: 0.0406596642434014\n",
      "\n",
      "w2v: swim, swimming, sit, sitting: 0.15879369259853693\n",
      "glove: swim, swimming, sit, sitting: 0.24853629762099705\n",
      "cbow: swim, swimming, sit, sitting: 0.04745686624994828\n",
      "cbow_dense: swim, swimming, sit, sitting: 0.03918166245483594\n",
      "skipgram: swim, swimming, sit, sitting: 0.0759698816019391\n",
      "skipgram_dense: swim, swimming, sit, sitting: 0.03563140413128219\n",
      "\n",
      "w2v: run, running, listen, listening: 0.09999018014940893\n",
      "glove: run, running, listen, listening: 0.15729225189857585\n",
      "cbow: run, running, listen, listening: 0.2172115315370583\n",
      "cbow_dense: run, running, listen, listening: 0.16730155288174092\n",
      "skipgram: run, running, listen, listening: 0.05989072385340193\n",
      "skipgram_dense: run, running, listen, listening: 0.052294495200113054\n",
      "\n",
      "w2v: think, thinking, read, reading: 0.3014273799197356\n",
      "glove: think, thinking, read, reading: 0.411297884485633\n",
      "cbow: think, thinking, read, reading: 0.16911559484697625\n",
      "cbow_dense: think, thinking, read, reading: 0.08962903058811725\n",
      "skipgram: think, thinking, read, reading: 0.022228808308668864\n",
      "skipgram_dense: think, thinking, read, reading: 0.03892256124563785\n",
      "\n",
      "w2v: up, down, close, far: 0.31230518986077627\n",
      "glove: up, down, close, far: 0.6523693175355175\n",
      "cbow: up, down, close, far: 0.21333871878277946\n",
      "cbow_dense: up, down, close, far: 0.007063529840594001\n",
      "skipgram: up, down, close, far: 0.1783465178663802\n",
      "skipgram_dense: up, down, close, far: 0.018702310370623847\n",
      "\n"
     ]
    }
   ],
   "source": [
    "#w2v and glove analogy performance\n",
    "w2vanalogylist=[]\n",
    "gloveanalogylist=[]\n",
    "cbowanalogylist=[]\n",
    "cbowdenseanalogylist=[]\n",
    "skipgramanalogylist=[]\n",
    "skipgramdenseanalogylist=[]\n",
    "\n",
    "for analogy in analogy_list:\n",
    "    if(analogy[0] in tokenizer.word_index and analogy[1] in tokenizer.word_index and analogy[2] in tokenizer.word_index and analogy[3] in tokenizer.word_index):\n",
    "        try:\n",
    "            w2vanalogy=word2vec.n_similarity([analogy[0],analogy[1]],[analogy[2],analogy[3]])\n",
    "            gloveanalogy=glove.n_similarity([analogy[0],analogy[1]],[analogy[2],analogy[3]])\n",
    "            cbowanalogy=analogy_check(analogy,embed_cbow_300, tokenizer.word_index )\n",
    "            cbowdenseanalogy=analogy_check(analogy,embed_cbow_300_dense, tokenizer.word_index )\n",
    "            skipgramanalogy=analogy_check(analogy,embed_skipgram_300, tokenizer.word_index )\n",
    "            skipgramdenseanalogy=analogy_check(analogy,embed_skipgram_300_dense, tokenizer.word_index )\n",
    "            \n",
    "            print(\"w2v: {}, {}, {}, {}: {}\".format(analogy[0],analogy[1],analogy[2],analogy[3],w2vanalogy))\n",
    "            print(\"glove: {}, {}, {}, {}: {}\".format(analogy[0],analogy[1],analogy[2],analogy[3],gloveanalogy))\n",
    "            print(\"cbow: {}, {}, {}, {}: {}\".format(analogy[0],analogy[1],analogy[2],analogy[3],cbowanalogy))\n",
    "            print(\"cbow_dense: {}, {}, {}, {}: {}\".format(analogy[0],analogy[1],analogy[2],analogy[3],cbowdenseanalogy))\n",
    "            print(\"skipgram: {}, {}, {}, {}: {}\".format(analogy[0],analogy[1],analogy[2],analogy[3],skipgramanalogy))\n",
    "            print(\"skipgram_dense: {}, {}, {}, {}: {}\".format(analogy[0],analogy[1],analogy[2],analogy[3],skipgramdenseanalogy))\n",
    "            \n",
    "            \n",
    "            w2vanalogylist.append(w2vanalogy)\n",
    "            gloveanalogylist.append(gloveanalogy)\n",
    "            cbowanalogylist.append(cbowanalogy)\n",
    "            cbowdenseanalogylist.append(cbowdenseanalogy)\n",
    "            skipgramanalogylist.append(skipgramanalogy)\n",
    "            skipgramdenseanalogylist.append(skipgramdenseanalogy)\n",
    "            \n",
    "            \n",
    "            print()\n",
    "        except KeyError:\n",
    "            continue\n",
    "    \n",
    "\n"
   ]
  },
  {
   "cell_type": "code",
   "execution_count": 276,
   "metadata": {},
   "outputs": [
    {
     "data": {
      "image/png": "[encoded data removed]",
      "text/plain": [
       "<matplotlib.figure.Figure at 0x2489b2cf518>"
      ]
     },
     "metadata": {},
     "output_type": "display_data"
    },
    {
     "name": "stdout",
     "output_type": "stream",
     "text": [
      "['find' 'finds' 'say' 'says']\n"
     ]
    }
   ],
   "source": [
    "#Visualize the pre-trained word embeddings\n",
    "    \n",
    "embedlist=[]\n",
    "for i in range(4):\n",
    "    embedlist.append(word2vec[w2visualize[i]])\n",
    "    #embedlist.append(embed_skipgram_300[tokenizer.word_index[w2visualize[i]]-1])\n",
    "len(embedlist)\n",
    "plt.title(\"Word2Vec\")\n",
    "draw_word_vecs(embedlist,w2visualize)    \n",
    "print(w2visualize)"
   ]
  },
  {
   "cell_type": "code",
   "execution_count": 278,
   "metadata": {},
   "outputs": [
    {
     "data": {
      "image/png": "[encoded data removed]",
      "text/plain": [
       "<matplotlib.figure.Figure at 0x2489b385a58>"
      ]
     },
     "metadata": {},
     "output_type": "display_data"
    },
    {
     "name": "stdout",
     "output_type": "stream",
     "text": [
      "['find' 'finds' 'say' 'says']\n"
     ]
    }
   ],
   "source": [
    "#Visualize the pre-trained word embeddings\n",
    "    \n",
    "embedlist=[]\n",
    "for i in range(4):\n",
    "    embedlist.append(glove[w2visualize[i]])\n",
    "    #embedlist.append(embed_skipgram_300[tokenizer.word_index[w2visualize[i]]-1])\n",
    "len(embedlist)\n",
    "plt.title(\"Glove\")\n",
    "draw_word_vecs(embedlist,w2visualize)    \n",
    "print(w2visualize)"
   ]
  },
  {
   "cell_type": "code",
   "execution_count": 273,
   "metadata": {},
   "outputs": [
    {
     "data": {
      "image/png": "[encoded data removed]",
      "text/plain": [
       "<matplotlib.figure.Figure at 0x2489b177390>"
      ]
     },
     "metadata": {},
     "output_type": "display_data"
    },
    {
     "name": "stdout",
     "output_type": "stream",
     "text": [
      "['find' 'finds' 'say' 'says']\n"
     ]
    }
   ],
   "source": [
    "#Visualize the pre-trained word embeddings\n",
    "    \n",
    "embedlist=[]\n",
    "for i in range(4):\n",
    "    #embedlist.append(word2vec[analogy_list[1][i]])\n",
    "    embedlist.append(embed_cbow_300[tokenizer.word_index[w2visualize[i]]-1])\n",
    "len(embedlist)\n",
    "plt.title(\"CBOW 300\")\n",
    "draw_word_vecs(embedlist,w2visualize)    \n",
    "print(w2visualize)"
   ]
  },
  {
   "cell_type": "code",
   "execution_count": 274,
   "metadata": {},
   "outputs": [
    {
     "data": {
      "image/png": "[encoded data removed]",
      "text/plain": [
       "<matplotlib.figure.Figure at 0x2489b1da6d8>"
      ]
     },
     "metadata": {},
     "output_type": "display_data"
    },
    {
     "name": "stdout",
     "output_type": "stream",
     "text": [
      "['find' 'finds' 'say' 'says']\n"
     ]
    }
   ],
   "source": [
    "#Visualize the pre-trained word embeddings\n",
    "    \n",
    "embedlist=[]\n",
    "for i in range(4):\n",
    "    #embedlist.append(word2vec[analogy_list[1][i]])\n",
    "    embedlist.append(embed_cbow_300_dense[tokenizer.word_index[w2visualize[i]]-1])\n",
    "len(embedlist)\n",
    "plt.title(\"CBOW 300 Dense\")\n",
    "draw_word_vecs(embedlist,w2visualize)    \n",
    "print(w2visualize)"
   ]
  },
  {
   "cell_type": "code",
   "execution_count": 272,
   "metadata": {},
   "outputs": [
    {
     "data": {
      "image/png": "[encoded data removed]",
      "text/plain": [
       "<matplotlib.figure.Figure at 0x2489b1776a0>"
      ]
     },
     "metadata": {},
     "output_type": "display_data"
    },
    {
     "name": "stdout",
     "output_type": "stream",
     "text": [
      "['find' 'finds' 'say' 'says']\n"
     ]
    }
   ],
   "source": [
    "#Visualize the pre-trained word embeddings\n",
    "    \n",
    "embedlist=[]\n",
    "for i in range(4):\n",
    "    #embedlist.append(word2vec[analogy_list[1][i]])\n",
    "    embedlist.append(embed_skipgram_300[tokenizer.word_index[w2visualize[i]]-1])\n",
    "len(embedlist)\n",
    "plt.title(\"Skipgram 300\")\n",
    "draw_word_vecs(embedlist,w2visualize)    \n",
    "print(w2visualize)"
   ]
  },
  {
   "cell_type": "code",
   "execution_count": 275,
   "metadata": {},
   "outputs": [
    {
     "data": {
      "image/png": "[encoded data removed]",
      "text/plain": [
       "<matplotlib.figure.Figure at 0x2489b252a90>"
      ]
     },
     "metadata": {},
     "output_type": "display_data"
    },
    {
     "name": "stdout",
     "output_type": "stream",
     "text": [
      "['find' 'finds' 'say' 'says']\n"
     ]
    }
   ],
   "source": [
    "#Visualize the pre-trained word embeddings\n",
    "    \n",
    "embedlist=[]\n",
    "for i in range(4):\n",
    "    #embedlist.append(word2vec[analogy_list[1][i]])\n",
    "    embedlist.append(embed_skipgram_300_dense[tokenizer.word_index[w2visualize[i]]-1])\n",
    "len(embedlist)\n",
    "plt.title(\"Skipgram 300 Dense\")\n",
    "draw_word_vecs(embedlist,w2visualize)    \n",
    "print(w2visualize)"
   ]
  },
  {
   "cell_type": "code",
   "execution_count": null,
   "metadata": {},
   "outputs": [],
   "source": []
  },
  {
   "cell_type": "markdown",
   "metadata": {},
   "source": [
    "Comparison performance with your own trained word embeddings"
   ]
  },
  {
   "cell_type": "code",
   "execution_count": null,
   "metadata": {},
   "outputs": [],
   "source": []
  }
 ],
 "metadata": {
  "kernelspec": {
   "display_name": "Python 3",
   "language": "python",
   "name": "python3"
  },
  "language_info": {
   "codemirror_mode": {
    "name": "ipython",
    "version": 3
   },
   "file_extension": ".py",
   "mimetype": "text/x-python",
   "name": "python",
   "nbconvert_exporter": "python",
   "pygments_lexer": "ipython3",
   "version": "3.6.1"
  }
 },
 "nbformat": 4,
 "nbformat_minor": 2
}
